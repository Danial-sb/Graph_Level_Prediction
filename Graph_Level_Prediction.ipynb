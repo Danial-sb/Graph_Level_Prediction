{
  "nbformat": 4,
  "nbformat_minor": 0,
  "metadata": {
    "colab": {
      "provenance": [],
      "authorship_tag": "ABX9TyPsPEDqCN+/9KBPaku6grYT",
      "include_colab_link": true
    },
    "kernelspec": {
      "name": "python3",
      "display_name": "Python 3"
    },
    "language_info": {
      "name": "python"
    }
  },
  "cells": [
    {
      "cell_type": "markdown",
      "metadata": {
        "id": "view-in-github",
        "colab_type": "text"
      },
      "source": [
        "<a href=\"https://colab.research.google.com/github/Danial-sb/Graph_Level_Prediction/blob/main/Graph_Level_Prediction.ipynb\" target=\"_parent\"><img src=\"https://colab.research.google.com/assets/colab-badge.svg\" alt=\"Open In Colab\"/></a>"
      ]
    },
    {
      "cell_type": "markdown",
      "source": [
        "#### In this colab, we do graph level prediction for MUTAG dataset. In the part of training the GNN, first we embed the nodes via message passing. second, we aggregate node embeddings into a graph embedding, and finally, we train a classifier on the graph embeddings."
      ],
      "metadata": {
        "id": "bNG1kImgLO9x"
      }
    },
    {
      "cell_type": "markdown",
      "source": [
        "### **What is MUTAG dataset?**\n",
        "\n",
        "MUTAG is a collection of nitroaromatic compounds and the goal is to predict their mutagenicity on Salmonella typhimurium. Input graphs are used to represent chemical compounds, where vertices stand for atoms and are labeled by the atom type (represented by one-hot encoding), while edges between vertices represent bonds between the corresponding atoms. It includes 188 samples of chemical compounds with 7 discrete node labels.\n",
        "\n",
        "##### https://paperswithcode.com/dataset/mutag"
      ],
      "metadata": {
        "id": "Fqh6LhoVMKSJ"
      }
    },
    {
      "cell_type": "code",
      "execution_count": null,
      "metadata": {
        "colab": {
          "base_uri": "https://localhost:8080/"
        },
        "id": "tjrSopEzrPYW",
        "outputId": "a3c15b2c-1235-4c98-bec5-5aec441a7e33"
      },
      "outputs": [
        {
          "output_type": "stream",
          "name": "stdout",
          "text": [
            "1.12.1+cu113\n"
          ]
        }
      ],
      "source": [
        "import torch\n",
        "print(torch.__version__)"
      ]
    },
    {
      "cell_type": "code",
      "source": [
        "!pip install -q torch-scatter -f https://data.pyg.org/whl/torch-1.12.1+cu113.html\n",
        "!pip install -q torch-sparse -f https://data.pyg.org/whl/torch-1.12.1+cu113.html\n",
        "!pip install -q git+https://github.com/pyg-team/pytorch_geometric.git"
      ],
      "metadata": {
        "colab": {
          "base_uri": "https://localhost:8080/"
        },
        "id": "GAM342RnrWLe",
        "outputId": "22743d72-4c90-4cd8-a811-84062317667b"
      },
      "execution_count": null,
      "outputs": [
        {
          "output_type": "stream",
          "name": "stdout",
          "text": [
            "\u001b[K     |████████████████████████████████| 7.9 MB 5.3 MB/s \n",
            "\u001b[K     |████████████████████████████████| 3.5 MB 5.5 MB/s \n",
            "\u001b[?25h  Building wheel for torch-geometric (setup.py) ... \u001b[?25l\u001b[?25hdone\n"
          ]
        }
      ]
    },
    {
      "cell_type": "code",
      "source": [
        "from torch_geometric.datasets import TUDataset\n",
        "from torch_geometric.loader import DataLoader\n",
        "from torch.nn import Linear\n",
        "import torch.nn.functional as F\n",
        "from torch_geometric.nn import GCNConv\n",
        "from torch_geometric.nn import global_mean_pool\n",
        "from torch_geometric.nn import GraphConv\n",
        "import torchvision.transforms as T\n",
        "from torch.nn import BatchNorm1d"
      ],
      "metadata": {
        "id": "T4JwqGWZrfix"
      },
      "execution_count": null,
      "outputs": []
    },
    {
      "cell_type": "code",
      "source": [
        "dataset = TUDataset('/content/sample_data', 'MUTAG')\n",
        "\n",
        "print(dataset)\n",
        "print(f\"Number of the graphs: {len(dataset)}\")\n",
        "print(f\"Number of features: {dataset.num_features}\")\n",
        "print(f\"Number of classes: {dataset.num_classes}\")"
      ],
      "metadata": {
        "colab": {
          "base_uri": "https://localhost:8080/"
        },
        "id": "yMwdc2marrr6",
        "outputId": "cf63a8c9-e887-4ae2-f0cb-a02d1da38340"
      },
      "execution_count": null,
      "outputs": [
        {
          "output_type": "stream",
          "name": "stderr",
          "text": [
            "Downloading https://www.chrsmrrs.com/graphkerneldatasets/MUTAG.zip\n"
          ]
        },
        {
          "output_type": "stream",
          "name": "stdout",
          "text": [
            "MUTAG(188)\n",
            "Number of the graphs: 188\n",
            "Number of features: 7\n",
            "Number of classes: 2\n"
          ]
        },
        {
          "output_type": "stream",
          "name": "stderr",
          "text": [
            "Extracting /content/sample_data/MUTAG/MUTAG.zip\n",
            "Processing...\n",
            "Done!\n"
          ]
        }
      ]
    },
    {
      "cell_type": "code",
      "source": [
        "data = dataset[0]\n",
        "\n",
        "print(data)\n",
        "print(f\"Number of nodes in the first graph: {data.num_nodes}\")\n",
        "print(f\"Number of features in the first graph: {data.num_features}\")\n",
        "print(f\"Number of edges in the first graph: {data.num_edges}\")\n",
        "print(f'Average node degree: {data.num_edges / data.num_nodes:.2f}')"
      ],
      "metadata": {
        "colab": {
          "base_uri": "https://localhost:8080/"
        },
        "id": "BhjITcXIsvHl",
        "outputId": "fb67efd2-8a72-4f24-dbf8-5d6ebd7776bc"
      },
      "execution_count": null,
      "outputs": [
        {
          "output_type": "stream",
          "name": "stdout",
          "text": [
            "Data(edge_index=[2, 38], x=[17, 7], edge_attr=[38, 4], y=[1])\n",
            "Number of nodes in the first graph: 17\n",
            "Number of features in the first graph: 7\n",
            "Number of edges in the first graph: 38\n",
            "Average node degree: 2.24\n"
          ]
        }
      ]
    },
    {
      "cell_type": "code",
      "source": [
        "train_dataset = dataset[:140]\n",
        "test_dataset = dataset[140:]\n",
        "\n",
        "print(f'Number of training graphs: {len(train_dataset)}')\n",
        "print(f'Number of test graphs: {len(test_dataset)}')"
      ],
      "metadata": {
        "colab": {
          "base_uri": "https://localhost:8080/"
        },
        "id": "GM0O9H87tB6H",
        "outputId": "fe5092e7-9b47-4e32-eacb-942e138558a7"
      },
      "execution_count": null,
      "outputs": [
        {
          "output_type": "stream",
          "name": "stdout",
          "text": [
            "Number of training graphs: 140\n",
            "Number of test graphs: 48\n"
          ]
        }
      ]
    },
    {
      "cell_type": "code",
      "source": [
        "train_loader = DataLoader(train_dataset, batch_size=64, shuffle=True)\n",
        "test_loader = DataLoader(test_dataset, batch_size=64, shuffle=False)\n",
        "# batch maps each node to its respective graph in the batch\n",
        "for step, data in enumerate(train_loader):\n",
        "    print(f'Step {step + 1}:')\n",
        "    print('=======')\n",
        "    print(f'Number of graphs in the current batch: {data.num_graphs}')\n",
        "    print(data)\n",
        "    print()"
      ],
      "metadata": {
        "colab": {
          "base_uri": "https://localhost:8080/"
        },
        "id": "FBoB3VWAu18c",
        "outputId": "c7727abc-2c90-4dc7-9f2b-e384ce899aef"
      },
      "execution_count": null,
      "outputs": [
        {
          "output_type": "stream",
          "name": "stdout",
          "text": [
            "Step 1:\n",
            "=======\n",
            "Number of graphs in the current batch: 64\n",
            "DataBatch(edge_index=[2, 2620], x=[1178, 7], edge_attr=[2620, 4], y=[64], batch=[1178], ptr=[65])\n",
            "\n",
            "Step 2:\n",
            "=======\n",
            "Number of graphs in the current batch: 64\n",
            "DataBatch(edge_index=[2, 2486], x=[1129, 7], edge_attr=[2486, 4], y=[64], batch=[1129], ptr=[65])\n",
            "\n",
            "Step 3:\n",
            "=======\n",
            "Number of graphs in the current batch: 12\n",
            "DataBatch(edge_index=[2, 514], x=[231, 7], edge_attr=[514, 4], y=[12], batch=[231], ptr=[13])\n",
            "\n"
          ]
        }
      ]
    },
    {
      "cell_type": "markdown",
      "source": [
        "In this part, we do the message passing between nodes through 3 GCN layers. Then, we need to aggregate the embeddings to perform graph level prediction, and in this part we use average pooling."
      ],
      "metadata": {
        "id": "9zSo_5WONKLa"
      }
    },
    {
      "cell_type": "code",
      "source": [
        "class GCN(torch.nn.Module):\n",
        "  def __init__(self, input_channels, hidden_channels, output_channels):\n",
        "     super(GCN, self).__init__()\n",
        "\n",
        "     self.conv1 = GCNConv(input_channels, hidden_channels)\n",
        "     self.bn1 = BatchNorm1d(hidden_channels)\n",
        "     self.conv2 = GCNConv(hidden_channels, hidden_channels)\n",
        "     self.bn2 = BatchNorm1d(hidden_channels)\n",
        "     self.conv3 = GCNConv(hidden_channels, hidden_channels)\n",
        "     self.lin = Linear(hidden_channels, output_channels)\n",
        "\n",
        "  def forward(self, x, edge_index, batch):\n",
        "    x = self.conv1(x, edge_index)\n",
        "    x = F.relu(self.bn1(x))\n",
        "    x = self.conv2(x, edge_index)\n",
        "    x = F.relu(self.bn2(x))\n",
        "    x = self.conv3(x, edge_index)\n",
        "\n",
        "    # Average pooling (Readout layer)\n",
        "    x = global_mean_pool(x, batch)\n",
        "\n",
        "    x = F.dropout(x, 0.2, training = self.training)\n",
        "    x = self.lin(x)\n",
        "\n",
        "    return x\n",
        "\n",
        "model = GCN(dataset.num_features, 64, dataset.num_classes)\n",
        "print(model)"
      ],
      "metadata": {
        "colab": {
          "base_uri": "https://localhost:8080/"
        },
        "id": "hivsMs8Kvsx7",
        "outputId": "de990b0d-bd02-45f7-e74c-f3d8527320de"
      },
      "execution_count": null,
      "outputs": [
        {
          "output_type": "stream",
          "name": "stdout",
          "text": [
            "GCN(\n",
            "  (conv1): GCNConv(7, 64)\n",
            "  (bn1): BatchNorm1d(64, eps=1e-05, momentum=0.1, affine=True, track_running_stats=True)\n",
            "  (conv2): GCNConv(64, 64)\n",
            "  (bn2): BatchNorm1d(64, eps=1e-05, momentum=0.1, affine=True, track_running_stats=True)\n",
            "  (conv3): GCNConv(64, 64)\n",
            "  (lin): Linear(in_features=64, out_features=2, bias=True)\n",
            ")\n"
          ]
        }
      ]
    },
    {
      "cell_type": "code",
      "source": [
        "model = GCN(dataset.num_features, 64, dataset.num_classes)\n",
        "optimizer = torch.optim.Adam(model.parameters(), lr=0.01, weight_decay=5e-4)\n",
        "criterion = torch.nn.CrossEntropyLoss()\n",
        "\n",
        "def train():\n",
        "  model.train()\n",
        "  correct = 0\n",
        "  for data in train_loader:\n",
        "    out = model(data.x, data.edge_index, data.batch)\n",
        "    loss = criterion(out, data.y)\n",
        "    loss.backward()\n",
        "    optimizer.step()\n",
        "    optimizer.zero_grad()\n",
        "    pred = out.argmax(dim=1)\n",
        "    correct += int((pred == data.y).sum())\n",
        "  return loss, (correct / len(train_dataset))\n",
        "\n",
        "def test():\n",
        "     model.eval()\n",
        "     correct = 0\n",
        "     for data in test_loader:\n",
        "         out = model(data.x, data.edge_index, data.batch)  \n",
        "         pred = out.argmax(dim=1)\n",
        "         correct += int((pred == data.y).sum())\n",
        "     return correct / len(test_dataset)\n",
        "\n",
        "loss_all = []\n",
        "train_acc = []\n",
        "test_acc = []\n",
        "for epoch in range(1, 201):\n",
        "    loss, acc = train()\n",
        "    loss_all.append(loss)\n",
        "    train_acc.append(acc)\n",
        "    t_acc = test()\n",
        "    test_acc.append(t_acc)\n",
        "    print(f'Epoch: {epoch}, Train Acc: {acc:.4f}, Loss: {loss:.4f}, Test Acc: {t_acc:.4f}')\n"
      ],
      "metadata": {
        "colab": {
          "base_uri": "https://localhost:8080/"
        },
        "id": "LWPOu37IxeNl",
        "outputId": "f490a92b-c2c3-4a21-ee2d-ed9f58efe84e"
      },
      "execution_count": null,
      "outputs": [
        {
          "output_type": "stream",
          "name": "stdout",
          "text": [
            "Epoch: 1, Train Acc: 0.6786, Loss: 0.4934, Test Acc: 0.6250\n",
            "Epoch: 2, Train Acc: 0.7857, Loss: 0.4211, Test Acc: 0.6667\n",
            "Epoch: 3, Train Acc: 0.7357, Loss: 0.1730, Test Acc: 0.6250\n",
            "Epoch: 4, Train Acc: 0.7857, Loss: 0.2952, Test Acc: 0.6250\n",
            "Epoch: 5, Train Acc: 0.7857, Loss: 0.6060, Test Acc: 0.4792\n",
            "Epoch: 6, Train Acc: 0.7357, Loss: 0.6301, Test Acc: 0.6667\n",
            "Epoch: 7, Train Acc: 0.7643, Loss: 0.1833, Test Acc: 0.6250\n",
            "Epoch: 8, Train Acc: 0.7643, Loss: 0.9104, Test Acc: 0.6250\n",
            "Epoch: 9, Train Acc: 0.7571, Loss: 0.5232, Test Acc: 0.5833\n",
            "Epoch: 10, Train Acc: 0.7929, Loss: 0.4491, Test Acc: 0.6458\n",
            "Epoch: 11, Train Acc: 0.7714, Loss: 0.3390, Test Acc: 0.6458\n",
            "Epoch: 12, Train Acc: 0.7929, Loss: 0.3831, Test Acc: 0.6458\n",
            "Epoch: 13, Train Acc: 0.7714, Loss: 1.1838, Test Acc: 0.6250\n",
            "Epoch: 14, Train Acc: 0.7929, Loss: 0.5059, Test Acc: 0.7083\n",
            "Epoch: 15, Train Acc: 0.7786, Loss: 0.8432, Test Acc: 0.7500\n",
            "Epoch: 16, Train Acc: 0.7929, Loss: 0.5003, Test Acc: 0.6458\n",
            "Epoch: 17, Train Acc: 0.7929, Loss: 0.5090, Test Acc: 0.6250\n",
            "Epoch: 18, Train Acc: 0.7857, Loss: 0.5968, Test Acc: 0.6250\n",
            "Epoch: 19, Train Acc: 0.7714, Loss: 0.3451, Test Acc: 0.6875\n",
            "Epoch: 20, Train Acc: 0.7857, Loss: 0.2694, Test Acc: 0.7708\n",
            "Epoch: 21, Train Acc: 0.8071, Loss: 0.3904, Test Acc: 0.7292\n",
            "Epoch: 22, Train Acc: 0.7929, Loss: 0.6498, Test Acc: 0.7500\n",
            "Epoch: 23, Train Acc: 0.7714, Loss: 0.6350, Test Acc: 0.7083\n",
            "Epoch: 24, Train Acc: 0.7429, Loss: 0.3967, Test Acc: 0.7083\n",
            "Epoch: 25, Train Acc: 0.7857, Loss: 0.3668, Test Acc: 0.7500\n",
            "Epoch: 26, Train Acc: 0.7714, Loss: 0.7291, Test Acc: 0.7083\n",
            "Epoch: 27, Train Acc: 0.7714, Loss: 0.3799, Test Acc: 0.7083\n",
            "Epoch: 28, Train Acc: 0.7786, Loss: 0.2925, Test Acc: 0.7500\n",
            "Epoch: 29, Train Acc: 0.8071, Loss: 0.2369, Test Acc: 0.7500\n",
            "Epoch: 30, Train Acc: 0.7929, Loss: 0.5406, Test Acc: 0.7083\n",
            "Epoch: 31, Train Acc: 0.7714, Loss: 0.4943, Test Acc: 0.3542\n",
            "Epoch: 32, Train Acc: 0.8000, Loss: 0.5637, Test Acc: 0.3542\n",
            "Epoch: 33, Train Acc: 0.8071, Loss: 0.3659, Test Acc: 0.7083\n",
            "Epoch: 34, Train Acc: 0.7857, Loss: 0.2463, Test Acc: 0.7083\n",
            "Epoch: 35, Train Acc: 0.7857, Loss: 0.4736, Test Acc: 0.7083\n",
            "Epoch: 36, Train Acc: 0.7786, Loss: 0.4609, Test Acc: 0.7500\n",
            "Epoch: 37, Train Acc: 0.7857, Loss: 0.3993, Test Acc: 0.5833\n",
            "Epoch: 38, Train Acc: 0.7929, Loss: 0.5460, Test Acc: 0.6250\n",
            "Epoch: 39, Train Acc: 0.8000, Loss: 0.2391, Test Acc: 0.7083\n",
            "Epoch: 40, Train Acc: 0.7857, Loss: 0.5388, Test Acc: 0.7083\n",
            "Epoch: 41, Train Acc: 0.7714, Loss: 0.3826, Test Acc: 0.5625\n",
            "Epoch: 42, Train Acc: 0.7643, Loss: 0.6892, Test Acc: 0.4375\n",
            "Epoch: 43, Train Acc: 0.7786, Loss: 0.6242, Test Acc: 0.7292\n",
            "Epoch: 44, Train Acc: 0.7857, Loss: 0.4043, Test Acc: 0.7083\n",
            "Epoch: 45, Train Acc: 0.7857, Loss: 0.5267, Test Acc: 0.7500\n",
            "Epoch: 46, Train Acc: 0.8143, Loss: 0.5495, Test Acc: 0.3750\n",
            "Epoch: 47, Train Acc: 0.8143, Loss: 0.3760, Test Acc: 0.3750\n",
            "Epoch: 48, Train Acc: 0.7929, Loss: 0.7233, Test Acc: 0.3542\n",
            "Epoch: 49, Train Acc: 0.7714, Loss: 0.8204, Test Acc: 0.3542\n",
            "Epoch: 50, Train Acc: 0.8071, Loss: 0.4976, Test Acc: 0.3542\n",
            "Epoch: 51, Train Acc: 0.8000, Loss: 0.5763, Test Acc: 0.6667\n",
            "Epoch: 52, Train Acc: 0.8000, Loss: 0.6994, Test Acc: 0.6667\n",
            "Epoch: 53, Train Acc: 0.7714, Loss: 0.6241, Test Acc: 0.7292\n",
            "Epoch: 54, Train Acc: 0.7857, Loss: 0.7897, Test Acc: 0.7292\n",
            "Epoch: 55, Train Acc: 0.8000, Loss: 0.6384, Test Acc: 0.7292\n",
            "Epoch: 56, Train Acc: 0.7429, Loss: 0.4083, Test Acc: 0.7500\n",
            "Epoch: 57, Train Acc: 0.8000, Loss: 0.5924, Test Acc: 0.7292\n",
            "Epoch: 58, Train Acc: 0.7571, Loss: 0.9213, Test Acc: 0.7500\n",
            "Epoch: 59, Train Acc: 0.7857, Loss: 0.2527, Test Acc: 0.7292\n",
            "Epoch: 60, Train Acc: 0.8000, Loss: 0.3904, Test Acc: 0.7500\n",
            "Epoch: 61, Train Acc: 0.8071, Loss: 0.4642, Test Acc: 0.7292\n",
            "Epoch: 62, Train Acc: 0.8000, Loss: 0.1987, Test Acc: 0.7708\n",
            "Epoch: 63, Train Acc: 0.7786, Loss: 1.0049, Test Acc: 0.7500\n",
            "Epoch: 64, Train Acc: 0.8000, Loss: 0.3838, Test Acc: 0.3750\n",
            "Epoch: 65, Train Acc: 0.8286, Loss: 0.6493, Test Acc: 0.3750\n",
            "Epoch: 66, Train Acc: 0.8143, Loss: 0.2989, Test Acc: 0.7708\n",
            "Epoch: 67, Train Acc: 0.7929, Loss: 0.5116, Test Acc: 0.7500\n",
            "Epoch: 68, Train Acc: 0.8071, Loss: 0.4430, Test Acc: 0.3750\n",
            "Epoch: 69, Train Acc: 0.8143, Loss: 0.5266, Test Acc: 0.3750\n",
            "Epoch: 70, Train Acc: 0.8000, Loss: 0.4653, Test Acc: 0.7292\n",
            "Epoch: 71, Train Acc: 0.8286, Loss: 0.3968, Test Acc: 0.3542\n",
            "Epoch: 72, Train Acc: 0.7857, Loss: 0.3019, Test Acc: 0.3542\n",
            "Epoch: 73, Train Acc: 0.7714, Loss: 0.4341, Test Acc: 0.3958\n",
            "Epoch: 74, Train Acc: 0.8357, Loss: 0.2783, Test Acc: 0.7708\n",
            "Epoch: 75, Train Acc: 0.8000, Loss: 0.3894, Test Acc: 0.3750\n",
            "Epoch: 76, Train Acc: 0.8357, Loss: 0.3418, Test Acc: 0.3750\n",
            "Epoch: 77, Train Acc: 0.7929, Loss: 0.6074, Test Acc: 0.4167\n",
            "Epoch: 78, Train Acc: 0.7857, Loss: 0.3913, Test Acc: 0.4375\n",
            "Epoch: 79, Train Acc: 0.8143, Loss: 0.2977, Test Acc: 0.8333\n",
            "Epoch: 80, Train Acc: 0.8357, Loss: 0.4156, Test Acc: 0.7500\n",
            "Epoch: 81, Train Acc: 0.8143, Loss: 0.2561, Test Acc: 0.7292\n",
            "Epoch: 82, Train Acc: 0.8500, Loss: 0.4392, Test Acc: 0.3958\n",
            "Epoch: 83, Train Acc: 0.8357, Loss: 0.2507, Test Acc: 0.7292\n",
            "Epoch: 84, Train Acc: 0.8500, Loss: 0.2260, Test Acc: 0.7708\n",
            "Epoch: 85, Train Acc: 0.8571, Loss: 0.6169, Test Acc: 0.3750\n",
            "Epoch: 86, Train Acc: 0.8214, Loss: 0.5498, Test Acc: 0.3750\n",
            "Epoch: 87, Train Acc: 0.8214, Loss: 0.4144, Test Acc: 0.3542\n",
            "Epoch: 88, Train Acc: 0.8143, Loss: 0.5482, Test Acc: 0.3542\n",
            "Epoch: 89, Train Acc: 0.8571, Loss: 0.3359, Test Acc: 0.6875\n",
            "Epoch: 90, Train Acc: 0.8286, Loss: 0.2872, Test Acc: 0.6667\n",
            "Epoch: 91, Train Acc: 0.8286, Loss: 0.4046, Test Acc: 0.7292\n",
            "Epoch: 92, Train Acc: 0.8071, Loss: 0.3673, Test Acc: 0.3542\n",
            "Epoch: 93, Train Acc: 0.8286, Loss: 0.3799, Test Acc: 0.4167\n",
            "Epoch: 94, Train Acc: 0.8714, Loss: 0.6551, Test Acc: 0.7500\n",
            "Epoch: 95, Train Acc: 0.8429, Loss: 0.5496, Test Acc: 0.7708\n",
            "Epoch: 96, Train Acc: 0.8857, Loss: 0.2344, Test Acc: 0.4792\n",
            "Epoch: 97, Train Acc: 0.8214, Loss: 0.5014, Test Acc: 0.3958\n",
            "Epoch: 98, Train Acc: 0.8143, Loss: 0.3775, Test Acc: 0.3750\n",
            "Epoch: 99, Train Acc: 0.8429, Loss: 0.8070, Test Acc: 0.5625\n",
            "Epoch: 100, Train Acc: 0.8571, Loss: 0.2938, Test Acc: 0.7917\n",
            "Epoch: 101, Train Acc: 0.8000, Loss: 0.5332, Test Acc: 0.7500\n",
            "Epoch: 102, Train Acc: 0.8286, Loss: 0.5617, Test Acc: 0.7917\n",
            "Epoch: 103, Train Acc: 0.8071, Loss: 0.3295, Test Acc: 0.3958\n",
            "Epoch: 104, Train Acc: 0.8143, Loss: 0.4410, Test Acc: 0.3750\n",
            "Epoch: 105, Train Acc: 0.8571, Loss: 0.5463, Test Acc: 0.4167\n",
            "Epoch: 106, Train Acc: 0.8357, Loss: 0.6615, Test Acc: 0.4792\n",
            "Epoch: 107, Train Acc: 0.8714, Loss: 0.4961, Test Acc: 0.7708\n",
            "Epoch: 108, Train Acc: 0.8643, Loss: 0.6400, Test Acc: 0.7708\n",
            "Epoch: 109, Train Acc: 0.8214, Loss: 0.3060, Test Acc: 0.4792\n",
            "Epoch: 110, Train Acc: 0.8429, Loss: 0.3042, Test Acc: 0.4792\n",
            "Epoch: 111, Train Acc: 0.8357, Loss: 0.3604, Test Acc: 0.6875\n",
            "Epoch: 112, Train Acc: 0.8429, Loss: 0.2439, Test Acc: 0.3750\n",
            "Epoch: 113, Train Acc: 0.8643, Loss: 0.4285, Test Acc: 0.3750\n",
            "Epoch: 114, Train Acc: 0.8214, Loss: 0.2739, Test Acc: 0.3750\n",
            "Epoch: 115, Train Acc: 0.8071, Loss: 0.5563, Test Acc: 0.3750\n",
            "Epoch: 116, Train Acc: 0.8357, Loss: 0.4136, Test Acc: 0.3750\n",
            "Epoch: 117, Train Acc: 0.8786, Loss: 0.3016, Test Acc: 0.3542\n",
            "Epoch: 118, Train Acc: 0.8357, Loss: 0.4842, Test Acc: 0.7917\n",
            "Epoch: 119, Train Acc: 0.8071, Loss: 0.4324, Test Acc: 0.3750\n",
            "Epoch: 120, Train Acc: 0.8286, Loss: 0.2978, Test Acc: 0.3750\n",
            "Epoch: 121, Train Acc: 0.8429, Loss: 0.3639, Test Acc: 0.6042\n",
            "Epoch: 122, Train Acc: 0.8214, Loss: 0.1843, Test Acc: 0.6667\n",
            "Epoch: 123, Train Acc: 0.8571, Loss: 0.4239, Test Acc: 0.6667\n",
            "Epoch: 124, Train Acc: 0.8786, Loss: 0.3945, Test Acc: 0.6875\n",
            "Epoch: 125, Train Acc: 0.8429, Loss: 0.6693, Test Acc: 0.7292\n",
            "Epoch: 126, Train Acc: 0.8286, Loss: 0.4317, Test Acc: 0.7500\n",
            "Epoch: 127, Train Acc: 0.8500, Loss: 0.7111, Test Acc: 0.7500\n",
            "Epoch: 128, Train Acc: 0.8286, Loss: 0.3592, Test Acc: 0.7500\n",
            "Epoch: 129, Train Acc: 0.8429, Loss: 0.3229, Test Acc: 0.7292\n",
            "Epoch: 130, Train Acc: 0.8071, Loss: 0.4771, Test Acc: 0.7500\n",
            "Epoch: 131, Train Acc: 0.8357, Loss: 0.4122, Test Acc: 0.7292\n",
            "Epoch: 132, Train Acc: 0.8357, Loss: 0.3247, Test Acc: 0.3958\n",
            "Epoch: 133, Train Acc: 0.8000, Loss: 0.4221, Test Acc: 0.3750\n",
            "Epoch: 134, Train Acc: 0.8071, Loss: 0.2475, Test Acc: 0.3750\n",
            "Epoch: 135, Train Acc: 0.8857, Loss: 0.1518, Test Acc: 0.3750\n",
            "Epoch: 136, Train Acc: 0.8571, Loss: 0.5555, Test Acc: 0.6875\n",
            "Epoch: 137, Train Acc: 0.8571, Loss: 0.3538, Test Acc: 0.7292\n",
            "Epoch: 138, Train Acc: 0.8714, Loss: 0.4406, Test Acc: 0.6875\n",
            "Epoch: 139, Train Acc: 0.8643, Loss: 0.2796, Test Acc: 0.7083\n",
            "Epoch: 140, Train Acc: 0.9000, Loss: 0.2304, Test Acc: 0.7083\n",
            "Epoch: 141, Train Acc: 0.8214, Loss: 0.1486, Test Acc: 0.4583\n",
            "Epoch: 142, Train Acc: 0.8929, Loss: 0.3572, Test Acc: 0.3958\n",
            "Epoch: 143, Train Acc: 0.8714, Loss: 0.2869, Test Acc: 0.3750\n",
            "Epoch: 144, Train Acc: 0.9000, Loss: 0.2273, Test Acc: 0.3750\n",
            "Epoch: 145, Train Acc: 0.8714, Loss: 0.3010, Test Acc: 0.7083\n",
            "Epoch: 146, Train Acc: 0.8857, Loss: 0.3932, Test Acc: 0.6250\n",
            "Epoch: 147, Train Acc: 0.8429, Loss: 0.3661, Test Acc: 0.7917\n",
            "Epoch: 148, Train Acc: 0.8643, Loss: 0.4081, Test Acc: 0.7292\n",
            "Epoch: 149, Train Acc: 0.8429, Loss: 0.9622, Test Acc: 0.6458\n",
            "Epoch: 150, Train Acc: 0.8714, Loss: 0.2133, Test Acc: 0.6875\n",
            "Epoch: 151, Train Acc: 0.7786, Loss: 0.2314, Test Acc: 0.6667\n",
            "Epoch: 152, Train Acc: 0.8857, Loss: 0.5090, Test Acc: 0.6875\n",
            "Epoch: 153, Train Acc: 0.8357, Loss: 0.6651, Test Acc: 0.3750\n",
            "Epoch: 154, Train Acc: 0.8214, Loss: 0.7224, Test Acc: 0.3750\n",
            "Epoch: 155, Train Acc: 0.8286, Loss: 0.2646, Test Acc: 0.3333\n",
            "Epoch: 156, Train Acc: 0.8214, Loss: 0.1804, Test Acc: 0.7292\n",
            "Epoch: 157, Train Acc: 0.8286, Loss: 0.2892, Test Acc: 0.7083\n",
            "Epoch: 158, Train Acc: 0.8786, Loss: 0.2998, Test Acc: 0.7083\n",
            "Epoch: 159, Train Acc: 0.8500, Loss: 0.3558, Test Acc: 0.7083\n",
            "Epoch: 160, Train Acc: 0.8643, Loss: 0.5265, Test Acc: 0.7708\n",
            "Epoch: 161, Train Acc: 0.8500, Loss: 0.3958, Test Acc: 0.5000\n",
            "Epoch: 162, Train Acc: 0.8571, Loss: 0.2109, Test Acc: 0.6875\n",
            "Epoch: 163, Train Acc: 0.8643, Loss: 0.6214, Test Acc: 0.6667\n",
            "Epoch: 164, Train Acc: 0.8786, Loss: 0.2059, Test Acc: 0.7292\n",
            "Epoch: 165, Train Acc: 0.8714, Loss: 0.2946, Test Acc: 0.7083\n",
            "Epoch: 166, Train Acc: 0.8786, Loss: 0.3678, Test Acc: 0.7708\n",
            "Epoch: 167, Train Acc: 0.8714, Loss: 0.4940, Test Acc: 0.6667\n",
            "Epoch: 168, Train Acc: 0.9000, Loss: 0.2971, Test Acc: 0.7292\n",
            "Epoch: 169, Train Acc: 0.8786, Loss: 0.5861, Test Acc: 0.6875\n",
            "Epoch: 170, Train Acc: 0.8786, Loss: 0.3425, Test Acc: 0.6875\n",
            "Epoch: 171, Train Acc: 0.8786, Loss: 0.3240, Test Acc: 0.6042\n",
            "Epoch: 172, Train Acc: 0.8714, Loss: 0.3876, Test Acc: 0.6875\n",
            "Epoch: 173, Train Acc: 0.8786, Loss: 0.4030, Test Acc: 0.7083\n",
            "Epoch: 174, Train Acc: 0.8786, Loss: 0.3710, Test Acc: 0.4583\n",
            "Epoch: 175, Train Acc: 0.8429, Loss: 0.2923, Test Acc: 0.3750\n",
            "Epoch: 176, Train Acc: 0.9071, Loss: 0.2732, Test Acc: 0.6042\n",
            "Epoch: 177, Train Acc: 0.8714, Loss: 0.4343, Test Acc: 0.7292\n",
            "Epoch: 178, Train Acc: 0.8571, Loss: 0.2766, Test Acc: 0.6875\n",
            "Epoch: 179, Train Acc: 0.8643, Loss: 0.1861, Test Acc: 0.6250\n",
            "Epoch: 180, Train Acc: 0.8429, Loss: 0.5255, Test Acc: 0.6042\n",
            "Epoch: 181, Train Acc: 0.8429, Loss: 0.1526, Test Acc: 0.3750\n",
            "Epoch: 182, Train Acc: 0.8714, Loss: 0.3445, Test Acc: 0.5417\n",
            "Epoch: 183, Train Acc: 0.7929, Loss: 0.9686, Test Acc: 0.3750\n",
            "Epoch: 184, Train Acc: 0.8429, Loss: 0.4391, Test Acc: 0.3750\n",
            "Epoch: 185, Train Acc: 0.8357, Loss: 0.5500, Test Acc: 0.3750\n",
            "Epoch: 186, Train Acc: 0.8714, Loss: 0.5159, Test Acc: 0.3333\n",
            "Epoch: 187, Train Acc: 0.8286, Loss: 0.7299, Test Acc: 0.7500\n",
            "Epoch: 188, Train Acc: 0.8571, Loss: 0.2730, Test Acc: 0.7917\n",
            "Epoch: 189, Train Acc: 0.8571, Loss: 0.4276, Test Acc: 0.7708\n",
            "Epoch: 190, Train Acc: 0.8571, Loss: 0.4509, Test Acc: 0.6875\n",
            "Epoch: 191, Train Acc: 0.8286, Loss: 0.5018, Test Acc: 0.7292\n",
            "Epoch: 192, Train Acc: 0.8571, Loss: 0.6036, Test Acc: 0.7500\n",
            "Epoch: 193, Train Acc: 0.8929, Loss: 0.2920, Test Acc: 0.7917\n",
            "Epoch: 194, Train Acc: 0.8214, Loss: 0.1976, Test Acc: 0.7083\n",
            "Epoch: 195, Train Acc: 0.8500, Loss: 0.3967, Test Acc: 0.7292\n",
            "Epoch: 196, Train Acc: 0.8500, Loss: 0.4788, Test Acc: 0.7292\n",
            "Epoch: 197, Train Acc: 0.8571, Loss: 0.6267, Test Acc: 0.6458\n",
            "Epoch: 198, Train Acc: 0.8786, Loss: 0.2966, Test Acc: 0.6042\n",
            "Epoch: 199, Train Acc: 0.8786, Loss: 0.1495, Test Acc: 0.6250\n",
            "Epoch: 200, Train Acc: 0.8429, Loss: 0.6669, Test Acc: 0.4375\n"
          ]
        }
      ]
    },
    {
      "cell_type": "code",
      "source": [
        "import matplotlib.pyplot as plt\n",
        "import seaborn as sns\n",
        "losses_float = [float(loss.cpu().detach().numpy()) for loss in loss_all]\n",
        "loss_indices = [i for i,l in enumerate(losses_float)] \n",
        "sns.lineplot(loss_indices, losses_float, color = 'blue')\n",
        "plt.title(\"Loss\")\n",
        "plt.show()"
      ],
      "metadata": {
        "colab": {
          "base_uri": "https://localhost:8080/",
          "height": 337
        },
        "id": "cUfoN9HHFvoO",
        "outputId": "9df1a270-f7b9-4208-8d8c-52d7ad902838"
      },
      "execution_count": null,
      "outputs": [
        {
          "output_type": "stream",
          "name": "stderr",
          "text": [
            "/usr/local/lib/python3.7/dist-packages/seaborn/_decorators.py:43: FutureWarning: Pass the following variables as keyword args: x, y. From version 0.12, the only valid positional argument will be `data`, and passing other arguments without an explicit keyword will result in an error or misinterpretation.\n",
            "  FutureWarning\n"
          ]
        },
        {
          "output_type": "display_data",
          "data": {
            "text/plain": [
              "<Figure size 432x288 with 1 Axes>"
            ],
            "image/png": "[encoded data removed]"
          },
          "metadata": {
            "needs_background": "light"
          }
        }
      ]
    },
    {
      "cell_type": "code",
      "source": [
        "plt.plot(train_acc, c= 'blue', label = 'train acc')\n",
        "plt.plot(test_acc, c = 'red', label = 'test acc')\n",
        "plt.legend(loc = 4)\n",
        "plt.show()\n",
        "# the fluctuations can be due to the size of out test data"
      ],
      "metadata": {
        "colab": {
          "base_uri": "https://localhost:8080/",
          "height": 265
        },
        "id": "fCVfEIFjHDQW",
        "outputId": "54d57605-6bff-4e6a-a236-69cf0ef8a148"
      },
      "execution_count": null,
      "outputs": [
        {
          "output_type": "display_data",
          "data": {
            "text/plain": [
              "<Figure size 432x288 with 1 Axes>"
            ],
            "image/png": "[encoded data removed]"
          },
          "metadata": {
            "needs_background": "light"
          }
        }
      ]
    },
    {
      "cell_type": "markdown",
      "source": [
        "Neighborhood normalization decreases the expressivity of GNNs in distinguishing certain graph structures. An alternative formulation gets rid of neighborhood normalization and adds a skip-connection to the GNN layer in order to preserve central node information.\n",
        "\n",
        "In the next model, we will implenent make use of GraphConv.\n",
        "\n",
        "##### For more infomration, refer to this paper: [Morris et al. (2018)](https://arxiv.org/abs/1810.02244)"
      ],
      "metadata": {
        "id": "2-GLWEqoSEuU"
      }
    },
    {
      "cell_type": "code",
      "source": [
        "class GNN(torch.nn.Module):\n",
        "    def __init__(self, input_channels, hidden_channels, output_channels):\n",
        "        super(GNN, self).__init__()\n",
        "        self.conv1 = GraphConv(input_channels, hidden_channels)\n",
        "        self.bn1 = BatchNorm1d(hidden_channels)\n",
        "        self.conv2 = GraphConv(hidden_channels, hidden_channels)\n",
        "        self.bn2 = BatchNorm1d(hidden_channels)\n",
        "        self.conv3 = GraphConv(hidden_channels, hidden_channels)\n",
        "        self.lin = Linear(hidden_channels, output_channels)\n",
        "\n",
        "    def forward(self, x, edge_index, batch):\n",
        "        x = self.conv1(x, edge_index)\n",
        "        x = F.relu(self.bn1(x))\n",
        "        x = self.conv2(x, edge_index)\n",
        "        x = F.relu(self.bn2(x))\n",
        "        x = self.conv3(x, edge_index)\n",
        "\n",
        "        x = global_mean_pool(x, batch)\n",
        "\n",
        "        x = F.dropout(x, p=0.5, training=self.training)\n",
        "        x = self.lin(x)\n",
        "        \n",
        "        return x\n",
        "\n",
        "model2 = GNN(dataset.num_features,64, dataset.num_classes)\n",
        "print(model2)"
      ],
      "metadata": {
        "colab": {
          "base_uri": "https://localhost:8080/"
        },
        "id": "amk80tlUL4Tt",
        "outputId": "f31c38b5-beba-48e9-b93d-4451d52dff4f"
      },
      "execution_count": null,
      "outputs": [
        {
          "output_type": "stream",
          "name": "stdout",
          "text": [
            "GNN(\n",
            "  (conv1): GraphConv(7, 64)\n",
            "  (bn1): BatchNorm1d(64, eps=1e-05, momentum=0.1, affine=True, track_running_stats=True)\n",
            "  (conv2): GraphConv(64, 64)\n",
            "  (bn2): BatchNorm1d(64, eps=1e-05, momentum=0.1, affine=True, track_running_stats=True)\n",
            "  (conv3): GraphConv(64, 64)\n",
            "  (lin): Linear(in_features=64, out_features=2, bias=True)\n",
            ")\n"
          ]
        }
      ]
    },
    {
      "cell_type": "code",
      "source": [
        "model2 = GNN(dataset.num_features, 64, dataset.num_classes)\n",
        "optimizer = torch.optim.Adam(model2.parameters(), lr=0.01)\n",
        "criterion = torch.nn.CrossEntropyLoss()\n",
        "\n",
        "def train():\n",
        "  model2.train()\n",
        "  correct = 0\n",
        "  for data in train_loader:\n",
        "    optimizer.zero_grad()\n",
        "    out = model2(data.x, data.edge_index, data.batch)\n",
        "    loss = criterion(out, data.y)\n",
        "    loss.backward()\n",
        "    optimizer.step()\n",
        "    pred = out.argmax(dim=1)\n",
        "    correct += int((pred == data.y).sum())\n",
        "  return loss, (correct / len(train_dataset))\n",
        "\n",
        "def test():\n",
        "     model2.eval()\n",
        "     correct = 0\n",
        "     for data in test_loader:\n",
        "         out = model2(data.x, data.edge_index, data.batch)  \n",
        "         pred = out.argmax(dim=1)\n",
        "         correct += int((pred == data.y).sum())\n",
        "     return correct / len(test_dataset)\n",
        "\n",
        "loss_all_gnn = []\n",
        "train_acc_gnn = []\n",
        "test_acc_gnn = []\n",
        "for epoch in range(1, 201):\n",
        "    loss, acc = train()\n",
        "    loss_all_gnn.append(loss)\n",
        "    train_acc_gnn.append(acc)\n",
        "    t_acc = test()\n",
        "    test_acc_gnn.append(t_acc)\n",
        "    print(f'Epoch: {epoch}, Train Acc: {acc:.4f}, Loss: {loss:.4f}, Test Acc: {t_acc:.4f}')\n"
      ],
      "metadata": {
        "colab": {
          "base_uri": "https://localhost:8080/"
        },
        "id": "Vggwgn8e9YUf",
        "outputId": "f3122034-d91d-40e6-a6a6-80de61ce9ee4"
      },
      "execution_count": null,
      "outputs": [
        {
          "output_type": "stream",
          "name": "stdout",
          "text": [
            "Epoch: 1, Train Acc: 0.6214, Loss: 0.4881, Test Acc: 0.6250\n",
            "Epoch: 2, Train Acc: 0.8143, Loss: 0.4339, Test Acc: 0.6250\n",
            "Epoch: 3, Train Acc: 0.8143, Loss: 0.4139, Test Acc: 0.6250\n",
            "Epoch: 4, Train Acc: 0.8143, Loss: 0.2702, Test Acc: 0.6250\n",
            "Epoch: 5, Train Acc: 0.8214, Loss: 0.2698, Test Acc: 0.6667\n",
            "Epoch: 6, Train Acc: 0.8786, Loss: 0.1586, Test Acc: 0.7083\n",
            "Epoch: 7, Train Acc: 0.8786, Loss: 0.1608, Test Acc: 0.6250\n",
            "Epoch: 8, Train Acc: 0.8929, Loss: 0.2705, Test Acc: 0.7083\n",
            "Epoch: 9, Train Acc: 0.8643, Loss: 0.8833, Test Acc: 0.7708\n",
            "Epoch: 10, Train Acc: 0.8857, Loss: 0.2138, Test Acc: 0.6667\n",
            "Epoch: 11, Train Acc: 0.8714, Loss: 0.3567, Test Acc: 0.7083\n",
            "Epoch: 12, Train Acc: 0.8714, Loss: 0.1497, Test Acc: 0.7500\n",
            "Epoch: 13, Train Acc: 0.9071, Loss: 0.3321, Test Acc: 0.7708\n",
            "Epoch: 14, Train Acc: 0.9286, Loss: 0.3396, Test Acc: 0.7292\n",
            "Epoch: 15, Train Acc: 0.9143, Loss: 1.3341, Test Acc: 0.7708\n",
            "Epoch: 16, Train Acc: 0.8643, Loss: 0.7422, Test Acc: 0.6875\n",
            "Epoch: 17, Train Acc: 0.8857, Loss: 0.4538, Test Acc: 0.7083\n",
            "Epoch: 18, Train Acc: 0.8357, Loss: 0.3475, Test Acc: 0.7708\n",
            "Epoch: 19, Train Acc: 0.8786, Loss: 0.3294, Test Acc: 0.7917\n",
            "Epoch: 20, Train Acc: 0.8643, Loss: 0.2705, Test Acc: 0.8125\n",
            "Epoch: 21, Train Acc: 0.9214, Loss: 0.1339, Test Acc: 0.8125\n",
            "Epoch: 22, Train Acc: 0.9429, Loss: 0.0856, Test Acc: 0.7500\n",
            "Epoch: 23, Train Acc: 0.9500, Loss: 0.6996, Test Acc: 0.7708\n",
            "Epoch: 24, Train Acc: 0.9214, Loss: 0.1970, Test Acc: 0.7708\n",
            "Epoch: 25, Train Acc: 0.9286, Loss: 0.6915, Test Acc: 0.7708\n",
            "Epoch: 26, Train Acc: 0.9286, Loss: 0.0960, Test Acc: 0.6875\n",
            "Epoch: 27, Train Acc: 0.8357, Loss: 0.6042, Test Acc: 0.7500\n",
            "Epoch: 28, Train Acc: 0.8857, Loss: 0.1011, Test Acc: 0.7917\n",
            "Epoch: 29, Train Acc: 0.8786, Loss: 0.0843, Test Acc: 0.7917\n",
            "Epoch: 30, Train Acc: 0.8929, Loss: 0.4373, Test Acc: 0.7917\n",
            "Epoch: 31, Train Acc: 0.9286, Loss: 0.2002, Test Acc: 0.7500\n",
            "Epoch: 32, Train Acc: 0.9357, Loss: 0.0958, Test Acc: 0.7708\n",
            "Epoch: 33, Train Acc: 0.9214, Loss: 0.5129, Test Acc: 0.7708\n",
            "Epoch: 34, Train Acc: 0.9429, Loss: 0.1675, Test Acc: 0.8333\n",
            "Epoch: 35, Train Acc: 0.9214, Loss: 0.1125, Test Acc: 0.8333\n",
            "Epoch: 36, Train Acc: 0.9286, Loss: 0.0397, Test Acc: 0.8333\n",
            "Epoch: 37, Train Acc: 0.9571, Loss: 0.0906, Test Acc: 0.8542\n",
            "Epoch: 38, Train Acc: 0.9429, Loss: 0.0529, Test Acc: 0.8333\n",
            "Epoch: 39, Train Acc: 0.9000, Loss: 0.0784, Test Acc: 0.8333\n",
            "Epoch: 40, Train Acc: 0.9357, Loss: 0.1102, Test Acc: 0.8333\n",
            "Epoch: 41, Train Acc: 0.9429, Loss: 0.0643, Test Acc: 0.8333\n",
            "Epoch: 42, Train Acc: 0.9429, Loss: 0.1254, Test Acc: 0.8333\n",
            "Epoch: 43, Train Acc: 0.9571, Loss: 0.1489, Test Acc: 0.8125\n",
            "Epoch: 44, Train Acc: 0.9429, Loss: 0.0962, Test Acc: 0.8333\n",
            "Epoch: 45, Train Acc: 0.9429, Loss: 0.6605, Test Acc: 0.8333\n",
            "Epoch: 46, Train Acc: 0.9429, Loss: 0.3699, Test Acc: 0.7708\n",
            "Epoch: 47, Train Acc: 0.9214, Loss: 0.1723, Test Acc: 0.8542\n",
            "Epoch: 48, Train Acc: 0.9500, Loss: 0.1797, Test Acc: 0.7708\n",
            "Epoch: 49, Train Acc: 0.8929, Loss: 0.0458, Test Acc: 0.7917\n",
            "Epoch: 50, Train Acc: 0.9286, Loss: 0.3445, Test Acc: 0.7917\n",
            "Epoch: 51, Train Acc: 0.8929, Loss: 0.3134, Test Acc: 0.7917\n",
            "Epoch: 52, Train Acc: 0.9214, Loss: 0.2397, Test Acc: 0.8125\n",
            "Epoch: 53, Train Acc: 0.9214, Loss: 0.1686, Test Acc: 0.8125\n",
            "Epoch: 54, Train Acc: 0.9357, Loss: 0.0742, Test Acc: 0.8125\n",
            "Epoch: 55, Train Acc: 0.9500, Loss: 0.0276, Test Acc: 0.8542\n",
            "Epoch: 56, Train Acc: 0.9286, Loss: 0.3198, Test Acc: 0.8333\n",
            "Epoch: 57, Train Acc: 0.9357, Loss: 0.0399, Test Acc: 0.8333\n",
            "Epoch: 58, Train Acc: 0.9429, Loss: 0.0527, Test Acc: 0.8333\n",
            "Epoch: 59, Train Acc: 0.9214, Loss: 0.3936, Test Acc: 0.8333\n",
            "Epoch: 60, Train Acc: 0.9143, Loss: 0.1987, Test Acc: 0.8333\n",
            "Epoch: 61, Train Acc: 0.9286, Loss: 0.2325, Test Acc: 0.7917\n",
            "Epoch: 62, Train Acc: 0.9357, Loss: 0.4122, Test Acc: 0.7917\n",
            "Epoch: 63, Train Acc: 0.9500, Loss: 0.3803, Test Acc: 0.8125\n",
            "Epoch: 64, Train Acc: 0.9500, Loss: 0.1194, Test Acc: 0.8333\n",
            "Epoch: 65, Train Acc: 0.9286, Loss: 0.1540, Test Acc: 0.7917\n",
            "Epoch: 66, Train Acc: 0.9357, Loss: 0.0330, Test Acc: 0.8125\n",
            "Epoch: 67, Train Acc: 0.9500, Loss: 0.1095, Test Acc: 0.8125\n",
            "Epoch: 68, Train Acc: 0.9500, Loss: 0.1646, Test Acc: 0.8333\n",
            "Epoch: 69, Train Acc: 0.9500, Loss: 0.2939, Test Acc: 0.8333\n",
            "Epoch: 70, Train Acc: 0.9500, Loss: 0.2084, Test Acc: 0.8333\n",
            "Epoch: 71, Train Acc: 0.9357, Loss: 0.0111, Test Acc: 0.8125\n",
            "Epoch: 72, Train Acc: 0.9643, Loss: 0.0015, Test Acc: 0.8125\n",
            "Epoch: 73, Train Acc: 0.9357, Loss: 0.0588, Test Acc: 0.8125\n",
            "Epoch: 74, Train Acc: 0.9429, Loss: 0.1998, Test Acc: 0.7917\n",
            "Epoch: 75, Train Acc: 0.9214, Loss: 0.3700, Test Acc: 0.8125\n",
            "Epoch: 76, Train Acc: 0.9571, Loss: 0.0077, Test Acc: 0.7917\n",
            "Epoch: 77, Train Acc: 0.9429, Loss: 0.0391, Test Acc: 0.8333\n",
            "Epoch: 78, Train Acc: 0.9357, Loss: 0.1119, Test Acc: 0.8333\n",
            "Epoch: 79, Train Acc: 0.9500, Loss: 0.3878, Test Acc: 0.8333\n",
            "Epoch: 80, Train Acc: 0.9429, Loss: 0.0565, Test Acc: 0.8333\n",
            "Epoch: 81, Train Acc: 0.9286, Loss: 0.0645, Test Acc: 0.8333\n",
            "Epoch: 82, Train Acc: 0.9357, Loss: 0.0596, Test Acc: 0.7500\n",
            "Epoch: 83, Train Acc: 0.9429, Loss: 0.2853, Test Acc: 0.7292\n",
            "Epoch: 84, Train Acc: 0.9286, Loss: 0.0888, Test Acc: 0.8333\n",
            "Epoch: 85, Train Acc: 0.9429, Loss: 0.0277, Test Acc: 0.8125\n",
            "Epoch: 86, Train Acc: 0.9143, Loss: 0.7035, Test Acc: 0.7292\n",
            "Epoch: 87, Train Acc: 0.8714, Loss: 0.4520, Test Acc: 0.6875\n",
            "Epoch: 88, Train Acc: 0.9429, Loss: 0.0673, Test Acc: 0.8125\n",
            "Epoch: 89, Train Acc: 0.9286, Loss: 0.4879, Test Acc: 0.8333\n",
            "Epoch: 90, Train Acc: 0.9071, Loss: 0.4325, Test Acc: 0.8333\n",
            "Epoch: 91, Train Acc: 0.9143, Loss: 0.1685, Test Acc: 0.8542\n",
            "Epoch: 92, Train Acc: 0.9429, Loss: 0.0228, Test Acc: 0.6458\n",
            "Epoch: 93, Train Acc: 0.9286, Loss: 0.0752, Test Acc: 0.6250\n",
            "Epoch: 94, Train Acc: 0.9500, Loss: 0.1244, Test Acc: 0.6875\n",
            "Epoch: 95, Train Acc: 0.9500, Loss: 0.3671, Test Acc: 0.7917\n",
            "Epoch: 96, Train Acc: 0.9500, Loss: 0.0948, Test Acc: 0.8125\n",
            "Epoch: 97, Train Acc: 0.9071, Loss: 0.1207, Test Acc: 0.8125\n",
            "Epoch: 98, Train Acc: 0.9500, Loss: 0.1273, Test Acc: 0.7292\n",
            "Epoch: 99, Train Acc: 0.9357, Loss: 0.2263, Test Acc: 0.7083\n",
            "Epoch: 100, Train Acc: 0.9429, Loss: 0.0462, Test Acc: 0.7917\n",
            "Epoch: 101, Train Acc: 0.9500, Loss: 0.1290, Test Acc: 0.8542\n",
            "Epoch: 102, Train Acc: 0.9286, Loss: 0.1658, Test Acc: 0.8333\n",
            "Epoch: 103, Train Acc: 0.9429, Loss: 0.3001, Test Acc: 0.7292\n",
            "Epoch: 104, Train Acc: 0.9429, Loss: 0.3177, Test Acc: 0.7708\n",
            "Epoch: 105, Train Acc: 0.9143, Loss: 0.3561, Test Acc: 0.7500\n",
            "Epoch: 106, Train Acc: 0.8929, Loss: 0.3317, Test Acc: 0.7708\n",
            "Epoch: 107, Train Acc: 0.9429, Loss: 0.2564, Test Acc: 0.7083\n",
            "Epoch: 108, Train Acc: 0.9286, Loss: 0.1568, Test Acc: 0.7500\n",
            "Epoch: 109, Train Acc: 0.9429, Loss: 0.1176, Test Acc: 0.8333\n",
            "Epoch: 110, Train Acc: 0.9571, Loss: 0.1034, Test Acc: 0.8125\n",
            "Epoch: 111, Train Acc: 0.9429, Loss: 0.0399, Test Acc: 0.8125\n",
            "Epoch: 112, Train Acc: 0.9500, Loss: 0.0487, Test Acc: 0.8125\n",
            "Epoch: 113, Train Acc: 0.9571, Loss: 0.4146, Test Acc: 0.8125\n",
            "Epoch: 114, Train Acc: 0.9429, Loss: 0.2527, Test Acc: 0.8333\n",
            "Epoch: 115, Train Acc: 0.9429, Loss: 0.0642, Test Acc: 0.8333\n",
            "Epoch: 116, Train Acc: 0.9571, Loss: 0.0452, Test Acc: 0.8125\n",
            "Epoch: 117, Train Acc: 0.9286, Loss: 0.0986, Test Acc: 0.8125\n",
            "Epoch: 118, Train Acc: 0.9286, Loss: 1.0219, Test Acc: 0.8125\n",
            "Epoch: 119, Train Acc: 0.9357, Loss: 0.1820, Test Acc: 0.5208\n",
            "Epoch: 120, Train Acc: 0.8929, Loss: 0.0615, Test Acc: 0.7500\n",
            "Epoch: 121, Train Acc: 0.9500, Loss: 0.1480, Test Acc: 0.8542\n",
            "Epoch: 122, Train Acc: 0.9500, Loss: 0.3474, Test Acc: 0.8125\n",
            "Epoch: 123, Train Acc: 0.9500, Loss: 0.1277, Test Acc: 0.8125\n",
            "Epoch: 124, Train Acc: 0.9429, Loss: 0.2694, Test Acc: 0.8333\n",
            "Epoch: 125, Train Acc: 0.9429, Loss: 0.0663, Test Acc: 0.8125\n",
            "Epoch: 126, Train Acc: 0.9000, Loss: 1.0087, Test Acc: 0.7708\n",
            "Epoch: 127, Train Acc: 0.9429, Loss: 0.0695, Test Acc: 0.5000\n",
            "Epoch: 128, Train Acc: 0.9214, Loss: 0.0935, Test Acc: 0.5000\n",
            "Epoch: 129, Train Acc: 0.9500, Loss: 0.2347, Test Acc: 0.6875\n",
            "Epoch: 130, Train Acc: 0.9429, Loss: 0.4541, Test Acc: 0.8333\n",
            "Epoch: 131, Train Acc: 0.9500, Loss: 0.2689, Test Acc: 0.8125\n",
            "Epoch: 132, Train Acc: 0.9357, Loss: 0.1662, Test Acc: 0.8333\n",
            "Epoch: 133, Train Acc: 0.9214, Loss: 0.2123, Test Acc: 0.8333\n",
            "Epoch: 134, Train Acc: 0.9286, Loss: 0.1719, Test Acc: 0.8333\n",
            "Epoch: 135, Train Acc: 0.9429, Loss: 0.2016, Test Acc: 0.8333\n",
            "Epoch: 136, Train Acc: 0.9286, Loss: 0.1489, Test Acc: 0.7708\n",
            "Epoch: 137, Train Acc: 0.9429, Loss: 0.0356, Test Acc: 0.7917\n",
            "Epoch: 138, Train Acc: 0.9429, Loss: 0.1525, Test Acc: 0.7917\n",
            "Epoch: 139, Train Acc: 0.9357, Loss: 0.1337, Test Acc: 0.7917\n",
            "Epoch: 140, Train Acc: 0.9500, Loss: 0.1077, Test Acc: 0.7917\n",
            "Epoch: 141, Train Acc: 0.9500, Loss: 0.0286, Test Acc: 0.8125\n",
            "Epoch: 142, Train Acc: 0.9571, Loss: 0.0400, Test Acc: 0.7917\n",
            "Epoch: 143, Train Acc: 0.9286, Loss: 0.1668, Test Acc: 0.8333\n",
            "Epoch: 144, Train Acc: 0.9500, Loss: 0.1085, Test Acc: 0.8333\n",
            "Epoch: 145, Train Acc: 0.9357, Loss: 0.2595, Test Acc: 0.8333\n",
            "Epoch: 146, Train Acc: 0.9429, Loss: 0.0187, Test Acc: 0.8125\n",
            "Epoch: 147, Train Acc: 0.9429, Loss: 0.0881, Test Acc: 0.8125\n",
            "Epoch: 148, Train Acc: 0.9500, Loss: 0.1013, Test Acc: 0.8125\n",
            "Epoch: 149, Train Acc: 0.9214, Loss: 0.0964, Test Acc: 0.8125\n",
            "Epoch: 150, Train Acc: 0.9429, Loss: 0.0604, Test Acc: 0.8125\n",
            "Epoch: 151, Train Acc: 0.9500, Loss: 0.0877, Test Acc: 0.8125\n",
            "Epoch: 152, Train Acc: 0.9214, Loss: 0.1147, Test Acc: 0.8125\n",
            "Epoch: 153, Train Acc: 0.9571, Loss: 0.2097, Test Acc: 0.8125\n",
            "Epoch: 154, Train Acc: 0.9500, Loss: 0.2417, Test Acc: 0.8333\n",
            "Epoch: 155, Train Acc: 0.9571, Loss: 0.0499, Test Acc: 0.8333\n",
            "Epoch: 156, Train Acc: 0.9429, Loss: 0.2850, Test Acc: 0.8333\n",
            "Epoch: 157, Train Acc: 0.9357, Loss: 0.6442, Test Acc: 0.7917\n",
            "Epoch: 158, Train Acc: 0.9571, Loss: 0.0024, Test Acc: 0.7500\n",
            "Epoch: 159, Train Acc: 0.9214, Loss: 0.3011, Test Acc: 0.7292\n",
            "Epoch: 160, Train Acc: 0.9500, Loss: 0.3292, Test Acc: 0.8333\n",
            "Epoch: 161, Train Acc: 0.9000, Loss: 0.2399, Test Acc: 0.8333\n",
            "Epoch: 162, Train Acc: 0.9000, Loss: 0.1157, Test Acc: 0.8125\n",
            "Epoch: 163, Train Acc: 0.9500, Loss: 0.1407, Test Acc: 0.7917\n",
            "Epoch: 164, Train Acc: 0.9357, Loss: 0.0450, Test Acc: 0.8125\n",
            "Epoch: 165, Train Acc: 0.9643, Loss: 0.4465, Test Acc: 0.8125\n",
            "Epoch: 166, Train Acc: 0.9571, Loss: 0.1790, Test Acc: 0.8333\n",
            "Epoch: 167, Train Acc: 0.9571, Loss: 0.1701, Test Acc: 0.8125\n",
            "Epoch: 168, Train Acc: 0.9429, Loss: 0.2508, Test Acc: 0.8125\n",
            "Epoch: 169, Train Acc: 0.9571, Loss: 0.2180, Test Acc: 0.7917\n",
            "Epoch: 170, Train Acc: 0.9429, Loss: 0.1224, Test Acc: 0.7708\n",
            "Epoch: 171, Train Acc: 0.9286, Loss: 0.1797, Test Acc: 0.7917\n",
            "Epoch: 172, Train Acc: 0.9571, Loss: 0.3668, Test Acc: 0.8333\n",
            "Epoch: 173, Train Acc: 0.9643, Loss: 0.0823, Test Acc: 0.8333\n",
            "Epoch: 174, Train Acc: 0.9429, Loss: 0.1400, Test Acc: 0.8125\n",
            "Epoch: 175, Train Acc: 0.9571, Loss: 0.1039, Test Acc: 0.8125\n",
            "Epoch: 176, Train Acc: 0.9500, Loss: 0.3039, Test Acc: 0.8125\n",
            "Epoch: 177, Train Acc: 0.9643, Loss: 0.2360, Test Acc: 0.7917\n",
            "Epoch: 178, Train Acc: 0.9500, Loss: 0.2478, Test Acc: 0.7917\n",
            "Epoch: 179, Train Acc: 0.9571, Loss: 0.3180, Test Acc: 0.8125\n",
            "Epoch: 180, Train Acc: 0.9643, Loss: 0.2898, Test Acc: 0.7708\n",
            "Epoch: 181, Train Acc: 0.9500, Loss: 0.4575, Test Acc: 0.7917\n",
            "Epoch: 182, Train Acc: 0.9714, Loss: 0.1200, Test Acc: 0.8542\n",
            "Epoch: 183, Train Acc: 0.9500, Loss: 0.0579, Test Acc: 0.8542\n",
            "Epoch: 184, Train Acc: 0.9571, Loss: 0.0800, Test Acc: 0.7917\n",
            "Epoch: 185, Train Acc: 0.9643, Loss: 0.0045, Test Acc: 0.7917\n",
            "Epoch: 186, Train Acc: 0.9357, Loss: 0.0297, Test Acc: 0.7917\n",
            "Epoch: 187, Train Acc: 0.9357, Loss: 0.1247, Test Acc: 0.8125\n",
            "Epoch: 188, Train Acc: 0.9500, Loss: 0.0932, Test Acc: 0.8333\n",
            "Epoch: 189, Train Acc: 0.9643, Loss: 0.0026, Test Acc: 0.8125\n",
            "Epoch: 190, Train Acc: 0.9571, Loss: 0.0783, Test Acc: 0.8125\n",
            "Epoch: 191, Train Acc: 0.9429, Loss: 0.3168, Test Acc: 0.7917\n",
            "Epoch: 192, Train Acc: 0.9429, Loss: 0.0334, Test Acc: 0.7292\n",
            "Epoch: 193, Train Acc: 0.9286, Loss: 0.3093, Test Acc: 0.8125\n",
            "Epoch: 194, Train Acc: 0.9500, Loss: 0.0498, Test Acc: 0.7917\n",
            "Epoch: 195, Train Acc: 0.9500, Loss: 1.6137, Test Acc: 0.7917\n",
            "Epoch: 196, Train Acc: 0.9429, Loss: 0.1547, Test Acc: 0.8125\n",
            "Epoch: 197, Train Acc: 0.9357, Loss: 0.3399, Test Acc: 0.8333\n",
            "Epoch: 198, Train Acc: 0.9500, Loss: 0.0159, Test Acc: 0.7708\n",
            "Epoch: 199, Train Acc: 0.9286, Loss: 0.0468, Test Acc: 0.7708\n",
            "Epoch: 200, Train Acc: 0.9357, Loss: 0.3113, Test Acc: 0.8125\n"
          ]
        }
      ]
    },
    {
      "cell_type": "code",
      "source": [
        "import matplotlib.pyplot as plt\n",
        "import seaborn as sns\n",
        "losses_float_gnn = [float(loss.cpu().detach().numpy()) for loss in loss_all_gnn]\n",
        "loss_indices_gnn = [i for i,l in enumerate(losses_float_gnn)] \n",
        "sns.lineplot(loss_indices_gnn, losses_float_gnn, color = 'blue')\n",
        "plt.title(\"Loss\")\n",
        "plt.show()"
      ],
      "metadata": {
        "colab": {
          "base_uri": "https://localhost:8080/",
          "height": 337
        },
        "id": "Bw60uAMTIE_C",
        "outputId": "3e00b22d-a474-4d73-8b46-586f83138588"
      },
      "execution_count": null,
      "outputs": [
        {
          "output_type": "stream",
          "name": "stderr",
          "text": [
            "/usr/local/lib/python3.7/dist-packages/seaborn/_decorators.py:43: FutureWarning: Pass the following variables as keyword args: x, y. From version 0.12, the only valid positional argument will be `data`, and passing other arguments without an explicit keyword will result in an error or misinterpretation.\n",
            "  FutureWarning\n"
          ]
        },
        {
          "output_type": "display_data",
          "data": {
            "text/plain": [
              "<Figure size 432x288 with 1 Axes>"
            ],
            "image/png": "[encoded data removed]"
          },
          "metadata": {
            "needs_background": "light"
          }
        }
      ]
    },
    {
      "cell_type": "code",
      "source": [
        "plt.plot(train_acc_gnn, c = 'blue', label = 'train acc')\n",
        "plt.plot(test_acc_gnn, c = 'red', label = 'test acc')\n",
        "plt.legend(loc = 4)\n",
        "plt.show()"
      ],
      "metadata": {
        "colab": {
          "base_uri": "https://localhost:8080/",
          "height": 265
        },
        "id": "802v6fOrIY75",
        "outputId": "bc25c710-97a0-4463-bcb3-66a8e2033308"
      },
      "execution_count": null,
      "outputs": [
        {
          "output_type": "display_data",
          "data": {
            "text/plain": [
              "<Figure size 432x288 with 1 Axes>"
            ],
            "image/png": "[encoded data removed]"
          },
          "metadata": {
            "needs_background": "light"
          }
        }
      ]
    }
  ]
}