{
  "nbformat": 4,
  "nbformat_minor": 0,
  "metadata": {
    "colab": {
      "provenance": [],
      "authorship_tag": "ABX9TyO6eS+XP1HHp+G3sb4wtg9A",
      "include_colab_link": true
    },
    "kernelspec": {
      "name": "python3",
      "display_name": "Python 3"
    },
    "language_info": {
      "name": "python"
    }
  },
  "cells": [
    {
      "cell_type": "markdown",
      "metadata": {
        "id": "view-in-github",
        "colab_type": "text"
      },
      "source": [
        "<a href=\"https://colab.research.google.com/github/Danial-sb/Graph_Level_Prediction/blob/main/Graph_Level_Prediction.ipynb\" target=\"_parent\"><img src=\"https://colab.research.google.com/assets/colab-badge.svg\" alt=\"Open In Colab\"/></a>"
      ]
    },
    {
      "cell_type": "markdown",
      "source": [
        "#### In this colab, we do graph level prediction for MUTAG dataset. In the part of training the GNN, first we embed the nodes via message passing. second, we aggregate node embeddings into a graph embedding, and finally, we train a classifier on the graph embeddings."
      ],
      "metadata": {
        "id": "bNG1kImgLO9x"
      }
    },
    {
      "cell_type": "markdown",
      "source": [
        "### **What is MUTAG dataset?**\n",
        "\n",
        "MUTAG is a collection of nitroaromatic compounds and the goal is to predict their mutagenicity on Salmonella typhimurium. Input graphs are used to represent chemical compounds, where vertices stand for atoms and are labeled by the atom type (represented by one-hot encoding), while edges between vertices represent bonds between the corresponding atoms. It includes 188 samples of chemical compounds with 7 discrete node labels.\n",
        "\n",
        "##### https://paperswithcode.com/dataset/mutag"
      ],
      "metadata": {
        "id": "Fqh6LhoVMKSJ"
      }
    },
    {
      "cell_type": "code",
      "execution_count": 1,
      "metadata": {
        "colab": {
          "base_uri": "https://localhost:8080/"
        },
        "id": "tjrSopEzrPYW",
        "outputId": "a5a715b5-cb0b-4d7b-968d-ce81a363e50d"
      },
      "outputs": [
        {
          "output_type": "stream",
          "name": "stdout",
          "text": [
            "1.12.1+cu113\n"
          ]
        }
      ],
      "source": [
        "import torch\n",
        "print(torch.__version__)"
      ]
    },
    {
      "cell_type": "code",
      "source": [
        "!pip install -q torch-scatter -f https://data.pyg.org/whl/torch-1.12.1+cu113.html\n",
        "!pip install -q torch-sparse -f https://data.pyg.org/whl/torch-1.12.1+cu113.html\n",
        "!pip install -q git+https://github.com/pyg-team/pytorch_geometric.git"
      ],
      "metadata": {
        "colab": {
          "base_uri": "https://localhost:8080/"
        },
        "id": "GAM342RnrWLe",
        "outputId": "d70c0649-bfec-449a-f717-f5070abeb283"
      },
      "execution_count": 2,
      "outputs": [
        {
          "output_type": "stream",
          "name": "stdout",
          "text": [
            "\u001b[K     |████████████████████████████████| 8.9 MB 11.0 MB/s \n",
            "\u001b[K     |████████████████████████████████| 3.5 MB 8.5 MB/s \n",
            "\u001b[K     |████████████████████████████████| 280 kB 2.3 MB/s \n",
            "\u001b[?25h  Building wheel for torch-geometric (setup.py) ... \u001b[?25l\u001b[?25hdone\n"
          ]
        }
      ]
    },
    {
      "cell_type": "code",
      "source": [
        "from torch_geometric.datasets import TUDataset\n",
        "from torch_geometric.loader import DataLoader\n",
        "from torch.nn import Linear\n",
        "import torch.nn.functional as F\n",
        "from torch_geometric.nn import GCNConv\n",
        "from torch_geometric.nn import global_mean_pool\n",
        "from torch_geometric.nn import GraphConv\n",
        "import torchvision.transforms as T\n",
        "from torch.nn import BatchNorm1d"
      ],
      "metadata": {
        "id": "T4JwqGWZrfix"
      },
      "execution_count": 3,
      "outputs": []
    },
    {
      "cell_type": "code",
      "source": [
        "dataset = TUDataset('/content/sample_data', 'MUTAG')\n",
        "\n",
        "print(dataset)\n",
        "print(f\"Number of the graphs: {len(dataset)}\")\n",
        "print(f\"Number of features: {dataset.num_features}\")\n",
        "print(f\"Number of classes: {dataset.num_classes}\")"
      ],
      "metadata": {
        "colab": {
          "base_uri": "https://localhost:8080/"
        },
        "id": "yMwdc2marrr6",
        "outputId": "2be4431a-7739-4e02-bb20-31decf2b68c4"
      },
      "execution_count": 4,
      "outputs": [
        {
          "output_type": "stream",
          "name": "stderr",
          "text": [
            "Downloading https://www.chrsmrrs.com/graphkerneldatasets/MUTAG.zip\n"
          ]
        },
        {
          "output_type": "stream",
          "name": "stdout",
          "text": [
            "MUTAG(188)\n",
            "Number of the graphs: 188\n",
            "Number of features: 7\n",
            "Number of classes: 2\n"
          ]
        },
        {
          "output_type": "stream",
          "name": "stderr",
          "text": [
            "Extracting /content/sample_data/MUTAG/MUTAG.zip\n",
            "Processing...\n",
            "Done!\n"
          ]
        }
      ]
    },
    {
      "cell_type": "code",
      "source": [
        "data = dataset[0]\n",
        "\n",
        "print(data)\n",
        "print(f\"Number of nodes in the first graph: {data.num_nodes}\")\n",
        "print(f\"Number of features in the first graph: {data.num_features}\")\n",
        "print(f\"Number of edges in the first graph: {data.num_edges}\")\n",
        "print(f'Average node degree: {data.num_edges / data.num_nodes:.2f}')"
      ],
      "metadata": {
        "colab": {
          "base_uri": "https://localhost:8080/"
        },
        "id": "BhjITcXIsvHl",
        "outputId": "f2aef40c-270c-4839-adc1-9dda7ed9a1cb"
      },
      "execution_count": 5,
      "outputs": [
        {
          "output_type": "stream",
          "name": "stdout",
          "text": [
            "Data(edge_index=[2, 38], x=[17, 7], edge_attr=[38, 4], y=[1])\n",
            "Number of nodes in the first graph: 17\n",
            "Number of features in the first graph: 7\n",
            "Number of edges in the first graph: 38\n",
            "Average node degree: 2.24\n"
          ]
        }
      ]
    },
    {
      "cell_type": "code",
      "source": [
        "train_dataset = dataset[:140]\n",
        "test_dataset = dataset[140:]\n",
        "\n",
        "print(f'Number of training graphs: {len(train_dataset)}')\n",
        "print(f'Number of test graphs: {len(test_dataset)}')"
      ],
      "metadata": {
        "colab": {
          "base_uri": "https://localhost:8080/"
        },
        "id": "GM0O9H87tB6H",
        "outputId": "6fd38f66-b150-4369-f142-08af09699f6f"
      },
      "execution_count": 6,
      "outputs": [
        {
          "output_type": "stream",
          "name": "stdout",
          "text": [
            "Number of training graphs: 140\n",
            "Number of test graphs: 48\n"
          ]
        }
      ]
    },
    {
      "cell_type": "code",
      "source": [
        "train_loader = DataLoader(train_dataset, batch_size=64, shuffle=True)\n",
        "test_loader = DataLoader(test_dataset, batch_size=64, shuffle=False)\n",
        "# batch maps each node to its respective graph in the batch\n",
        "for step, data in enumerate(train_loader):\n",
        "    print(f'Step {step + 1}:')\n",
        "    print('=======')\n",
        "    print(f'Number of graphs in the current batch: {data.num_graphs}')\n",
        "    print(data)\n",
        "    print()"
      ],
      "metadata": {
        "colab": {
          "base_uri": "https://localhost:8080/"
        },
        "id": "FBoB3VWAu18c",
        "outputId": "6974dadc-0a1b-44bd-cbc9-76760636cf18"
      },
      "execution_count": 7,
      "outputs": [
        {
          "output_type": "stream",
          "name": "stdout",
          "text": [
            "Step 1:\n",
            "=======\n",
            "Number of graphs in the current batch: 64\n",
            "DataBatch(edge_index=[2, 2648], x=[1187, 7], edge_attr=[2648, 4], y=[64], batch=[1187], ptr=[65])\n",
            "\n",
            "Step 2:\n",
            "=======\n",
            "Number of graphs in the current batch: 64\n",
            "DataBatch(edge_index=[2, 2464], x=[1123, 7], edge_attr=[2464, 4], y=[64], batch=[1123], ptr=[65])\n",
            "\n",
            "Step 3:\n",
            "=======\n",
            "Number of graphs in the current batch: 12\n",
            "DataBatch(edge_index=[2, 508], x=[228, 7], edge_attr=[508, 4], y=[12], batch=[228], ptr=[13])\n",
            "\n"
          ]
        }
      ]
    },
    {
      "cell_type": "markdown",
      "source": [
        "In this part, we do the message passing between nodes through 3 GCN layers. Then, we need to aggregate the embeddings to perform graph level prediction, and in this part we use average pooling."
      ],
      "metadata": {
        "id": "9zSo_5WONKLa"
      }
    },
    {
      "cell_type": "code",
      "source": [
        "class GCN(torch.nn.Module):\n",
        "  def __init__(self, input_channels, hidden_channels, output_channels):\n",
        "     super(GCN, self).__init__()\n",
        "\n",
        "     self.conv1 = GCNConv(input_channels, hidden_channels)\n",
        "     self.bn1 = BatchNorm1d(hidden_channels)\n",
        "     self.conv2 = GCNConv(hidden_channels, hidden_channels)\n",
        "     self.bn2 = BatchNorm1d(hidden_channels)\n",
        "     self.conv3 = GCNConv(hidden_channels, hidden_channels)\n",
        "     self.lin = Linear(hidden_channels, output_channels)\n",
        "\n",
        "  def forward(self, x, edge_index, batch):\n",
        "    x = self.conv1(x, edge_index)\n",
        "    x = F.relu(self.bn1(x))\n",
        "    x = self.conv2(x, edge_index)\n",
        "    x = F.relu(self.bn2(x))\n",
        "    x = self.conv3(x, edge_index)\n",
        "\n",
        "    # Average pooling (Readout layer)\n",
        "    x = global_mean_pool(x, batch)\n",
        "\n",
        "    x = F.dropout(x, 0.2, training = self.training)\n",
        "    x = self.lin(x)\n",
        "\n",
        "    return x\n",
        "\n",
        "model = GCN(dataset.num_features, 64, dataset.num_classes)\n",
        "print(model)"
      ],
      "metadata": {
        "colab": {
          "base_uri": "https://localhost:8080/"
        },
        "id": "hivsMs8Kvsx7",
        "outputId": "ecee965f-7747-4d2f-a760-f626020c5841"
      },
      "execution_count": 8,
      "outputs": [
        {
          "output_type": "stream",
          "name": "stdout",
          "text": [
            "GCN(\n",
            "  (conv1): GCNConv(7, 64)\n",
            "  (bn1): BatchNorm1d(64, eps=1e-05, momentum=0.1, affine=True, track_running_stats=True)\n",
            "  (conv2): GCNConv(64, 64)\n",
            "  (bn2): BatchNorm1d(64, eps=1e-05, momentum=0.1, affine=True, track_running_stats=True)\n",
            "  (conv3): GCNConv(64, 64)\n",
            "  (lin): Linear(in_features=64, out_features=2, bias=True)\n",
            ")\n"
          ]
        }
      ]
    },
    {
      "cell_type": "code",
      "source": [
        "len(train_dataset)"
      ],
      "metadata": {
        "colab": {
          "base_uri": "https://localhost:8080/"
        },
        "id": "Khka2BNKpwJ3",
        "outputId": "c8af84a5-e56d-42ef-8bea-7d70b44c5f67"
      },
      "execution_count": 14,
      "outputs": [
        {
          "output_type": "execute_result",
          "data": {
            "text/plain": [
              "140"
            ]
          },
          "metadata": {},
          "execution_count": 14
        }
      ]
    },
    {
      "cell_type": "code",
      "source": [
        "model = GCN(dataset.num_features, 64, dataset.num_classes)\n",
        "optimizer = torch.optim.Adam(model.parameters(), lr=0.01, weight_decay=5e-4)\n",
        "criterion = torch.nn.CrossEntropyLoss()\n",
        "\n",
        "def train():\n",
        "  model.train()\n",
        "  correct = 0\n",
        "  loss_all = 0\n",
        "  for data in train_loader:\n",
        "    optimizer.zero_grad()\n",
        "    out = model(data.x, data.edge_index, data.batch)\n",
        "    loss = criterion(out, data.y)\n",
        "    loss.backward()\n",
        "    optimizer.step()\n",
        "    loss_all += loss.item() * data.num_graphs\n",
        "    pred = out.argmax(dim=1)\n",
        "    correct += int((pred == data.y).sum())\n",
        "  return (loss_all / len(train_dataset)), (correct / len(train_dataset))\n",
        "\n",
        "@torch.no_grad()\n",
        "def test():\n",
        "     model.eval()\n",
        "     correct = 0\n",
        "     for data in test_loader:\n",
        "         out = model(data.x, data.edge_index, data.batch)  \n",
        "         pred = out.argmax(dim=1)\n",
        "         correct += int((pred == data.y).sum())\n",
        "     return correct / len(test_dataset)\n",
        "\n",
        "loss_all = []\n",
        "train_acc = []\n",
        "test_acc = []\n",
        "for epoch in range(1, 201):\n",
        "    loss, acc = train()\n",
        "    loss_all.append(loss)\n",
        "    train_acc.append(acc)\n",
        "    t_acc = test()\n",
        "    test_acc.append(t_acc)\n",
        "    print(f'Epoch: {epoch}, Train Acc: {acc:.4f}, Loss: {loss:.4f}, Test Acc: {t_acc:.4f}')\n"
      ],
      "metadata": {
        "colab": {
          "base_uri": "https://localhost:8080/"
        },
        "id": "LWPOu37IxeNl",
        "outputId": "e170b476-7dd8-4c3d-83de-e8209195a70a"
      },
      "execution_count": 16,
      "outputs": [
        {
          "output_type": "stream",
          "name": "stdout",
          "text": [
            "Epoch: 1, Train Acc: 0.5357, Loss: 0.6946, Test Acc: 0.6250\n",
            "Epoch: 2, Train Acc: 0.7571, Loss: 0.4969, Test Acc: 0.6250\n",
            "Epoch: 3, Train Acc: 0.7357, Loss: 0.5233, Test Acc: 0.6250\n",
            "Epoch: 4, Train Acc: 0.7714, Loss: 0.5357, Test Acc: 0.6250\n",
            "Epoch: 5, Train Acc: 0.7571, Loss: 0.5715, Test Acc: 0.6250\n",
            "Epoch: 6, Train Acc: 0.7714, Loss: 0.4936, Test Acc: 0.6250\n",
            "Epoch: 7, Train Acc: 0.7500, Loss: 0.5479, Test Acc: 0.6250\n",
            "Epoch: 8, Train Acc: 0.7786, Loss: 0.4786, Test Acc: 0.6250\n",
            "Epoch: 9, Train Acc: 0.7571, Loss: 0.5128, Test Acc: 0.6250\n",
            "Epoch: 10, Train Acc: 0.7786, Loss: 0.5104, Test Acc: 0.6250\n",
            "Epoch: 11, Train Acc: 0.7786, Loss: 0.4745, Test Acc: 0.6042\n",
            "Epoch: 12, Train Acc: 0.7786, Loss: 0.5058, Test Acc: 0.6042\n",
            "Epoch: 13, Train Acc: 0.7857, Loss: 0.4803, Test Acc: 0.6250\n",
            "Epoch: 14, Train Acc: 0.7786, Loss: 0.4765, Test Acc: 0.6250\n",
            "Epoch: 15, Train Acc: 0.7714, Loss: 0.4962, Test Acc: 0.6042\n",
            "Epoch: 16, Train Acc: 0.7714, Loss: 0.4822, Test Acc: 0.6667\n",
            "Epoch: 17, Train Acc: 0.7643, Loss: 0.4873, Test Acc: 0.7292\n",
            "Epoch: 18, Train Acc: 0.7643, Loss: 0.4775, Test Acc: 0.7292\n",
            "Epoch: 19, Train Acc: 0.7786, Loss: 0.4893, Test Acc: 0.6875\n",
            "Epoch: 20, Train Acc: 0.8000, Loss: 0.4789, Test Acc: 0.7083\n",
            "Epoch: 21, Train Acc: 0.7786, Loss: 0.4692, Test Acc: 0.7292\n",
            "Epoch: 22, Train Acc: 0.7786, Loss: 0.4799, Test Acc: 0.7083\n",
            "Epoch: 23, Train Acc: 0.7857, Loss: 0.4868, Test Acc: 0.3750\n",
            "Epoch: 24, Train Acc: 0.7643, Loss: 0.5193, Test Acc: 0.7083\n",
            "Epoch: 25, Train Acc: 0.7643, Loss: 0.5100, Test Acc: 0.6875\n",
            "Epoch: 26, Train Acc: 0.7643, Loss: 0.5018, Test Acc: 0.6667\n",
            "Epoch: 27, Train Acc: 0.7643, Loss: 0.4756, Test Acc: 0.7292\n",
            "Epoch: 28, Train Acc: 0.7786, Loss: 0.4780, Test Acc: 0.7292\n",
            "Epoch: 29, Train Acc: 0.7929, Loss: 0.4890, Test Acc: 0.7708\n",
            "Epoch: 30, Train Acc: 0.7500, Loss: 0.4878, Test Acc: 0.7292\n",
            "Epoch: 31, Train Acc: 0.7643, Loss: 0.4767, Test Acc: 0.7292\n",
            "Epoch: 32, Train Acc: 0.7643, Loss: 0.4674, Test Acc: 0.7083\n",
            "Epoch: 33, Train Acc: 0.8000, Loss: 0.4634, Test Acc: 0.7083\n",
            "Epoch: 34, Train Acc: 0.8000, Loss: 0.4637, Test Acc: 0.7292\n",
            "Epoch: 35, Train Acc: 0.7786, Loss: 0.4779, Test Acc: 0.7083\n",
            "Epoch: 36, Train Acc: 0.7929, Loss: 0.4680, Test Acc: 0.4167\n",
            "Epoch: 37, Train Acc: 0.8143, Loss: 0.4804, Test Acc: 0.7083\n",
            "Epoch: 38, Train Acc: 0.7786, Loss: 0.4564, Test Acc: 0.6458\n",
            "Epoch: 39, Train Acc: 0.7786, Loss: 0.4614, Test Acc: 0.6875\n",
            "Epoch: 40, Train Acc: 0.7857, Loss: 0.4828, Test Acc: 0.7292\n",
            "Epoch: 41, Train Acc: 0.7929, Loss: 0.4783, Test Acc: 0.7292\n",
            "Epoch: 42, Train Acc: 0.7929, Loss: 0.4566, Test Acc: 0.7083\n",
            "Epoch: 43, Train Acc: 0.7786, Loss: 0.4664, Test Acc: 0.7083\n",
            "Epoch: 44, Train Acc: 0.7929, Loss: 0.4527, Test Acc: 0.6667\n",
            "Epoch: 45, Train Acc: 0.8000, Loss: 0.4423, Test Acc: 0.6875\n",
            "Epoch: 46, Train Acc: 0.8071, Loss: 0.4428, Test Acc: 0.3958\n",
            "Epoch: 47, Train Acc: 0.7929, Loss: 0.4526, Test Acc: 0.4375\n",
            "Epoch: 48, Train Acc: 0.8071, Loss: 0.4240, Test Acc: 0.7500\n",
            "Epoch: 49, Train Acc: 0.8143, Loss: 0.4399, Test Acc: 0.7083\n",
            "Epoch: 50, Train Acc: 0.7857, Loss: 0.4283, Test Acc: 0.7083\n",
            "Epoch: 51, Train Acc: 0.8214, Loss: 0.4239, Test Acc: 0.4583\n",
            "Epoch: 52, Train Acc: 0.8000, Loss: 0.4115, Test Acc: 0.3750\n",
            "Epoch: 53, Train Acc: 0.8214, Loss: 0.4240, Test Acc: 0.3750\n",
            "Epoch: 54, Train Acc: 0.8500, Loss: 0.4153, Test Acc: 0.3750\n",
            "Epoch: 55, Train Acc: 0.8143, Loss: 0.4385, Test Acc: 0.7292\n",
            "Epoch: 56, Train Acc: 0.8000, Loss: 0.4248, Test Acc: 0.6458\n",
            "Epoch: 57, Train Acc: 0.7929, Loss: 0.4300, Test Acc: 0.6667\n",
            "Epoch: 58, Train Acc: 0.7571, Loss: 0.4557, Test Acc: 0.6458\n",
            "Epoch: 59, Train Acc: 0.7500, Loss: 0.4693, Test Acc: 0.3333\n",
            "Epoch: 60, Train Acc: 0.8000, Loss: 0.4254, Test Acc: 0.7500\n",
            "Epoch: 61, Train Acc: 0.8000, Loss: 0.4530, Test Acc: 0.6875\n",
            "Epoch: 62, Train Acc: 0.7500, Loss: 0.4806, Test Acc: 0.7500\n",
            "Epoch: 63, Train Acc: 0.7929, Loss: 0.4753, Test Acc: 0.6667\n",
            "Epoch: 64, Train Acc: 0.8143, Loss: 0.4160, Test Acc: 0.7708\n",
            "Epoch: 65, Train Acc: 0.8000, Loss: 0.4247, Test Acc: 0.7500\n",
            "Epoch: 66, Train Acc: 0.7714, Loss: 0.4280, Test Acc: 0.6667\n",
            "Epoch: 67, Train Acc: 0.8357, Loss: 0.4210, Test Acc: 0.6875\n",
            "Epoch: 68, Train Acc: 0.7714, Loss: 0.4559, Test Acc: 0.3750\n",
            "Epoch: 69, Train Acc: 0.8143, Loss: 0.4191, Test Acc: 0.3750\n",
            "Epoch: 70, Train Acc: 0.8143, Loss: 0.4120, Test Acc: 0.3750\n",
            "Epoch: 71, Train Acc: 0.8214, Loss: 0.4222, Test Acc: 0.3333\n",
            "Epoch: 72, Train Acc: 0.8071, Loss: 0.4221, Test Acc: 0.7500\n",
            "Epoch: 73, Train Acc: 0.8357, Loss: 0.4133, Test Acc: 0.7292\n",
            "Epoch: 74, Train Acc: 0.8286, Loss: 0.3688, Test Acc: 0.7083\n",
            "Epoch: 75, Train Acc: 0.8000, Loss: 0.3842, Test Acc: 0.3750\n",
            "Epoch: 76, Train Acc: 0.8714, Loss: 0.3838, Test Acc: 0.3750\n",
            "Epoch: 77, Train Acc: 0.8500, Loss: 0.3766, Test Acc: 0.7500\n",
            "Epoch: 78, Train Acc: 0.8429, Loss: 0.4014, Test Acc: 0.3750\n",
            "Epoch: 79, Train Acc: 0.8357, Loss: 0.3616, Test Acc: 0.3750\n",
            "Epoch: 80, Train Acc: 0.8286, Loss: 0.3948, Test Acc: 0.3750\n",
            "Epoch: 81, Train Acc: 0.8286, Loss: 0.4003, Test Acc: 0.3750\n",
            "Epoch: 82, Train Acc: 0.8286, Loss: 0.4084, Test Acc: 0.7292\n",
            "Epoch: 83, Train Acc: 0.8357, Loss: 0.3827, Test Acc: 0.6667\n",
            "Epoch: 84, Train Acc: 0.7786, Loss: 0.4166, Test Acc: 0.7083\n",
            "Epoch: 85, Train Acc: 0.8357, Loss: 0.3708, Test Acc: 0.6667\n",
            "Epoch: 86, Train Acc: 0.8643, Loss: 0.3671, Test Acc: 0.7292\n",
            "Epoch: 87, Train Acc: 0.8714, Loss: 0.3506, Test Acc: 0.7500\n",
            "Epoch: 88, Train Acc: 0.8071, Loss: 0.4029, Test Acc: 0.7917\n",
            "Epoch: 89, Train Acc: 0.8429, Loss: 0.3475, Test Acc: 0.6667\n",
            "Epoch: 90, Train Acc: 0.8500, Loss: 0.3621, Test Acc: 0.7500\n",
            "Epoch: 91, Train Acc: 0.8143, Loss: 0.3896, Test Acc: 0.6667\n",
            "Epoch: 92, Train Acc: 0.8286, Loss: 0.3653, Test Acc: 0.3750\n",
            "Epoch: 93, Train Acc: 0.8500, Loss: 0.3809, Test Acc: 0.3750\n",
            "Epoch: 94, Train Acc: 0.7857, Loss: 0.4176, Test Acc: 0.3750\n",
            "Epoch: 95, Train Acc: 0.8786, Loss: 0.3490, Test Acc: 0.7292\n",
            "Epoch: 96, Train Acc: 0.7786, Loss: 0.4628, Test Acc: 0.3750\n",
            "Epoch: 97, Train Acc: 0.8214, Loss: 0.4349, Test Acc: 0.3542\n",
            "Epoch: 98, Train Acc: 0.8071, Loss: 0.4411, Test Acc: 0.3750\n",
            "Epoch: 99, Train Acc: 0.8071, Loss: 0.4125, Test Acc: 0.7083\n",
            "Epoch: 100, Train Acc: 0.7929, Loss: 0.4364, Test Acc: 0.7083\n",
            "Epoch: 101, Train Acc: 0.8071, Loss: 0.4099, Test Acc: 0.3750\n",
            "Epoch: 102, Train Acc: 0.8071, Loss: 0.3875, Test Acc: 0.3542\n",
            "Epoch: 103, Train Acc: 0.8143, Loss: 0.4015, Test Acc: 0.6458\n",
            "Epoch: 104, Train Acc: 0.8214, Loss: 0.4491, Test Acc: 0.6667\n",
            "Epoch: 105, Train Acc: 0.8286, Loss: 0.4048, Test Acc: 0.6875\n",
            "Epoch: 106, Train Acc: 0.8143, Loss: 0.3795, Test Acc: 0.7500\n",
            "Epoch: 107, Train Acc: 0.8143, Loss: 0.4138, Test Acc: 0.7083\n",
            "Epoch: 108, Train Acc: 0.8643, Loss: 0.3570, Test Acc: 0.6875\n",
            "Epoch: 109, Train Acc: 0.8500, Loss: 0.3765, Test Acc: 0.6667\n",
            "Epoch: 110, Train Acc: 0.8286, Loss: 0.3973, Test Acc: 0.6875\n",
            "Epoch: 111, Train Acc: 0.8286, Loss: 0.3706, Test Acc: 0.7500\n",
            "Epoch: 112, Train Acc: 0.8357, Loss: 0.3636, Test Acc: 0.7500\n",
            "Epoch: 113, Train Acc: 0.8643, Loss: 0.3607, Test Acc: 0.7292\n",
            "Epoch: 114, Train Acc: 0.8286, Loss: 0.3630, Test Acc: 0.7292\n",
            "Epoch: 115, Train Acc: 0.8429, Loss: 0.3634, Test Acc: 0.3750\n",
            "Epoch: 116, Train Acc: 0.8571, Loss: 0.3286, Test Acc: 0.3750\n",
            "Epoch: 117, Train Acc: 0.8500, Loss: 0.3315, Test Acc: 0.3750\n",
            "Epoch: 118, Train Acc: 0.8714, Loss: 0.3342, Test Acc: 0.3750\n",
            "Epoch: 119, Train Acc: 0.8571, Loss: 0.3514, Test Acc: 0.3542\n",
            "Epoch: 120, Train Acc: 0.8929, Loss: 0.3153, Test Acc: 0.7083\n",
            "Epoch: 121, Train Acc: 0.8786, Loss: 0.3159, Test Acc: 0.7500\n",
            "Epoch: 122, Train Acc: 0.8429, Loss: 0.3433, Test Acc: 0.7292\n",
            "Epoch: 123, Train Acc: 0.8571, Loss: 0.3384, Test Acc: 0.5417\n",
            "Epoch: 124, Train Acc: 0.8714, Loss: 0.3260, Test Acc: 0.7917\n",
            "Epoch: 125, Train Acc: 0.8643, Loss: 0.3600, Test Acc: 0.7708\n",
            "Epoch: 126, Train Acc: 0.8857, Loss: 0.3514, Test Acc: 0.7500\n",
            "Epoch: 127, Train Acc: 0.8643, Loss: 0.3477, Test Acc: 0.7500\n",
            "Epoch: 128, Train Acc: 0.8714, Loss: 0.3445, Test Acc: 0.7083\n",
            "Epoch: 129, Train Acc: 0.7500, Loss: 0.4539, Test Acc: 0.7917\n",
            "Epoch: 130, Train Acc: 0.8143, Loss: 0.3875, Test Acc: 0.7292\n",
            "Epoch: 131, Train Acc: 0.8286, Loss: 0.3781, Test Acc: 0.7083\n",
            "Epoch: 132, Train Acc: 0.8643, Loss: 0.3933, Test Acc: 0.5000\n",
            "Epoch: 133, Train Acc: 0.8286, Loss: 0.3475, Test Acc: 0.3750\n",
            "Epoch: 134, Train Acc: 0.8714, Loss: 0.3429, Test Acc: 0.3750\n",
            "Epoch: 135, Train Acc: 0.9000, Loss: 0.3144, Test Acc: 0.3750\n",
            "Epoch: 136, Train Acc: 0.7929, Loss: 0.3965, Test Acc: 0.3750\n",
            "Epoch: 137, Train Acc: 0.8786, Loss: 0.3229, Test Acc: 0.3750\n",
            "Epoch: 138, Train Acc: 0.8000, Loss: 0.3956, Test Acc: 0.3333\n",
            "Epoch: 139, Train Acc: 0.8429, Loss: 0.3477, Test Acc: 0.7292\n",
            "Epoch: 140, Train Acc: 0.8643, Loss: 0.3301, Test Acc: 0.7708\n",
            "Epoch: 141, Train Acc: 0.8429, Loss: 0.3335, Test Acc: 0.7708\n",
            "Epoch: 142, Train Acc: 0.8929, Loss: 0.3127, Test Acc: 0.3750\n",
            "Epoch: 143, Train Acc: 0.8929, Loss: 0.2926, Test Acc: 0.3542\n",
            "Epoch: 144, Train Acc: 0.8714, Loss: 0.2994, Test Acc: 0.7083\n",
            "Epoch: 145, Train Acc: 0.8929, Loss: 0.3128, Test Acc: 0.6667\n",
            "Epoch: 146, Train Acc: 0.8714, Loss: 0.3224, Test Acc: 0.6667\n",
            "Epoch: 147, Train Acc: 0.8929, Loss: 0.2733, Test Acc: 0.6458\n",
            "Epoch: 148, Train Acc: 0.8929, Loss: 0.2899, Test Acc: 0.7083\n",
            "Epoch: 149, Train Acc: 0.8714, Loss: 0.2912, Test Acc: 0.7083\n",
            "Epoch: 150, Train Acc: 0.8500, Loss: 0.3344, Test Acc: 0.7083\n",
            "Epoch: 151, Train Acc: 0.8929, Loss: 0.2811, Test Acc: 0.7500\n",
            "Epoch: 152, Train Acc: 0.8786, Loss: 0.3130, Test Acc: 0.7083\n",
            "Epoch: 153, Train Acc: 0.8929, Loss: 0.2877, Test Acc: 0.6875\n",
            "Epoch: 154, Train Acc: 0.8857, Loss: 0.3273, Test Acc: 0.7708\n",
            "Epoch: 155, Train Acc: 0.8714, Loss: 0.3068, Test Acc: 0.7500\n",
            "Epoch: 156, Train Acc: 0.8786, Loss: 0.2959, Test Acc: 0.3750\n",
            "Epoch: 157, Train Acc: 0.8786, Loss: 0.3112, Test Acc: 0.3750\n",
            "Epoch: 158, Train Acc: 0.9071, Loss: 0.2968, Test Acc: 0.4167\n",
            "Epoch: 159, Train Acc: 0.8714, Loss: 0.2981, Test Acc: 0.5208\n",
            "Epoch: 160, Train Acc: 0.8857, Loss: 0.2863, Test Acc: 0.6875\n",
            "Epoch: 161, Train Acc: 0.8571, Loss: 0.3127, Test Acc: 0.6875\n",
            "Epoch: 162, Train Acc: 0.8571, Loss: 0.3211, Test Acc: 0.3750\n",
            "Epoch: 163, Train Acc: 0.9214, Loss: 0.2692, Test Acc: 0.6667\n",
            "Epoch: 164, Train Acc: 0.8500, Loss: 0.4034, Test Acc: 0.6875\n",
            "Epoch: 165, Train Acc: 0.8857, Loss: 0.3598, Test Acc: 0.6458\n",
            "Epoch: 166, Train Acc: 0.9000, Loss: 0.2974, Test Acc: 0.6458\n",
            "Epoch: 167, Train Acc: 0.8857, Loss: 0.2935, Test Acc: 0.7083\n",
            "Epoch: 168, Train Acc: 0.9000, Loss: 0.2841, Test Acc: 0.7083\n",
            "Epoch: 169, Train Acc: 0.8929, Loss: 0.2941, Test Acc: 0.6667\n",
            "Epoch: 170, Train Acc: 0.8929, Loss: 0.3025, Test Acc: 0.7083\n",
            "Epoch: 171, Train Acc: 0.8500, Loss: 0.3721, Test Acc: 0.3750\n",
            "Epoch: 172, Train Acc: 0.8786, Loss: 0.3244, Test Acc: 0.3750\n",
            "Epoch: 173, Train Acc: 0.8286, Loss: 0.3200, Test Acc: 0.3750\n",
            "Epoch: 174, Train Acc: 0.9000, Loss: 0.3057, Test Acc: 0.3750\n",
            "Epoch: 175, Train Acc: 0.8786, Loss: 0.3014, Test Acc: 0.3542\n",
            "Epoch: 176, Train Acc: 0.8857, Loss: 0.2814, Test Acc: 0.5625\n",
            "Epoch: 177, Train Acc: 0.9000, Loss: 0.2812, Test Acc: 0.7500\n",
            "Epoch: 178, Train Acc: 0.8857, Loss: 0.2949, Test Acc: 0.3958\n",
            "Epoch: 179, Train Acc: 0.8786, Loss: 0.2755, Test Acc: 0.3333\n",
            "Epoch: 180, Train Acc: 0.9000, Loss: 0.2623, Test Acc: 0.7083\n",
            "Epoch: 181, Train Acc: 0.9071, Loss: 0.2515, Test Acc: 0.7292\n",
            "Epoch: 182, Train Acc: 0.8643, Loss: 0.2850, Test Acc: 0.7292\n",
            "Epoch: 183, Train Acc: 0.8929, Loss: 0.2576, Test Acc: 0.3542\n",
            "Epoch: 184, Train Acc: 0.8357, Loss: 0.3545, Test Acc: 0.3750\n",
            "Epoch: 185, Train Acc: 0.8714, Loss: 0.2811, Test Acc: 0.6875\n",
            "Epoch: 186, Train Acc: 0.8500, Loss: 0.4062, Test Acc: 0.3750\n",
            "Epoch: 187, Train Acc: 0.8714, Loss: 0.2666, Test Acc: 0.3542\n",
            "Epoch: 188, Train Acc: 0.8571, Loss: 0.3226, Test Acc: 0.3542\n",
            "Epoch: 189, Train Acc: 0.8714, Loss: 0.3111, Test Acc: 0.6875\n",
            "Epoch: 190, Train Acc: 0.9000, Loss: 0.2908, Test Acc: 0.5208\n",
            "Epoch: 191, Train Acc: 0.8357, Loss: 0.3901, Test Acc: 0.7708\n",
            "Epoch: 192, Train Acc: 0.8571, Loss: 0.3153, Test Acc: 0.7292\n",
            "Epoch: 193, Train Acc: 0.8857, Loss: 0.3456, Test Acc: 0.7292\n",
            "Epoch: 194, Train Acc: 0.8714, Loss: 0.3405, Test Acc: 0.6667\n",
            "Epoch: 195, Train Acc: 0.8714, Loss: 0.3184, Test Acc: 0.6250\n",
            "Epoch: 196, Train Acc: 0.8714, Loss: 0.3185, Test Acc: 0.6458\n",
            "Epoch: 197, Train Acc: 0.8643, Loss: 0.3377, Test Acc: 0.6667\n",
            "Epoch: 198, Train Acc: 0.8714, Loss: 0.3497, Test Acc: 0.7708\n",
            "Epoch: 199, Train Acc: 0.8786, Loss: 0.3262, Test Acc: 0.4167\n",
            "Epoch: 200, Train Acc: 0.8357, Loss: 0.3610, Test Acc: 0.4375\n"
          ]
        }
      ]
    },
    {
      "cell_type": "code",
      "source": [
        "import matplotlib.pyplot as plt\n",
        "plt.plot(loss_all, c= 'green', label = 'loss')\n",
        "plt.legend(loc = 1)\n",
        "plt.title('Loss')\n",
        "plt.show()"
      ],
      "metadata": {
        "colab": {
          "base_uri": "https://localhost:8080/",
          "height": 281
        },
        "id": "cUfoN9HHFvoO",
        "outputId": "936b346c-d4a1-4aa3-f2b4-889c23affb4d"
      },
      "execution_count": 17,
      "outputs": [
        {
          "output_type": "display_data",
          "data": {
            "text/plain": [
              "<Figure size 432x288 with 1 Axes>"
            ],
            "image/png": "[encoded data removed]"
          },
          "metadata": {
            "needs_background": "light"
          }
        }
      ]
    },
    {
      "cell_type": "code",
      "source": [
        "plt.plot(train_acc, c= 'blue', label = 'train acc')\n",
        "plt.plot(test_acc, c = 'red', label = 'test acc')\n",
        "plt.legend(loc = 4)\n",
        "plt.title('Accuracy')\n",
        "plt.show()\n",
        "# the fluctuations can be due to the size of our test data"
      ],
      "metadata": {
        "colab": {
          "base_uri": "https://localhost:8080/",
          "height": 281
        },
        "id": "fCVfEIFjHDQW",
        "outputId": "17027bbc-6330-4351-e478-729da8eed041"
      },
      "execution_count": 18,
      "outputs": [
        {
          "output_type": "display_data",
          "data": {
            "text/plain": [
              "<Figure size 432x288 with 1 Axes>"
            ],
            "image/png": "[encoded data removed]"
          },
          "metadata": {
            "needs_background": "light"
          }
        }
      ]
    },
    {
      "cell_type": "markdown",
      "source": [
        "Neighborhood normalization decreases the expressivity of GNNs in distinguishing certain graph structures. An alternative formulation gets rid of neighborhood normalization and adds a skip-connection to the GNN layer in order to preserve central node information.\n",
        "\n",
        "In the next model, we will implenent make use of GraphConv.\n",
        "\n",
        "##### For more infomration, refer to this paper: [Morris et al. (2018)](https://arxiv.org/abs/1810.02244)"
      ],
      "metadata": {
        "id": "2-GLWEqoSEuU"
      }
    },
    {
      "cell_type": "code",
      "source": [
        "class GNN(torch.nn.Module):\n",
        "    def __init__(self, input_channels, hidden_channels, output_channels):\n",
        "        super(GNN, self).__init__()\n",
        "        self.conv1 = GraphConv(input_channels, hidden_channels)\n",
        "        self.bn1 = BatchNorm1d(hidden_channels)\n",
        "        self.conv2 = GraphConv(hidden_channels, hidden_channels)\n",
        "        self.bn2 = BatchNorm1d(hidden_channels)\n",
        "        self.conv3 = GraphConv(hidden_channels, hidden_channels)\n",
        "        self.lin = Linear(hidden_channels, output_channels)\n",
        "\n",
        "    def forward(self, x, edge_index, batch):\n",
        "        x = self.conv1(x, edge_index)\n",
        "        x = F.relu(self.bn1(x))\n",
        "        x = self.conv2(x, edge_index)\n",
        "        x = F.relu(self.bn2(x))\n",
        "        x = self.conv3(x, edge_index)\n",
        "\n",
        "        x = global_mean_pool(x, batch)\n",
        "\n",
        "        x = F.dropout(x, p=0.5, training=self.training)\n",
        "        x = self.lin(x)\n",
        "        \n",
        "        return x\n",
        "\n",
        "model2 = GNN(dataset.num_features,64, dataset.num_classes)\n",
        "print(model2)"
      ],
      "metadata": {
        "colab": {
          "base_uri": "https://localhost:8080/"
        },
        "id": "amk80tlUL4Tt",
        "outputId": "0d9fd77f-a1f6-4fad-d85e-db8b69157ae7"
      },
      "execution_count": 20,
      "outputs": [
        {
          "output_type": "stream",
          "name": "stdout",
          "text": [
            "GNN(\n",
            "  (conv1): GraphConv(7, 64)\n",
            "  (bn1): BatchNorm1d(64, eps=1e-05, momentum=0.1, affine=True, track_running_stats=True)\n",
            "  (conv2): GraphConv(64, 64)\n",
            "  (bn2): BatchNorm1d(64, eps=1e-05, momentum=0.1, affine=True, track_running_stats=True)\n",
            "  (conv3): GraphConv(64, 64)\n",
            "  (lin): Linear(in_features=64, out_features=2, bias=True)\n",
            ")\n"
          ]
        }
      ]
    },
    {
      "cell_type": "code",
      "source": [
        "model2 = GNN(dataset.num_features, 64, dataset.num_classes)\n",
        "optimizer = torch.optim.Adam(model2.parameters(), lr=0.01)\n",
        "criterion = torch.nn.CrossEntropyLoss()\n",
        "\n",
        "def train():\n",
        "  model2.train()\n",
        "  correct = 0\n",
        "  loss_all = 0\n",
        "  for data in train_loader:\n",
        "    optimizer.zero_grad()\n",
        "    out = model2(data.x, data.edge_index, data.batch)\n",
        "    loss = criterion(out, data.y)\n",
        "    loss.backward()\n",
        "    optimizer.step()\n",
        "    loss_all += loss.item() * data.num_graphs\n",
        "    pred = out.argmax(dim=1)\n",
        "    correct += int((pred == data.y).sum())\n",
        "  return (loss_all / len(train_dataset)), (correct / len(train_dataset))\n",
        "\n",
        "@torch.no_grad()\n",
        "def test():\n",
        "     model2.eval()\n",
        "     correct = 0\n",
        "     for data in test_loader:\n",
        "         out = model2(data.x, data.edge_index, data.batch)  \n",
        "         pred = out.argmax(dim=1)\n",
        "         correct += int((pred == data.y).sum())\n",
        "     return correct / len(test_dataset)\n",
        "\n",
        "loss_all_gnn = []\n",
        "train_acc_gnn = []\n",
        "test_acc_gnn = []\n",
        "for epoch in range(1, 201):\n",
        "    loss, acc = train()\n",
        "    loss_all_gnn.append(loss)\n",
        "    train_acc_gnn.append(acc)\n",
        "    t_acc = test()\n",
        "    test_acc_gnn.append(t_acc)\n",
        "    print(f'Epoch: {epoch}, Train Acc: {acc:.4f}, Loss: {loss:.4f}, Test Acc: {t_acc:.4f}')\n"
      ],
      "metadata": {
        "colab": {
          "base_uri": "https://localhost:8080/"
        },
        "id": "Vggwgn8e9YUf",
        "outputId": "b403d1a3-e59f-49f0-d7e8-ee511c4d10a9"
      },
      "execution_count": 21,
      "outputs": [
        {
          "output_type": "stream",
          "name": "stdout",
          "text": [
            "Epoch: 1, Train Acc: 0.5571, Loss: 1.1597, Test Acc: 0.6250\n",
            "Epoch: 2, Train Acc: 0.7571, Loss: 0.4819, Test Acc: 0.6250\n",
            "Epoch: 3, Train Acc: 0.8143, Loss: 0.4472, Test Acc: 0.6250\n",
            "Epoch: 4, Train Acc: 0.7643, Loss: 0.4100, Test Acc: 0.6250\n",
            "Epoch: 5, Train Acc: 0.7643, Loss: 0.3904, Test Acc: 0.6250\n",
            "Epoch: 6, Train Acc: 0.8357, Loss: 0.3726, Test Acc: 0.7917\n",
            "Epoch: 7, Train Acc: 0.7929, Loss: 0.4302, Test Acc: 0.7917\n",
            "Epoch: 8, Train Acc: 0.8500, Loss: 0.3677, Test Acc: 0.6875\n",
            "Epoch: 9, Train Acc: 0.8571, Loss: 0.3039, Test Acc: 0.6667\n",
            "Epoch: 10, Train Acc: 0.8286, Loss: 0.3246, Test Acc: 0.6667\n",
            "Epoch: 11, Train Acc: 0.8214, Loss: 0.3474, Test Acc: 0.7292\n",
            "Epoch: 12, Train Acc: 0.8429, Loss: 0.2934, Test Acc: 0.6667\n",
            "Epoch: 13, Train Acc: 0.8857, Loss: 0.3280, Test Acc: 0.6667\n",
            "Epoch: 14, Train Acc: 0.9071, Loss: 0.2692, Test Acc: 0.7083\n",
            "Epoch: 15, Train Acc: 0.8857, Loss: 0.2743, Test Acc: 0.7083\n",
            "Epoch: 16, Train Acc: 0.8929, Loss: 0.2644, Test Acc: 0.7292\n",
            "Epoch: 17, Train Acc: 0.9286, Loss: 0.2285, Test Acc: 0.7917\n",
            "Epoch: 18, Train Acc: 0.8929, Loss: 0.3046, Test Acc: 0.7500\n",
            "Epoch: 19, Train Acc: 0.9429, Loss: 0.2500, Test Acc: 0.7500\n",
            "Epoch: 20, Train Acc: 0.9286, Loss: 0.2343, Test Acc: 0.7500\n",
            "Epoch: 21, Train Acc: 0.8786, Loss: 0.2612, Test Acc: 0.7500\n",
            "Epoch: 22, Train Acc: 0.9000, Loss: 0.2507, Test Acc: 0.6875\n",
            "Epoch: 23, Train Acc: 0.8857, Loss: 0.2746, Test Acc: 0.7500\n",
            "Epoch: 24, Train Acc: 0.9214, Loss: 0.2177, Test Acc: 0.8333\n",
            "Epoch: 25, Train Acc: 0.8929, Loss: 0.2489, Test Acc: 0.7917\n",
            "Epoch: 26, Train Acc: 0.9357, Loss: 0.2026, Test Acc: 0.7708\n",
            "Epoch: 27, Train Acc: 0.8929, Loss: 0.2367, Test Acc: 0.7292\n",
            "Epoch: 28, Train Acc: 0.9143, Loss: 0.1907, Test Acc: 0.7917\n",
            "Epoch: 29, Train Acc: 0.9143, Loss: 0.1920, Test Acc: 0.8125\n",
            "Epoch: 30, Train Acc: 0.9500, Loss: 0.1430, Test Acc: 0.7708\n",
            "Epoch: 31, Train Acc: 0.9571, Loss: 0.1868, Test Acc: 0.7917\n",
            "Epoch: 32, Train Acc: 0.9357, Loss: 0.2081, Test Acc: 0.7708\n",
            "Epoch: 33, Train Acc: 0.9071, Loss: 0.2287, Test Acc: 0.7292\n",
            "Epoch: 34, Train Acc: 0.9500, Loss: 0.1633, Test Acc: 0.7292\n",
            "Epoch: 35, Train Acc: 0.9071, Loss: 0.1762, Test Acc: 0.7500\n",
            "Epoch: 36, Train Acc: 0.9286, Loss: 0.1809, Test Acc: 0.7292\n",
            "Epoch: 37, Train Acc: 0.9429, Loss: 0.1874, Test Acc: 0.7500\n",
            "Epoch: 38, Train Acc: 0.9357, Loss: 0.2128, Test Acc: 0.7708\n",
            "Epoch: 39, Train Acc: 0.9214, Loss: 0.1934, Test Acc: 0.7500\n",
            "Epoch: 40, Train Acc: 0.9357, Loss: 0.1866, Test Acc: 0.7292\n",
            "Epoch: 41, Train Acc: 0.9000, Loss: 0.2304, Test Acc: 0.8333\n",
            "Epoch: 42, Train Acc: 0.9071, Loss: 0.2678, Test Acc: 0.8333\n",
            "Epoch: 43, Train Acc: 0.9143, Loss: 0.2340, Test Acc: 0.8125\n",
            "Epoch: 44, Train Acc: 0.9357, Loss: 0.1772, Test Acc: 0.8333\n",
            "Epoch: 45, Train Acc: 0.9071, Loss: 0.2176, Test Acc: 0.8333\n",
            "Epoch: 46, Train Acc: 0.9000, Loss: 0.2217, Test Acc: 0.7917\n",
            "Epoch: 47, Train Acc: 0.9143, Loss: 0.1890, Test Acc: 0.7083\n",
            "Epoch: 48, Train Acc: 0.9500, Loss: 0.1744, Test Acc: 0.7500\n",
            "Epoch: 49, Train Acc: 0.9286, Loss: 0.1959, Test Acc: 0.7708\n",
            "Epoch: 50, Train Acc: 0.9357, Loss: 0.1659, Test Acc: 0.7292\n",
            "Epoch: 51, Train Acc: 0.9429, Loss: 0.1736, Test Acc: 0.7708\n",
            "Epoch: 52, Train Acc: 0.9429, Loss: 0.1615, Test Acc: 0.7917\n",
            "Epoch: 53, Train Acc: 0.9286, Loss: 0.1415, Test Acc: 0.8125\n",
            "Epoch: 54, Train Acc: 0.9214, Loss: 0.1394, Test Acc: 0.8125\n",
            "Epoch: 55, Train Acc: 0.9214, Loss: 0.1784, Test Acc: 0.8125\n",
            "Epoch: 56, Train Acc: 0.9429, Loss: 0.1362, Test Acc: 0.8333\n",
            "Epoch: 57, Train Acc: 0.9500, Loss: 0.1365, Test Acc: 0.7708\n",
            "Epoch: 58, Train Acc: 0.9357, Loss: 0.1580, Test Acc: 0.7500\n",
            "Epoch: 59, Train Acc: 0.9357, Loss: 0.1636, Test Acc: 0.7083\n",
            "Epoch: 60, Train Acc: 0.8929, Loss: 0.1879, Test Acc: 0.7708\n",
            "Epoch: 61, Train Acc: 0.9429, Loss: 0.1544, Test Acc: 0.8125\n",
            "Epoch: 62, Train Acc: 0.9357, Loss: 0.1412, Test Acc: 0.7500\n",
            "Epoch: 63, Train Acc: 0.9571, Loss: 0.1251, Test Acc: 0.7083\n",
            "Epoch: 64, Train Acc: 0.9500, Loss: 0.1450, Test Acc: 0.7292\n",
            "Epoch: 65, Train Acc: 0.9571, Loss: 0.1181, Test Acc: 0.7708\n",
            "Epoch: 66, Train Acc: 0.9357, Loss: 0.1794, Test Acc: 0.7292\n",
            "Epoch: 67, Train Acc: 0.9143, Loss: 0.2217, Test Acc: 0.7708\n",
            "Epoch: 68, Train Acc: 0.9286, Loss: 0.1730, Test Acc: 0.6875\n",
            "Epoch: 69, Train Acc: 0.9071, Loss: 0.2170, Test Acc: 0.8333\n",
            "Epoch: 70, Train Acc: 0.9143, Loss: 0.1929, Test Acc: 0.7917\n",
            "Epoch: 71, Train Acc: 0.9429, Loss: 0.2045, Test Acc: 0.7708\n",
            "Epoch: 72, Train Acc: 0.9286, Loss: 0.2107, Test Acc: 0.7500\n",
            "Epoch: 73, Train Acc: 0.9429, Loss: 0.1712, Test Acc: 0.6875\n",
            "Epoch: 74, Train Acc: 0.9571, Loss: 0.1523, Test Acc: 0.7500\n",
            "Epoch: 75, Train Acc: 0.9286, Loss: 0.1519, Test Acc: 0.7292\n",
            "Epoch: 76, Train Acc: 0.9571, Loss: 0.1284, Test Acc: 0.7083\n",
            "Epoch: 77, Train Acc: 0.9000, Loss: 0.1958, Test Acc: 0.7083\n",
            "Epoch: 78, Train Acc: 0.9429, Loss: 0.1299, Test Acc: 0.6875\n",
            "Epoch: 79, Train Acc: 0.9357, Loss: 0.1757, Test Acc: 0.7708\n",
            "Epoch: 80, Train Acc: 0.9500, Loss: 0.1338, Test Acc: 0.7708\n",
            "Epoch: 81, Train Acc: 0.9429, Loss: 0.1383, Test Acc: 0.7917\n",
            "Epoch: 82, Train Acc: 0.9357, Loss: 0.1405, Test Acc: 0.8125\n",
            "Epoch: 83, Train Acc: 0.9500, Loss: 0.1424, Test Acc: 0.7917\n",
            "Epoch: 84, Train Acc: 0.9143, Loss: 0.2180, Test Acc: 0.7708\n",
            "Epoch: 85, Train Acc: 0.9571, Loss: 0.1270, Test Acc: 0.7917\n",
            "Epoch: 86, Train Acc: 0.9214, Loss: 0.1251, Test Acc: 0.7917\n",
            "Epoch: 87, Train Acc: 0.9500, Loss: 0.1157, Test Acc: 0.8125\n",
            "Epoch: 88, Train Acc: 0.9429, Loss: 0.1251, Test Acc: 0.7917\n",
            "Epoch: 89, Train Acc: 0.9429, Loss: 0.1067, Test Acc: 0.7917\n",
            "Epoch: 90, Train Acc: 0.9357, Loss: 0.1566, Test Acc: 0.7917\n",
            "Epoch: 91, Train Acc: 0.9429, Loss: 0.1043, Test Acc: 0.8125\n",
            "Epoch: 92, Train Acc: 0.9571, Loss: 0.1573, Test Acc: 0.8333\n",
            "Epoch: 93, Train Acc: 0.9500, Loss: 0.1396, Test Acc: 0.7917\n",
            "Epoch: 94, Train Acc: 0.9286, Loss: 0.1766, Test Acc: 0.8125\n",
            "Epoch: 95, Train Acc: 0.9429, Loss: 0.1494, Test Acc: 0.8125\n",
            "Epoch: 96, Train Acc: 0.9500, Loss: 0.1147, Test Acc: 0.7917\n",
            "Epoch: 97, Train Acc: 0.9571, Loss: 0.0905, Test Acc: 0.7708\n",
            "Epoch: 98, Train Acc: 0.9500, Loss: 0.1068, Test Acc: 0.7500\n",
            "Epoch: 99, Train Acc: 0.9429, Loss: 0.1434, Test Acc: 0.7917\n",
            "Epoch: 100, Train Acc: 0.9357, Loss: 0.1275, Test Acc: 0.7708\n",
            "Epoch: 101, Train Acc: 0.9357, Loss: 0.1567, Test Acc: 0.7292\n",
            "Epoch: 102, Train Acc: 0.9500, Loss: 0.1273, Test Acc: 0.7917\n",
            "Epoch: 103, Train Acc: 0.9500, Loss: 0.1295, Test Acc: 0.8125\n",
            "Epoch: 104, Train Acc: 0.9571, Loss: 0.1273, Test Acc: 0.7708\n",
            "Epoch: 105, Train Acc: 0.9500, Loss: 0.1159, Test Acc: 0.7500\n",
            "Epoch: 106, Train Acc: 0.9500, Loss: 0.1186, Test Acc: 0.7917\n",
            "Epoch: 107, Train Acc: 0.9500, Loss: 0.1005, Test Acc: 0.7708\n",
            "Epoch: 108, Train Acc: 0.9500, Loss: 0.1068, Test Acc: 0.7917\n",
            "Epoch: 109, Train Acc: 0.9429, Loss: 0.1384, Test Acc: 0.8333\n",
            "Epoch: 110, Train Acc: 0.9214, Loss: 0.1865, Test Acc: 0.8125\n",
            "Epoch: 111, Train Acc: 0.9571, Loss: 0.1423, Test Acc: 0.7708\n",
            "Epoch: 112, Train Acc: 0.9429, Loss: 0.1526, Test Acc: 0.8125\n",
            "Epoch: 113, Train Acc: 0.9571, Loss: 0.1342, Test Acc: 0.7917\n",
            "Epoch: 114, Train Acc: 0.9500, Loss: 0.1252, Test Acc: 0.7917\n",
            "Epoch: 115, Train Acc: 0.9429, Loss: 0.1399, Test Acc: 0.7917\n",
            "Epoch: 116, Train Acc: 0.9500, Loss: 0.1123, Test Acc: 0.7917\n",
            "Epoch: 117, Train Acc: 0.9643, Loss: 0.0918, Test Acc: 0.7708\n",
            "Epoch: 118, Train Acc: 0.9500, Loss: 0.0947, Test Acc: 0.7917\n",
            "Epoch: 119, Train Acc: 0.9571, Loss: 0.1026, Test Acc: 0.7917\n",
            "Epoch: 120, Train Acc: 0.9357, Loss: 0.1073, Test Acc: 0.7917\n",
            "Epoch: 121, Train Acc: 0.9357, Loss: 0.0957, Test Acc: 0.7917\n",
            "Epoch: 122, Train Acc: 0.9500, Loss: 0.0894, Test Acc: 0.8125\n",
            "Epoch: 123, Train Acc: 0.9786, Loss: 0.0816, Test Acc: 0.8333\n",
            "Epoch: 124, Train Acc: 0.9500, Loss: 0.1071, Test Acc: 0.8333\n",
            "Epoch: 125, Train Acc: 0.9429, Loss: 0.1123, Test Acc: 0.8125\n",
            "Epoch: 126, Train Acc: 0.9357, Loss: 0.1219, Test Acc: 0.8125\n",
            "Epoch: 127, Train Acc: 0.9286, Loss: 0.1612, Test Acc: 0.7917\n",
            "Epoch: 128, Train Acc: 0.9571, Loss: 0.1193, Test Acc: 0.8125\n",
            "Epoch: 129, Train Acc: 0.9571, Loss: 0.1193, Test Acc: 0.7917\n",
            "Epoch: 130, Train Acc: 0.9643, Loss: 0.1353, Test Acc: 0.7917\n",
            "Epoch: 131, Train Acc: 0.9429, Loss: 0.1314, Test Acc: 0.8125\n",
            "Epoch: 132, Train Acc: 0.9286, Loss: 0.1334, Test Acc: 0.8333\n",
            "Epoch: 133, Train Acc: 0.9429, Loss: 0.1595, Test Acc: 0.8125\n",
            "Epoch: 134, Train Acc: 0.9643, Loss: 0.1146, Test Acc: 0.8333\n",
            "Epoch: 135, Train Acc: 0.9500, Loss: 0.1239, Test Acc: 0.8542\n",
            "Epoch: 136, Train Acc: 0.9357, Loss: 0.1336, Test Acc: 0.7917\n",
            "Epoch: 137, Train Acc: 0.9286, Loss: 0.1199, Test Acc: 0.7708\n",
            "Epoch: 138, Train Acc: 0.9357, Loss: 0.1706, Test Acc: 0.8333\n",
            "Epoch: 139, Train Acc: 0.9429, Loss: 0.1396, Test Acc: 0.8125\n",
            "Epoch: 140, Train Acc: 0.9429, Loss: 0.1051, Test Acc: 0.8125\n",
            "Epoch: 141, Train Acc: 0.9500, Loss: 0.1614, Test Acc: 0.8333\n",
            "Epoch: 142, Train Acc: 0.9429, Loss: 0.1324, Test Acc: 0.8125\n",
            "Epoch: 143, Train Acc: 0.9571, Loss: 0.1131, Test Acc: 0.8542\n",
            "Epoch: 144, Train Acc: 0.9357, Loss: 0.1446, Test Acc: 0.8333\n",
            "Epoch: 145, Train Acc: 0.9429, Loss: 0.1216, Test Acc: 0.8125\n",
            "Epoch: 146, Train Acc: 0.9357, Loss: 0.1742, Test Acc: 0.8125\n",
            "Epoch: 147, Train Acc: 0.9357, Loss: 0.1365, Test Acc: 0.8125\n",
            "Epoch: 148, Train Acc: 0.9357, Loss: 0.1402, Test Acc: 0.8333\n",
            "Epoch: 149, Train Acc: 0.9429, Loss: 0.1268, Test Acc: 0.8542\n",
            "Epoch: 150, Train Acc: 0.9643, Loss: 0.1284, Test Acc: 0.8333\n",
            "Epoch: 151, Train Acc: 0.9571, Loss: 0.1036, Test Acc: 0.8333\n",
            "Epoch: 152, Train Acc: 0.9429, Loss: 0.1079, Test Acc: 0.8125\n",
            "Epoch: 153, Train Acc: 0.9429, Loss: 0.0914, Test Acc: 0.7917\n",
            "Epoch: 154, Train Acc: 0.9500, Loss: 0.1107, Test Acc: 0.8333\n",
            "Epoch: 155, Train Acc: 0.9571, Loss: 0.0998, Test Acc: 0.8333\n",
            "Epoch: 156, Train Acc: 0.9643, Loss: 0.0902, Test Acc: 0.8542\n",
            "Epoch: 157, Train Acc: 0.9500, Loss: 0.0818, Test Acc: 0.8333\n",
            "Epoch: 158, Train Acc: 0.9357, Loss: 0.1123, Test Acc: 0.8333\n",
            "Epoch: 159, Train Acc: 0.9500, Loss: 0.1018, Test Acc: 0.8125\n",
            "Epoch: 160, Train Acc: 0.9643, Loss: 0.0942, Test Acc: 0.8333\n",
            "Epoch: 161, Train Acc: 0.9500, Loss: 0.1044, Test Acc: 0.8125\n",
            "Epoch: 162, Train Acc: 0.9429, Loss: 0.1405, Test Acc: 0.7500\n",
            "Epoch: 163, Train Acc: 0.9286, Loss: 0.1503, Test Acc: 0.8125\n",
            "Epoch: 164, Train Acc: 0.9500, Loss: 0.1179, Test Acc: 0.8333\n",
            "Epoch: 165, Train Acc: 0.9214, Loss: 0.1731, Test Acc: 0.8125\n",
            "Epoch: 166, Train Acc: 0.9214, Loss: 0.1792, Test Acc: 0.7917\n",
            "Epoch: 167, Train Acc: 0.9643, Loss: 0.0926, Test Acc: 0.6250\n",
            "Epoch: 168, Train Acc: 0.9643, Loss: 0.1125, Test Acc: 0.5208\n",
            "Epoch: 169, Train Acc: 0.9429, Loss: 0.1244, Test Acc: 0.6250\n",
            "Epoch: 170, Train Acc: 0.9286, Loss: 0.1150, Test Acc: 0.7500\n",
            "Epoch: 171, Train Acc: 0.9571, Loss: 0.0837, Test Acc: 0.8125\n",
            "Epoch: 172, Train Acc: 0.9500, Loss: 0.0989, Test Acc: 0.7917\n",
            "Epoch: 173, Train Acc: 0.9571, Loss: 0.0875, Test Acc: 0.8125\n",
            "Epoch: 174, Train Acc: 0.9429, Loss: 0.1021, Test Acc: 0.8125\n",
            "Epoch: 175, Train Acc: 0.9643, Loss: 0.1126, Test Acc: 0.8333\n",
            "Epoch: 176, Train Acc: 0.9571, Loss: 0.1300, Test Acc: 0.8333\n",
            "Epoch: 177, Train Acc: 0.9429, Loss: 0.1628, Test Acc: 0.8542\n",
            "Epoch: 178, Train Acc: 0.9357, Loss: 0.1512, Test Acc: 0.8333\n",
            "Epoch: 179, Train Acc: 0.9214, Loss: 0.1334, Test Acc: 0.8542\n",
            "Epoch: 180, Train Acc: 0.9214, Loss: 0.1382, Test Acc: 0.8333\n",
            "Epoch: 181, Train Acc: 0.9357, Loss: 0.1511, Test Acc: 0.8958\n",
            "Epoch: 182, Train Acc: 0.9571, Loss: 0.1176, Test Acc: 0.8750\n",
            "Epoch: 183, Train Acc: 0.9429, Loss: 0.1235, Test Acc: 0.8750\n",
            "Epoch: 184, Train Acc: 0.9286, Loss: 0.1174, Test Acc: 0.8750\n",
            "Epoch: 185, Train Acc: 0.9571, Loss: 0.1159, Test Acc: 0.8750\n",
            "Epoch: 186, Train Acc: 0.9571, Loss: 0.0998, Test Acc: 0.8750\n",
            "Epoch: 187, Train Acc: 0.9571, Loss: 0.1058, Test Acc: 0.8542\n",
            "Epoch: 188, Train Acc: 0.9571, Loss: 0.1024, Test Acc: 0.8542\n",
            "Epoch: 189, Train Acc: 0.9357, Loss: 0.1200, Test Acc: 0.8333\n",
            "Epoch: 190, Train Acc: 0.9571, Loss: 0.1317, Test Acc: 0.8542\n",
            "Epoch: 191, Train Acc: 0.9500, Loss: 0.1036, Test Acc: 0.7917\n",
            "Epoch: 192, Train Acc: 0.9643, Loss: 0.1117, Test Acc: 0.8333\n",
            "Epoch: 193, Train Acc: 0.9643, Loss: 0.1146, Test Acc: 0.8333\n",
            "Epoch: 194, Train Acc: 0.9429, Loss: 0.1055, Test Acc: 0.8542\n",
            "Epoch: 195, Train Acc: 0.9500, Loss: 0.0946, Test Acc: 0.8333\n",
            "Epoch: 196, Train Acc: 0.9429, Loss: 0.1006, Test Acc: 0.8333\n",
            "Epoch: 197, Train Acc: 0.9500, Loss: 0.0821, Test Acc: 0.8333\n",
            "Epoch: 198, Train Acc: 0.9571, Loss: 0.0994, Test Acc: 0.8333\n",
            "Epoch: 199, Train Acc: 0.9429, Loss: 0.1008, Test Acc: 0.8125\n",
            "Epoch: 200, Train Acc: 0.9500, Loss: 0.1242, Test Acc: 0.7917\n"
          ]
        }
      ]
    },
    {
      "cell_type": "code",
      "source": [
        "import matplotlib.pyplot as plt\n",
        "plt.plot(loss_all_gnn, c= 'green', label = 'loss')\n",
        "plt.legend(loc = 1)\n",
        "plt.title(\"Loss\")\n",
        "plt.show()"
      ],
      "metadata": {
        "colab": {
          "base_uri": "https://localhost:8080/",
          "height": 281
        },
        "id": "Bw60uAMTIE_C",
        "outputId": "b74d1996-2745-44fe-a6a6-e31e9c1bc7d9"
      },
      "execution_count": 22,
      "outputs": [
        {
          "output_type": "display_data",
          "data": {
            "text/plain": [
              "<Figure size 432x288 with 1 Axes>"
            ],
            "image/png": "[encoded data removed]"
          },
          "metadata": {
            "needs_background": "light"
          }
        }
      ]
    },
    {
      "cell_type": "code",
      "source": [
        "plt.plot(train_acc_gnn, c = 'blue', label = 'train acc')\n",
        "plt.plot(test_acc_gnn, c = 'red', label = 'test acc')\n",
        "plt.legend(loc = 4)\n",
        "plt.title('Accuracy')\n",
        "plt.show()"
      ],
      "metadata": {
        "colab": {
          "base_uri": "https://localhost:8080/",
          "height": 281
        },
        "id": "802v6fOrIY75",
        "outputId": "7d88dc4d-f19b-42a3-8651-1982df0ec083"
      },
      "execution_count": 23,
      "outputs": [
        {
          "output_type": "display_data",
          "data": {
            "text/plain": [
              "<Figure size 432x288 with 1 Axes>"
            ],
            "image/png": "[encoded data removed]"
          },
          "metadata": {
            "needs_background": "light"
          }
        }
      ]
    }
  ]
}