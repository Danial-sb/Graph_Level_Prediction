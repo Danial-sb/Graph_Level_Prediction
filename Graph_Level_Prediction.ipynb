{
  "nbformat": 4,
  "nbformat_minor": 0,
  "metadata": {
    "colab": {
      "provenance": [],
      "authorship_tag": "ABX9TyNOjlfC7cIbd6bSdIKkMntR",
      "include_colab_link": true
    },
    "kernelspec": {
      "name": "python3",
      "display_name": "Python 3"
    },
    "language_info": {
      "name": "python"
    }
  },
  "cells": [
    {
      "cell_type": "markdown",
      "metadata": {
        "id": "view-in-github",
        "colab_type": "text"
      },
      "source": [
        "<a href=\"https://colab.research.google.com/github/Danial-sb/Graph_Level_Prediction/blob/main/Graph_Level_Prediction.ipynb\" target=\"_parent\"><img src=\"https://colab.research.google.com/assets/colab-badge.svg\" alt=\"Open In Colab\"/></a>"
      ]
    },
    {
      "cell_type": "markdown",
      "source": [
        "#### In this colab, we do graph level prediction for MUTAG dataset. In the part of training the GNN, first we embed the nodes via message passing. second, we aggregate node embeddings into a graph embedding, and finally, we train a classifier on the graph embeddings."
      ],
      "metadata": {
        "id": "bNG1kImgLO9x"
      }
    },
    {
      "cell_type": "markdown",
      "source": [
        "### **What is MUTAG dataset?**\n",
        "\n",
        "MUTAG is a collection of nitroaromatic compounds and the goal is to predict their mutagenicity on Salmonella typhimurium. Input graphs are used to represent chemical compounds, where vertices stand for atoms and are labeled by the atom type (represented by one-hot encoding), while edges between vertices represent bonds between the corresponding atoms. It includes 188 samples of chemical compounds with 7 discrete node labels.\n",
        "\n",
        "##### https://paperswithcode.com/dataset/mutag"
      ],
      "metadata": {
        "id": "Fqh6LhoVMKSJ"
      }
    },
    {
      "cell_type": "code",
      "execution_count": 2,
      "metadata": {
        "colab": {
          "base_uri": "https://localhost:8080/"
        },
        "id": "tjrSopEzrPYW",
        "outputId": "4e5d774a-b2b7-4464-e72f-7a19ede96b69"
      },
      "outputs": [
        {
          "output_type": "stream",
          "name": "stdout",
          "text": [
            "1.12.1+cu113\n"
          ]
        }
      ],
      "source": [
        "import torch\n",
        "print(torch.__version__)"
      ]
    },
    {
      "cell_type": "code",
      "source": [
        "!pip install -q torch-scatter -f https://data.pyg.org/whl/torch-1.12.1+cu113.html\n",
        "!pip install -q torch-sparse -f https://data.pyg.org/whl/torch-1.12.1+cu113.html\n",
        "!pip install -q git+https://github.com/pyg-team/pytorch_geometric.git"
      ],
      "metadata": {
        "colab": {
          "base_uri": "https://localhost:8080/"
        },
        "id": "GAM342RnrWLe",
        "outputId": "9888535f-fb09-4c8b-d79f-7e38310280ef"
      },
      "execution_count": 3,
      "outputs": [
        {
          "output_type": "stream",
          "name": "stdout",
          "text": [
            "\u001b[K     |████████████████████████████████| 8.9 MB 16.6 MB/s \n",
            "\u001b[K     |████████████████████████████████| 3.5 MB 14.7 MB/s \n",
            "\u001b[K     |████████████████████████████████| 280 kB 15.5 MB/s \n",
            "\u001b[?25h  Building wheel for torch-geometric (setup.py) ... \u001b[?25l\u001b[?25hdone\n"
          ]
        }
      ]
    },
    {
      "cell_type": "code",
      "source": [
        "from torch_geometric.datasets import TUDataset\n",
        "from torch_geometric.loader import DataLoader\n",
        "from torch.nn import Linear\n",
        "import torch.nn.functional as F\n",
        "from torch_geometric.nn import GCNConv\n",
        "from torch_geometric.nn import global_mean_pool\n",
        "from torch_geometric.nn import GraphConv\n",
        "import torchvision.transforms as T\n",
        "from torch.nn import BatchNorm1d"
      ],
      "metadata": {
        "id": "T4JwqGWZrfix"
      },
      "execution_count": 4,
      "outputs": []
    },
    {
      "cell_type": "code",
      "source": [
        "dataset = TUDataset('/content/sample_data', 'MUTAG')\n",
        "\n",
        "print(dataset)\n",
        "print(f\"Number of the graphs: {len(dataset)}\")\n",
        "print(f\"Number of features: {dataset.num_features}\")\n",
        "print(f\"Number of classes: {dataset.num_classes}\")"
      ],
      "metadata": {
        "colab": {
          "base_uri": "https://localhost:8080/"
        },
        "id": "yMwdc2marrr6",
        "outputId": "b4aaf9a3-a44c-4e14-c825-8ee8838b2022"
      },
      "execution_count": 5,
      "outputs": [
        {
          "output_type": "stream",
          "name": "stderr",
          "text": [
            "Downloading https://www.chrsmrrs.com/graphkerneldatasets/MUTAG.zip\n",
            "Extracting /content/sample_data/MUTAG/MUTAG.zip\n",
            "Processing...\n"
          ]
        },
        {
          "output_type": "stream",
          "name": "stdout",
          "text": [
            "MUTAG(188)\n",
            "Number of the graphs: 188\n",
            "Number of features: 7\n",
            "Number of classes: 2\n"
          ]
        },
        {
          "output_type": "stream",
          "name": "stderr",
          "text": [
            "Done!\n"
          ]
        }
      ]
    },
    {
      "cell_type": "code",
      "source": [
        "data = dataset[0]\n",
        "\n",
        "print(data)\n",
        "print(f\"Number of nodes in the first graph: {data.num_nodes}\")\n",
        "print(f\"Number of features in the first graph: {data.num_features}\")\n",
        "print(f\"Number of edges in the first graph: {data.num_edges}\")\n",
        "print(f'Average node degree: {data.num_edges / data.num_nodes:.2f}')"
      ],
      "metadata": {
        "colab": {
          "base_uri": "https://localhost:8080/"
        },
        "id": "BhjITcXIsvHl",
        "outputId": "579610b1-12ea-4cb4-9f43-0ad1fbf66928"
      },
      "execution_count": 6,
      "outputs": [
        {
          "output_type": "stream",
          "name": "stdout",
          "text": [
            "Data(edge_index=[2, 38], x=[17, 7], edge_attr=[38, 4], y=[1])\n",
            "Number of nodes in the first graph: 17\n",
            "Number of features in the first graph: 7\n",
            "Number of edges in the first graph: 38\n",
            "Average node degree: 2.24\n"
          ]
        }
      ]
    },
    {
      "cell_type": "code",
      "source": [
        "train_dataset = dataset[:140]\n",
        "test_dataset = dataset[140:]\n",
        "\n",
        "print(f'Number of training graphs: {len(train_dataset)}')\n",
        "print(f'Number of test graphs: {len(test_dataset)}')"
      ],
      "metadata": {
        "colab": {
          "base_uri": "https://localhost:8080/"
        },
        "id": "GM0O9H87tB6H",
        "outputId": "edd13271-60f9-4ce8-b01f-3d3b8f08fa8c"
      },
      "execution_count": 7,
      "outputs": [
        {
          "output_type": "stream",
          "name": "stdout",
          "text": [
            "Number of training graphs: 140\n",
            "Number of test graphs: 48\n"
          ]
        }
      ]
    },
    {
      "cell_type": "code",
      "source": [
        "train_loader = DataLoader(train_dataset, batch_size=64, shuffle=True)\n",
        "test_loader = DataLoader(test_dataset, batch_size=64, shuffle=False)\n",
        "# batch maps each node to its respective graph in the batch\n",
        "for step, data in enumerate(train_loader):\n",
        "    print(f'Step {step + 1}:')\n",
        "    print('=======')\n",
        "    print(f'Number of graphs in the current batch: {data.num_graphs}')\n",
        "    print(data)\n",
        "    print()"
      ],
      "metadata": {
        "colab": {
          "base_uri": "https://localhost:8080/"
        },
        "id": "FBoB3VWAu18c",
        "outputId": "e12eca31-3e11-4354-c53c-262a28631830"
      },
      "execution_count": 8,
      "outputs": [
        {
          "output_type": "stream",
          "name": "stdout",
          "text": [
            "Step 1:\n",
            "=======\n",
            "Number of graphs in the current batch: 64\n",
            "DataBatch(edge_index=[2, 2562], x=[1160, 7], edge_attr=[2562, 4], y=[64], batch=[1160], ptr=[65])\n",
            "\n",
            "Step 2:\n",
            "=======\n",
            "Number of graphs in the current batch: 64\n",
            "DataBatch(edge_index=[2, 2534], x=[1144, 7], edge_attr=[2534, 4], y=[64], batch=[1144], ptr=[65])\n",
            "\n",
            "Step 3:\n",
            "=======\n",
            "Number of graphs in the current batch: 12\n",
            "DataBatch(edge_index=[2, 524], x=[234, 7], edge_attr=[524, 4], y=[12], batch=[234], ptr=[13])\n",
            "\n"
          ]
        }
      ]
    },
    {
      "cell_type": "markdown",
      "source": [
        "In this part, we do the message passing between nodes through 3 GCN layers. Then, we need to aggregate the embeddings to perform graph level prediction, and in this part we use average pooling."
      ],
      "metadata": {
        "id": "9zSo_5WONKLa"
      }
    },
    {
      "cell_type": "code",
      "source": [
        "class GCN(torch.nn.Module):\n",
        "  def __init__(self, input_channels, hidden_channels, output_channels):\n",
        "     super(GCN, self).__init__()\n",
        "\n",
        "     self.conv1 = GCNConv(input_channels, hidden_channels)\n",
        "     self.bn1 = BatchNorm1d(hidden_channels)\n",
        "     self.conv2 = GCNConv(hidden_channels, hidden_channels)\n",
        "     self.bn2 = BatchNorm1d(hidden_channels)\n",
        "     self.conv3 = GCNConv(hidden_channels, hidden_channels)\n",
        "     self.lin = Linear(hidden_channels, output_channels)\n",
        "\n",
        "  def forward(self, x, edge_index, batch):\n",
        "    x = self.conv1(x, edge_index)\n",
        "    x = F.relu(self.bn1(x))\n",
        "    x = self.conv2(x, edge_index)\n",
        "    x = F.relu(self.bn2(x))\n",
        "    x = self.conv3(x, edge_index)\n",
        "\n",
        "    # Average pooling (Readout layer)\n",
        "    x = global_mean_pool(x, batch)\n",
        "\n",
        "    x = F.dropout(x, 0.2, training = self.training)\n",
        "    x = self.lin(x)\n",
        "\n",
        "    return x\n",
        "\n",
        "model = GCN(dataset.num_features, 64, dataset.num_classes)\n",
        "print(model)"
      ],
      "metadata": {
        "colab": {
          "base_uri": "https://localhost:8080/"
        },
        "id": "hivsMs8Kvsx7",
        "outputId": "d20585a4-6287-434d-83c4-bd30b1216a75"
      },
      "execution_count": 11,
      "outputs": [
        {
          "output_type": "stream",
          "name": "stdout",
          "text": [
            "GCN(\n",
            "  (conv1): GCNConv(7, 64)\n",
            "  (bn1): BatchNorm1d(64, eps=1e-05, momentum=0.1, affine=True, track_running_stats=True)\n",
            "  (conv2): GCNConv(64, 64)\n",
            "  (bn2): BatchNorm1d(64, eps=1e-05, momentum=0.1, affine=True, track_running_stats=True)\n",
            "  (conv3): GCNConv(64, 64)\n",
            "  (lin): Linear(in_features=64, out_features=2, bias=True)\n",
            ")\n"
          ]
        }
      ]
    },
    {
      "cell_type": "code",
      "source": [
        "model = GCN(dataset.num_features, 64, dataset.num_classes)\n",
        "optimizer = torch.optim.Adam(model.parameters(), lr=0.01, weight_decay=5e-4)\n",
        "criterion = torch.nn.CrossEntropyLoss()\n",
        "\n",
        "def train():\n",
        "  model.train()\n",
        "  correct = 0\n",
        "  loss_all = 0\n",
        "  total_examples = 0\n",
        "  for data in train_loader:\n",
        "    optimizer.zero_grad()\n",
        "    out = model(data.x, data.edge_index, data.batch)\n",
        "    loss = criterion(out, data.y)\n",
        "    loss.backward()\n",
        "    optimizer.step()\n",
        "    loss_all += loss.item() * data.num_nodes\n",
        "    total_examples += data.num_nodes\n",
        "    pred = out.argmax(dim=1)\n",
        "    correct += int((pred == data.y).sum())\n",
        "  return loss_all / total_examples, (correct / len(train_dataset))\n",
        "\n",
        "@torch.no_grad()\n",
        "def test():\n",
        "     model.eval()\n",
        "     correct = 0\n",
        "     for data in test_loader:\n",
        "         out = model(data.x, data.edge_index, data.batch)  \n",
        "         pred = out.argmax(dim=1)\n",
        "         correct += int((pred == data.y).sum())\n",
        "     return correct / len(test_dataset)\n",
        "\n",
        "loss_all = []\n",
        "train_acc = []\n",
        "test_acc = []\n",
        "for epoch in range(1, 201):\n",
        "    loss, acc = train()\n",
        "    loss_all.append(loss)\n",
        "    train_acc.append(acc)\n",
        "    t_acc = test()\n",
        "    test_acc.append(t_acc)\n",
        "    print(f'Epoch: {epoch}, Train Acc: {acc:.4f}, Loss: {loss:.4f}, Test Acc: {t_acc:.4f}')\n"
      ],
      "metadata": {
        "colab": {
          "base_uri": "https://localhost:8080/"
        },
        "id": "LWPOu37IxeNl",
        "outputId": "5ab5bfcb-012c-4b2a-9f9c-3d9dddcfa62b"
      },
      "execution_count": 12,
      "outputs": [
        {
          "output_type": "stream",
          "name": "stdout",
          "text": [
            "Epoch: 1, Train Acc: 0.4643, Loss: 0.7862, Test Acc: 0.6250\n",
            "Epoch: 2, Train Acc: 0.7571, Loss: 0.5311, Test Acc: 0.6250\n",
            "Epoch: 3, Train Acc: 0.7643, Loss: 0.5075, Test Acc: 0.6250\n",
            "Epoch: 4, Train Acc: 0.7786, Loss: 0.5082, Test Acc: 0.6250\n",
            "Epoch: 5, Train Acc: 0.7714, Loss: 0.4986, Test Acc: 0.6250\n",
            "Epoch: 6, Train Acc: 0.7643, Loss: 0.4831, Test Acc: 0.6250\n",
            "Epoch: 7, Train Acc: 0.7857, Loss: 0.5038, Test Acc: 0.6250\n",
            "Epoch: 8, Train Acc: 0.7857, Loss: 0.4894, Test Acc: 0.6250\n",
            "Epoch: 9, Train Acc: 0.7714, Loss: 0.5013, Test Acc: 0.6250\n",
            "Epoch: 10, Train Acc: 0.7857, Loss: 0.5015, Test Acc: 0.6458\n",
            "Epoch: 11, Train Acc: 0.7929, Loss: 0.4901, Test Acc: 0.6250\n",
            "Epoch: 12, Train Acc: 0.7786, Loss: 0.4966, Test Acc: 0.6458\n",
            "Epoch: 13, Train Acc: 0.8000, Loss: 0.4823, Test Acc: 0.6667\n",
            "Epoch: 14, Train Acc: 0.7714, Loss: 0.4738, Test Acc: 0.6667\n",
            "Epoch: 15, Train Acc: 0.7857, Loss: 0.4697, Test Acc: 0.6458\n",
            "Epoch: 16, Train Acc: 0.7786, Loss: 0.4692, Test Acc: 0.6250\n",
            "Epoch: 17, Train Acc: 0.7857, Loss: 0.4698, Test Acc: 0.7292\n",
            "Epoch: 18, Train Acc: 0.7786, Loss: 0.4823, Test Acc: 0.7292\n",
            "Epoch: 19, Train Acc: 0.7857, Loss: 0.4702, Test Acc: 0.7292\n",
            "Epoch: 20, Train Acc: 0.7786, Loss: 0.4626, Test Acc: 0.7500\n",
            "Epoch: 21, Train Acc: 0.7857, Loss: 0.4621, Test Acc: 0.4375\n",
            "Epoch: 22, Train Acc: 0.7857, Loss: 0.4665, Test Acc: 0.7083\n",
            "Epoch: 23, Train Acc: 0.8143, Loss: 0.4786, Test Acc: 0.7708\n",
            "Epoch: 24, Train Acc: 0.7857, Loss: 0.4587, Test Acc: 0.6875\n",
            "Epoch: 25, Train Acc: 0.7714, Loss: 0.4663, Test Acc: 0.3750\n",
            "Epoch: 26, Train Acc: 0.7786, Loss: 0.4539, Test Acc: 0.6250\n",
            "Epoch: 27, Train Acc: 0.7929, Loss: 0.4617, Test Acc: 0.7083\n",
            "Epoch: 28, Train Acc: 0.7857, Loss: 0.4601, Test Acc: 0.7083\n",
            "Epoch: 29, Train Acc: 0.7643, Loss: 0.4898, Test Acc: 0.7292\n",
            "Epoch: 30, Train Acc: 0.8000, Loss: 0.4489, Test Acc: 0.3750\n",
            "Epoch: 31, Train Acc: 0.7714, Loss: 0.5016, Test Acc: 0.3750\n",
            "Epoch: 32, Train Acc: 0.7857, Loss: 0.4775, Test Acc: 0.4583\n",
            "Epoch: 33, Train Acc: 0.7857, Loss: 0.4354, Test Acc: 0.6875\n",
            "Epoch: 34, Train Acc: 0.7643, Loss: 0.4669, Test Acc: 0.7083\n",
            "Epoch: 35, Train Acc: 0.8000, Loss: 0.4217, Test Acc: 0.7292\n",
            "Epoch: 36, Train Acc: 0.7857, Loss: 0.4583, Test Acc: 0.7083\n",
            "Epoch: 37, Train Acc: 0.8000, Loss: 0.4347, Test Acc: 0.3750\n",
            "Epoch: 38, Train Acc: 0.7929, Loss: 0.4448, Test Acc: 0.4167\n",
            "Epoch: 39, Train Acc: 0.8143, Loss: 0.4607, Test Acc: 0.7083\n",
            "Epoch: 40, Train Acc: 0.7857, Loss: 0.4687, Test Acc: 0.3750\n",
            "Epoch: 41, Train Acc: 0.7786, Loss: 0.4408, Test Acc: 0.4167\n",
            "Epoch: 42, Train Acc: 0.7786, Loss: 0.4620, Test Acc: 0.5625\n",
            "Epoch: 43, Train Acc: 0.7714, Loss: 0.4499, Test Acc: 0.7083\n",
            "Epoch: 44, Train Acc: 0.7929, Loss: 0.4313, Test Acc: 0.7292\n",
            "Epoch: 45, Train Acc: 0.7929, Loss: 0.4322, Test Acc: 0.6875\n",
            "Epoch: 46, Train Acc: 0.8071, Loss: 0.4387, Test Acc: 0.7083\n",
            "Epoch: 47, Train Acc: 0.8143, Loss: 0.4043, Test Acc: 0.3750\n",
            "Epoch: 48, Train Acc: 0.8357, Loss: 0.4125, Test Acc: 0.3750\n",
            "Epoch: 49, Train Acc: 0.8429, Loss: 0.4001, Test Acc: 0.3750\n",
            "Epoch: 50, Train Acc: 0.8286, Loss: 0.4005, Test Acc: 0.7917\n",
            "Epoch: 51, Train Acc: 0.8357, Loss: 0.3773, Test Acc: 0.5833\n",
            "Epoch: 52, Train Acc: 0.8214, Loss: 0.3868, Test Acc: 0.3750\n",
            "Epoch: 53, Train Acc: 0.7857, Loss: 0.4908, Test Acc: 0.3750\n",
            "Epoch: 54, Train Acc: 0.7929, Loss: 0.4062, Test Acc: 0.7292\n",
            "Epoch: 55, Train Acc: 0.8071, Loss: 0.4809, Test Acc: 0.3750\n",
            "Epoch: 56, Train Acc: 0.7357, Loss: 0.4908, Test Acc: 0.3750\n",
            "Epoch: 57, Train Acc: 0.7643, Loss: 0.4656, Test Acc: 0.3750\n",
            "Epoch: 58, Train Acc: 0.8143, Loss: 0.4137, Test Acc: 0.3750\n",
            "Epoch: 59, Train Acc: 0.8071, Loss: 0.4239, Test Acc: 0.3750\n",
            "Epoch: 60, Train Acc: 0.8214, Loss: 0.4002, Test Acc: 0.4792\n",
            "Epoch: 61, Train Acc: 0.7786, Loss: 0.4323, Test Acc: 0.3750\n",
            "Epoch: 62, Train Acc: 0.8000, Loss: 0.4289, Test Acc: 0.4375\n",
            "Epoch: 63, Train Acc: 0.7786, Loss: 0.4586, Test Acc: 0.6875\n",
            "Epoch: 64, Train Acc: 0.7929, Loss: 0.4017, Test Acc: 0.7500\n",
            "Epoch: 65, Train Acc: 0.8071, Loss: 0.4193, Test Acc: 0.3750\n",
            "Epoch: 66, Train Acc: 0.8214, Loss: 0.3862, Test Acc: 0.7083\n",
            "Epoch: 67, Train Acc: 0.8214, Loss: 0.3965, Test Acc: 0.6667\n",
            "Epoch: 68, Train Acc: 0.8143, Loss: 0.3883, Test Acc: 0.3750\n",
            "Epoch: 69, Train Acc: 0.8357, Loss: 0.3701, Test Acc: 0.3750\n",
            "Epoch: 70, Train Acc: 0.8571, Loss: 0.3822, Test Acc: 0.7083\n",
            "Epoch: 71, Train Acc: 0.8286, Loss: 0.3673, Test Acc: 0.7292\n",
            "Epoch: 72, Train Acc: 0.8357, Loss: 0.3752, Test Acc: 0.7708\n",
            "Epoch: 73, Train Acc: 0.8714, Loss: 0.3588, Test Acc: 0.5000\n",
            "Epoch: 74, Train Acc: 0.8786, Loss: 0.3540, Test Acc: 0.5625\n",
            "Epoch: 75, Train Acc: 0.8714, Loss: 0.3411, Test Acc: 0.3542\n",
            "Epoch: 76, Train Acc: 0.8571, Loss: 0.3747, Test Acc: 0.3750\n",
            "Epoch: 77, Train Acc: 0.7571, Loss: 0.4482, Test Acc: 0.3958\n",
            "Epoch: 78, Train Acc: 0.8429, Loss: 0.3540, Test Acc: 0.6042\n",
            "Epoch: 79, Train Acc: 0.8214, Loss: 0.4157, Test Acc: 0.4167\n",
            "Epoch: 80, Train Acc: 0.8286, Loss: 0.3670, Test Acc: 0.4375\n",
            "Epoch: 81, Train Acc: 0.8643, Loss: 0.3728, Test Acc: 0.6667\n",
            "Epoch: 82, Train Acc: 0.8429, Loss: 0.3599, Test Acc: 0.6667\n",
            "Epoch: 83, Train Acc: 0.8286, Loss: 0.3744, Test Acc: 0.7500\n",
            "Epoch: 84, Train Acc: 0.8429, Loss: 0.3663, Test Acc: 0.8125\n",
            "Epoch: 85, Train Acc: 0.8429, Loss: 0.3557, Test Acc: 0.6667\n",
            "Epoch: 86, Train Acc: 0.8643, Loss: 0.3452, Test Acc: 0.6458\n",
            "Epoch: 87, Train Acc: 0.7857, Loss: 0.4306, Test Acc: 0.3125\n",
            "Epoch: 88, Train Acc: 0.8500, Loss: 0.3851, Test Acc: 0.3125\n",
            "Epoch: 89, Train Acc: 0.8571, Loss: 0.3389, Test Acc: 0.6667\n",
            "Epoch: 90, Train Acc: 0.7929, Loss: 0.3719, Test Acc: 0.6458\n",
            "Epoch: 91, Train Acc: 0.8429, Loss: 0.3558, Test Acc: 0.7500\n",
            "Epoch: 92, Train Acc: 0.8429, Loss: 0.3697, Test Acc: 0.3542\n",
            "Epoch: 93, Train Acc: 0.8714, Loss: 0.3733, Test Acc: 0.3542\n",
            "Epoch: 94, Train Acc: 0.8357, Loss: 0.3628, Test Acc: 0.5417\n",
            "Epoch: 95, Train Acc: 0.8714, Loss: 0.3269, Test Acc: 0.4583\n",
            "Epoch: 96, Train Acc: 0.8571, Loss: 0.3288, Test Acc: 0.3750\n",
            "Epoch: 97, Train Acc: 0.8929, Loss: 0.3210, Test Acc: 0.3750\n",
            "Epoch: 98, Train Acc: 0.8643, Loss: 0.3500, Test Acc: 0.3958\n",
            "Epoch: 99, Train Acc: 0.8643, Loss: 0.3277, Test Acc: 0.7708\n",
            "Epoch: 100, Train Acc: 0.8714, Loss: 0.3109, Test Acc: 0.7292\n",
            "Epoch: 101, Train Acc: 0.8643, Loss: 0.3425, Test Acc: 0.6667\n",
            "Epoch: 102, Train Acc: 0.8714, Loss: 0.3692, Test Acc: 0.7083\n",
            "Epoch: 103, Train Acc: 0.8143, Loss: 0.3615, Test Acc: 0.6458\n",
            "Epoch: 104, Train Acc: 0.8643, Loss: 0.3372, Test Acc: 0.6250\n",
            "Epoch: 105, Train Acc: 0.7643, Loss: 0.4341, Test Acc: 0.6667\n",
            "Epoch: 106, Train Acc: 0.7929, Loss: 0.3975, Test Acc: 0.4375\n",
            "Epoch: 107, Train Acc: 0.8357, Loss: 0.3652, Test Acc: 0.5625\n",
            "Epoch: 108, Train Acc: 0.8143, Loss: 0.4097, Test Acc: 0.5833\n",
            "Epoch: 109, Train Acc: 0.8643, Loss: 0.3362, Test Acc: 0.5417\n",
            "Epoch: 110, Train Acc: 0.8786, Loss: 0.3283, Test Acc: 0.6667\n",
            "Epoch: 111, Train Acc: 0.8714, Loss: 0.3228, Test Acc: 0.6875\n",
            "Epoch: 112, Train Acc: 0.8571, Loss: 0.3728, Test Acc: 0.4792\n",
            "Epoch: 113, Train Acc: 0.8357, Loss: 0.3515, Test Acc: 0.3750\n",
            "Epoch: 114, Train Acc: 0.8286, Loss: 0.3726, Test Acc: 0.3750\n",
            "Epoch: 115, Train Acc: 0.8929, Loss: 0.3522, Test Acc: 0.3750\n",
            "Epoch: 116, Train Acc: 0.8786, Loss: 0.3398, Test Acc: 0.7292\n",
            "Epoch: 117, Train Acc: 0.8500, Loss: 0.3662, Test Acc: 0.6875\n",
            "Epoch: 118, Train Acc: 0.8643, Loss: 0.3776, Test Acc: 0.6875\n",
            "Epoch: 119, Train Acc: 0.8571, Loss: 0.3369, Test Acc: 0.7083\n",
            "Epoch: 120, Train Acc: 0.8786, Loss: 0.3158, Test Acc: 0.7083\n",
            "Epoch: 121, Train Acc: 0.8571, Loss: 0.3369, Test Acc: 0.7292\n",
            "Epoch: 122, Train Acc: 0.8643, Loss: 0.3183, Test Acc: 0.7500\n",
            "Epoch: 123, Train Acc: 0.8929, Loss: 0.3093, Test Acc: 0.6875\n",
            "Epoch: 124, Train Acc: 0.8571, Loss: 0.3400, Test Acc: 0.5208\n",
            "Epoch: 125, Train Acc: 0.8357, Loss: 0.3312, Test Acc: 0.7292\n",
            "Epoch: 126, Train Acc: 0.8714, Loss: 0.3257, Test Acc: 0.4792\n",
            "Epoch: 127, Train Acc: 0.8714, Loss: 0.3262, Test Acc: 0.3750\n",
            "Epoch: 128, Train Acc: 0.8643, Loss: 0.2857, Test Acc: 0.4167\n",
            "Epoch: 129, Train Acc: 0.8429, Loss: 0.4140, Test Acc: 0.7292\n",
            "Epoch: 130, Train Acc: 0.8071, Loss: 0.3953, Test Acc: 0.6458\n",
            "Epoch: 131, Train Acc: 0.7857, Loss: 0.4578, Test Acc: 0.6042\n",
            "Epoch: 132, Train Acc: 0.8643, Loss: 0.3937, Test Acc: 0.6875\n",
            "Epoch: 133, Train Acc: 0.8214, Loss: 0.3916, Test Acc: 0.6667\n",
            "Epoch: 134, Train Acc: 0.8571, Loss: 0.3513, Test Acc: 0.6667\n",
            "Epoch: 135, Train Acc: 0.8286, Loss: 0.3717, Test Acc: 0.7292\n",
            "Epoch: 136, Train Acc: 0.8571, Loss: 0.3465, Test Acc: 0.7292\n",
            "Epoch: 137, Train Acc: 0.8929, Loss: 0.3000, Test Acc: 0.4167\n",
            "Epoch: 138, Train Acc: 0.8786, Loss: 0.3224, Test Acc: 0.6875\n",
            "Epoch: 139, Train Acc: 0.8857, Loss: 0.2870, Test Acc: 0.3958\n",
            "Epoch: 140, Train Acc: 0.8643, Loss: 0.3400, Test Acc: 0.3750\n",
            "Epoch: 141, Train Acc: 0.8286, Loss: 0.3299, Test Acc: 0.3750\n",
            "Epoch: 142, Train Acc: 0.8286, Loss: 0.3693, Test Acc: 0.3750\n",
            "Epoch: 143, Train Acc: 0.8429, Loss: 0.3656, Test Acc: 0.3750\n",
            "Epoch: 144, Train Acc: 0.9000, Loss: 0.2944, Test Acc: 0.3750\n",
            "Epoch: 145, Train Acc: 0.8643, Loss: 0.3281, Test Acc: 0.7917\n",
            "Epoch: 146, Train Acc: 0.8357, Loss: 0.3823, Test Acc: 0.6667\n",
            "Epoch: 147, Train Acc: 0.8500, Loss: 0.3836, Test Acc: 0.4583\n",
            "Epoch: 148, Train Acc: 0.8500, Loss: 0.3674, Test Acc: 0.3750\n",
            "Epoch: 149, Train Acc: 0.8714, Loss: 0.3087, Test Acc: 0.7083\n",
            "Epoch: 150, Train Acc: 0.8643, Loss: 0.3412, Test Acc: 0.7500\n",
            "Epoch: 151, Train Acc: 0.8357, Loss: 0.3508, Test Acc: 0.7500\n",
            "Epoch: 152, Train Acc: 0.8714, Loss: 0.3094, Test Acc: 0.7500\n",
            "Epoch: 153, Train Acc: 0.8857, Loss: 0.2978, Test Acc: 0.4792\n",
            "Epoch: 154, Train Acc: 0.8643, Loss: 0.3242, Test Acc: 0.4167\n",
            "Epoch: 155, Train Acc: 0.8714, Loss: 0.3178, Test Acc: 0.4167\n",
            "Epoch: 156, Train Acc: 0.8429, Loss: 0.3377, Test Acc: 0.4583\n",
            "Epoch: 157, Train Acc: 0.8571, Loss: 0.3105, Test Acc: 0.6875\n",
            "Epoch: 158, Train Acc: 0.8500, Loss: 0.3433, Test Acc: 0.7083\n",
            "Epoch: 159, Train Acc: 0.8714, Loss: 0.3147, Test Acc: 0.7500\n",
            "Epoch: 160, Train Acc: 0.8786, Loss: 0.2922, Test Acc: 0.7083\n",
            "Epoch: 161, Train Acc: 0.8714, Loss: 0.3130, Test Acc: 0.4583\n",
            "Epoch: 162, Train Acc: 0.9000, Loss: 0.2715, Test Acc: 0.4167\n",
            "Epoch: 163, Train Acc: 0.8786, Loss: 0.2996, Test Acc: 0.4167\n",
            "Epoch: 164, Train Acc: 0.9000, Loss: 0.2755, Test Acc: 0.8125\n",
            "Epoch: 165, Train Acc: 0.8643, Loss: 0.3564, Test Acc: 0.5000\n",
            "Epoch: 166, Train Acc: 0.8643, Loss: 0.2955, Test Acc: 0.3750\n",
            "Epoch: 167, Train Acc: 0.8357, Loss: 0.3374, Test Acc: 0.3542\n",
            "Epoch: 168, Train Acc: 0.8857, Loss: 0.3310, Test Acc: 0.6667\n",
            "Epoch: 169, Train Acc: 0.8357, Loss: 0.3435, Test Acc: 0.6458\n",
            "Epoch: 170, Train Acc: 0.8357, Loss: 0.3715, Test Acc: 0.6458\n",
            "Epoch: 171, Train Acc: 0.8500, Loss: 0.3389, Test Acc: 0.6042\n",
            "Epoch: 172, Train Acc: 0.8429, Loss: 0.3465, Test Acc: 0.4375\n",
            "Epoch: 173, Train Acc: 0.8857, Loss: 0.2766, Test Acc: 0.3750\n",
            "Epoch: 174, Train Acc: 0.9000, Loss: 0.2853, Test Acc: 0.3750\n",
            "Epoch: 175, Train Acc: 0.8786, Loss: 0.2978, Test Acc: 0.3750\n",
            "Epoch: 176, Train Acc: 0.8857, Loss: 0.3026, Test Acc: 0.3750\n",
            "Epoch: 177, Train Acc: 0.8857, Loss: 0.2684, Test Acc: 0.3750\n",
            "Epoch: 178, Train Acc: 0.8786, Loss: 0.2710, Test Acc: 0.3750\n",
            "Epoch: 179, Train Acc: 0.9000, Loss: 0.2543, Test Acc: 0.3958\n",
            "Epoch: 180, Train Acc: 0.8429, Loss: 0.3106, Test Acc: 0.7083\n",
            "Epoch: 181, Train Acc: 0.8929, Loss: 0.3541, Test Acc: 0.6667\n",
            "Epoch: 182, Train Acc: 0.8857, Loss: 0.2357, Test Acc: 0.6667\n",
            "Epoch: 183, Train Acc: 0.8786, Loss: 0.2578, Test Acc: 0.6875\n",
            "Epoch: 184, Train Acc: 0.8929, Loss: 0.2251, Test Acc: 0.7083\n",
            "Epoch: 185, Train Acc: 0.9143, Loss: 0.2647, Test Acc: 0.7708\n",
            "Epoch: 186, Train Acc: 0.8929, Loss: 0.2500, Test Acc: 0.7708\n",
            "Epoch: 187, Train Acc: 0.9071, Loss: 0.2453, Test Acc: 0.5000\n",
            "Epoch: 188, Train Acc: 0.9000, Loss: 0.2484, Test Acc: 0.7083\n",
            "Epoch: 189, Train Acc: 0.9357, Loss: 0.2228, Test Acc: 0.7500\n",
            "Epoch: 190, Train Acc: 0.9000, Loss: 0.2320, Test Acc: 0.6458\n",
            "Epoch: 191, Train Acc: 0.8643, Loss: 0.2983, Test Acc: 0.6250\n",
            "Epoch: 192, Train Acc: 0.8643, Loss: 0.3387, Test Acc: 0.6458\n",
            "Epoch: 193, Train Acc: 0.8857, Loss: 0.2586, Test Acc: 0.6667\n",
            "Epoch: 194, Train Acc: 0.8500, Loss: 0.2805, Test Acc: 0.3542\n",
            "Epoch: 195, Train Acc: 0.8714, Loss: 0.2765, Test Acc: 0.3542\n",
            "Epoch: 196, Train Acc: 0.8714, Loss: 0.2853, Test Acc: 0.3750\n",
            "Epoch: 197, Train Acc: 0.8714, Loss: 0.2707, Test Acc: 0.3750\n",
            "Epoch: 198, Train Acc: 0.8071, Loss: 0.4112, Test Acc: 0.3542\n",
            "Epoch: 199, Train Acc: 0.8786, Loss: 0.2669, Test Acc: 0.4167\n",
            "Epoch: 200, Train Acc: 0.8214, Loss: 0.4725, Test Acc: 0.6458\n"
          ]
        }
      ]
    },
    {
      "cell_type": "code",
      "source": [
        "import matplotlib.pyplot as plt\n",
        "plt.plot(loss_all, c= 'green', label = 'loss')\n",
        "plt.legend(loc = 1)\n",
        "plt.title('Loss')\n",
        "plt.show()"
      ],
      "metadata": {
        "colab": {
          "base_uri": "https://localhost:8080/",
          "height": 281
        },
        "id": "cUfoN9HHFvoO",
        "outputId": "650da154-d17f-4a73-9973-3ffc0fde98a9"
      },
      "execution_count": 13,
      "outputs": [
        {
          "output_type": "display_data",
          "data": {
            "text/plain": [
              "<Figure size 432x288 with 1 Axes>"
            ],
            "image/png": "[encoded data removed]"
          },
          "metadata": {
            "needs_background": "light"
          }
        }
      ]
    },
    {
      "cell_type": "code",
      "source": [
        "plt.plot(train_acc, c= 'blue', label = 'train acc')\n",
        "plt.plot(test_acc, c = 'red', label = 'test acc')\n",
        "plt.legend(loc = 4)\n",
        "plt.title('Accuracy')\n",
        "plt.show()\n",
        "# the fluctuations can be due to the size of our test data"
      ],
      "metadata": {
        "colab": {
          "base_uri": "https://localhost:8080/",
          "height": 281
        },
        "id": "fCVfEIFjHDQW",
        "outputId": "1280371f-4615-45a1-f13e-cbb5bf85c7f8"
      },
      "execution_count": 19,
      "outputs": [
        {
          "output_type": "display_data",
          "data": {
            "text/plain": [
              "<Figure size 432x288 with 1 Axes>"
            ],
            "image/png": "[encoded data removed]"
          },
          "metadata": {
            "needs_background": "light"
          }
        }
      ]
    },
    {
      "cell_type": "markdown",
      "source": [
        "Neighborhood normalization decreases the expressivity of GNNs in distinguishing certain graph structures. An alternative formulation gets rid of neighborhood normalization and adds a skip-connection to the GNN layer in order to preserve central node information.\n",
        "\n",
        "In the next model, we will implenent make use of GraphConv.\n",
        "\n",
        "##### For more infomration, refer to this paper: [Morris et al. (2018)](https://arxiv.org/abs/1810.02244)"
      ],
      "metadata": {
        "id": "2-GLWEqoSEuU"
      }
    },
    {
      "cell_type": "code",
      "source": [
        "class GNN(torch.nn.Module):\n",
        "    def __init__(self, input_channels, hidden_channels, output_channels):\n",
        "        super(GNN, self).__init__()\n",
        "        self.conv1 = GraphConv(input_channels, hidden_channels)\n",
        "        self.bn1 = BatchNorm1d(hidden_channels)\n",
        "        self.conv2 = GraphConv(hidden_channels, hidden_channels)\n",
        "        self.bn2 = BatchNorm1d(hidden_channels)\n",
        "        self.conv3 = GraphConv(hidden_channels, hidden_channels)\n",
        "        self.lin = Linear(hidden_channels, output_channels)\n",
        "\n",
        "    def forward(self, x, edge_index, batch):\n",
        "        x = self.conv1(x, edge_index)\n",
        "        x = F.relu(self.bn1(x))\n",
        "        x = self.conv2(x, edge_index)\n",
        "        x = F.relu(self.bn2(x))\n",
        "        x = self.conv3(x, edge_index)\n",
        "\n",
        "        x = global_mean_pool(x, batch)\n",
        "\n",
        "        x = F.dropout(x, p=0.5, training=self.training)\n",
        "        x = self.lin(x)\n",
        "        \n",
        "        return x\n",
        "\n",
        "model2 = GNN(dataset.num_features,64, dataset.num_classes)\n",
        "print(model2)"
      ],
      "metadata": {
        "colab": {
          "base_uri": "https://localhost:8080/"
        },
        "id": "amk80tlUL4Tt",
        "outputId": "36e2aaff-8d06-4a26-ba73-5f540b989cb9"
      },
      "execution_count": 15,
      "outputs": [
        {
          "output_type": "stream",
          "name": "stdout",
          "text": [
            "GNN(\n",
            "  (conv1): GraphConv(7, 64)\n",
            "  (bn1): BatchNorm1d(64, eps=1e-05, momentum=0.1, affine=True, track_running_stats=True)\n",
            "  (conv2): GraphConv(64, 64)\n",
            "  (bn2): BatchNorm1d(64, eps=1e-05, momentum=0.1, affine=True, track_running_stats=True)\n",
            "  (conv3): GraphConv(64, 64)\n",
            "  (lin): Linear(in_features=64, out_features=2, bias=True)\n",
            ")\n"
          ]
        }
      ]
    },
    {
      "cell_type": "code",
      "source": [
        "model2 = GNN(dataset.num_features, 64, dataset.num_classes)\n",
        "optimizer = torch.optim.Adam(model2.parameters(), lr=0.01)\n",
        "criterion = torch.nn.CrossEntropyLoss()\n",
        "\n",
        "def train():\n",
        "  model2.train()\n",
        "  correct = 0\n",
        "  loss_all = 0\n",
        "  total_examples = 0\n",
        "  for data in train_loader:\n",
        "    optimizer.zero_grad()\n",
        "    out = model2(data.x, data.edge_index, data.batch)\n",
        "    loss = criterion(out, data.y)\n",
        "    loss.backward()\n",
        "    optimizer.step()\n",
        "    loss_all += loss.item() * data.num_nodes\n",
        "    total_examples += data.num_nodes\n",
        "    pred = out.argmax(dim=1)\n",
        "    correct += int((pred == data.y).sum())\n",
        "  return (loss_all / total_examples), (correct / len(train_dataset))\n",
        "\n",
        "@torch.no_grad()\n",
        "def test():\n",
        "     model2.eval()\n",
        "     correct = 0\n",
        "     for data in test_loader:\n",
        "         out = model2(data.x, data.edge_index, data.batch)  \n",
        "         pred = out.argmax(dim=1)\n",
        "         correct += int((pred == data.y).sum())\n",
        "     return correct / len(test_dataset)\n",
        "\n",
        "loss_all_gnn = []\n",
        "train_acc_gnn = []\n",
        "test_acc_gnn = []\n",
        "for epoch in range(1, 201):\n",
        "    loss, acc = train()\n",
        "    loss_all_gnn.append(loss)\n",
        "    train_acc_gnn.append(acc)\n",
        "    t_acc = test()\n",
        "    test_acc_gnn.append(t_acc)\n",
        "    print(f'Epoch: {epoch}, Train Acc: {acc:.4f}, Loss: {loss:.4f}, Test Acc: {t_acc:.4f}')\n"
      ],
      "metadata": {
        "colab": {
          "base_uri": "https://localhost:8080/"
        },
        "id": "Vggwgn8e9YUf",
        "outputId": "bfa56a3c-6c5b-4f4d-bd7a-ab1f71bd7c66"
      },
      "execution_count": 16,
      "outputs": [
        {
          "output_type": "stream",
          "name": "stdout",
          "text": [
            "Epoch: 1, Train Acc: 0.4786, Loss: 1.0152, Test Acc: 0.6250\n",
            "Epoch: 2, Train Acc: 0.6786, Loss: 1.1989, Test Acc: 0.6250\n",
            "Epoch: 3, Train Acc: 0.6857, Loss: 0.6347, Test Acc: 0.7500\n",
            "Epoch: 4, Train Acc: 0.5714, Loss: 0.7218, Test Acc: 0.6250\n",
            "Epoch: 5, Train Acc: 0.8286, Loss: 0.3780, Test Acc: 0.6250\n",
            "Epoch: 6, Train Acc: 0.7500, Loss: 0.4565, Test Acc: 0.6250\n",
            "Epoch: 7, Train Acc: 0.7857, Loss: 0.4288, Test Acc: 0.7500\n",
            "Epoch: 8, Train Acc: 0.8071, Loss: 0.3690, Test Acc: 0.7083\n",
            "Epoch: 9, Train Acc: 0.8286, Loss: 0.3554, Test Acc: 0.6667\n",
            "Epoch: 10, Train Acc: 0.8214, Loss: 0.3752, Test Acc: 0.5000\n",
            "Epoch: 11, Train Acc: 0.8500, Loss: 0.3246, Test Acc: 0.7083\n",
            "Epoch: 12, Train Acc: 0.8714, Loss: 0.4007, Test Acc: 0.6042\n",
            "Epoch: 13, Train Acc: 0.8786, Loss: 0.2890, Test Acc: 0.6667\n",
            "Epoch: 14, Train Acc: 0.8714, Loss: 0.2628, Test Acc: 0.7292\n",
            "Epoch: 15, Train Acc: 0.8500, Loss: 0.2675, Test Acc: 0.7083\n",
            "Epoch: 16, Train Acc: 0.9071, Loss: 0.2412, Test Acc: 0.7292\n",
            "Epoch: 17, Train Acc: 0.9214, Loss: 0.2808, Test Acc: 0.7708\n",
            "Epoch: 18, Train Acc: 0.9429, Loss: 0.2148, Test Acc: 0.8333\n",
            "Epoch: 19, Train Acc: 0.8857, Loss: 0.2430, Test Acc: 0.8542\n",
            "Epoch: 20, Train Acc: 0.8929, Loss: 0.2353, Test Acc: 0.7917\n",
            "Epoch: 21, Train Acc: 0.8571, Loss: 0.2817, Test Acc: 0.7917\n",
            "Epoch: 22, Train Acc: 0.9357, Loss: 0.2110, Test Acc: 0.7292\n",
            "Epoch: 23, Train Acc: 0.9357, Loss: 0.2286, Test Acc: 0.7292\n",
            "Epoch: 24, Train Acc: 0.9500, Loss: 0.2021, Test Acc: 0.7917\n",
            "Epoch: 25, Train Acc: 0.9357, Loss: 0.2357, Test Acc: 0.8125\n",
            "Epoch: 26, Train Acc: 0.9071, Loss: 0.2479, Test Acc: 0.8125\n",
            "Epoch: 27, Train Acc: 0.9000, Loss: 0.2398, Test Acc: 0.7917\n",
            "Epoch: 28, Train Acc: 0.9000, Loss: 0.2154, Test Acc: 0.8125\n",
            "Epoch: 29, Train Acc: 0.9071, Loss: 0.2185, Test Acc: 0.8125\n",
            "Epoch: 30, Train Acc: 0.9214, Loss: 0.2083, Test Acc: 0.6667\n",
            "Epoch: 31, Train Acc: 0.9214, Loss: 0.2622, Test Acc: 0.7292\n",
            "Epoch: 32, Train Acc: 0.9429, Loss: 0.2276, Test Acc: 0.7708\n",
            "Epoch: 33, Train Acc: 0.9143, Loss: 0.2290, Test Acc: 0.8125\n",
            "Epoch: 34, Train Acc: 0.8929, Loss: 0.2237, Test Acc: 0.8333\n",
            "Epoch: 35, Train Acc: 0.9000, Loss: 0.2369, Test Acc: 0.8542\n",
            "Epoch: 36, Train Acc: 0.9214, Loss: 0.2023, Test Acc: 0.8333\n",
            "Epoch: 37, Train Acc: 0.9071, Loss: 0.2122, Test Acc: 0.7917\n",
            "Epoch: 38, Train Acc: 0.8929, Loss: 0.1898, Test Acc: 0.8125\n",
            "Epoch: 39, Train Acc: 0.9214, Loss: 0.2212, Test Acc: 0.7708\n",
            "Epoch: 40, Train Acc: 0.9357, Loss: 0.1887, Test Acc: 0.8125\n",
            "Epoch: 41, Train Acc: 0.9357, Loss: 0.1803, Test Acc: 0.7917\n",
            "Epoch: 42, Train Acc: 0.9143, Loss: 0.1900, Test Acc: 0.7917\n",
            "Epoch: 43, Train Acc: 0.9071, Loss: 0.2135, Test Acc: 0.8333\n",
            "Epoch: 44, Train Acc: 0.9143, Loss: 0.1935, Test Acc: 0.8333\n",
            "Epoch: 45, Train Acc: 0.8857, Loss: 0.2357, Test Acc: 0.7500\n",
            "Epoch: 46, Train Acc: 0.9286, Loss: 0.1990, Test Acc: 0.6875\n",
            "Epoch: 47, Train Acc: 0.9071, Loss: 0.3442, Test Acc: 0.7708\n",
            "Epoch: 48, Train Acc: 0.9500, Loss: 0.1778, Test Acc: 0.7917\n",
            "Epoch: 49, Train Acc: 0.9286, Loss: 0.1872, Test Acc: 0.8125\n",
            "Epoch: 50, Train Acc: 0.9286, Loss: 0.1832, Test Acc: 0.7708\n",
            "Epoch: 51, Train Acc: 0.9214, Loss: 0.1738, Test Acc: 0.7708\n",
            "Epoch: 52, Train Acc: 0.9286, Loss: 0.2016, Test Acc: 0.7917\n",
            "Epoch: 53, Train Acc: 0.9214, Loss: 0.1619, Test Acc: 0.8333\n",
            "Epoch: 54, Train Acc: 0.9429, Loss: 0.1790, Test Acc: 0.8333\n",
            "Epoch: 55, Train Acc: 0.9571, Loss: 0.1608, Test Acc: 0.7500\n",
            "Epoch: 56, Train Acc: 0.9429, Loss: 0.1621, Test Acc: 0.7083\n",
            "Epoch: 57, Train Acc: 0.9429, Loss: 0.1851, Test Acc: 0.7708\n",
            "Epoch: 58, Train Acc: 0.9286, Loss: 0.1676, Test Acc: 0.7917\n",
            "Epoch: 59, Train Acc: 0.9286, Loss: 0.1717, Test Acc: 0.8542\n",
            "Epoch: 60, Train Acc: 0.8714, Loss: 0.2426, Test Acc: 0.8125\n",
            "Epoch: 61, Train Acc: 0.9286, Loss: 0.1688, Test Acc: 0.7917\n",
            "Epoch: 62, Train Acc: 0.9357, Loss: 0.1622, Test Acc: 0.7500\n",
            "Epoch: 63, Train Acc: 0.9214, Loss: 0.1975, Test Acc: 0.8125\n",
            "Epoch: 64, Train Acc: 0.9500, Loss: 0.1483, Test Acc: 0.8333\n",
            "Epoch: 65, Train Acc: 0.9214, Loss: 0.2045, Test Acc: 0.8125\n",
            "Epoch: 66, Train Acc: 0.9357, Loss: 0.1459, Test Acc: 0.8125\n",
            "Epoch: 67, Train Acc: 0.9429, Loss: 0.1445, Test Acc: 0.8542\n",
            "Epoch: 68, Train Acc: 0.9429, Loss: 0.1449, Test Acc: 0.8333\n",
            "Epoch: 69, Train Acc: 0.9357, Loss: 0.1395, Test Acc: 0.8333\n",
            "Epoch: 70, Train Acc: 0.9500, Loss: 0.1395, Test Acc: 0.8125\n",
            "Epoch: 71, Train Acc: 0.9214, Loss: 0.2168, Test Acc: 0.6458\n",
            "Epoch: 72, Train Acc: 0.9500, Loss: 0.1657, Test Acc: 0.7708\n",
            "Epoch: 73, Train Acc: 0.9286, Loss: 0.1723, Test Acc: 0.7083\n",
            "Epoch: 74, Train Acc: 0.9286, Loss: 0.1713, Test Acc: 0.7083\n",
            "Epoch: 75, Train Acc: 0.9143, Loss: 0.1898, Test Acc: 0.7292\n",
            "Epoch: 76, Train Acc: 0.9286, Loss: 0.1669, Test Acc: 0.7917\n",
            "Epoch: 77, Train Acc: 0.9571, Loss: 0.1369, Test Acc: 0.8333\n",
            "Epoch: 78, Train Acc: 0.9429, Loss: 0.1546, Test Acc: 0.8125\n",
            "Epoch: 79, Train Acc: 0.9214, Loss: 0.1702, Test Acc: 0.7917\n",
            "Epoch: 80, Train Acc: 0.9571, Loss: 0.1321, Test Acc: 0.8125\n",
            "Epoch: 81, Train Acc: 0.9429, Loss: 0.1389, Test Acc: 0.8125\n",
            "Epoch: 82, Train Acc: 0.9643, Loss: 0.1286, Test Acc: 0.7917\n",
            "Epoch: 83, Train Acc: 0.9500, Loss: 0.1273, Test Acc: 0.8542\n",
            "Epoch: 84, Train Acc: 0.9500, Loss: 0.1299, Test Acc: 0.8333\n",
            "Epoch: 85, Train Acc: 0.9429, Loss: 0.1201, Test Acc: 0.8333\n",
            "Epoch: 86, Train Acc: 0.9214, Loss: 0.1241, Test Acc: 0.8125\n",
            "Epoch: 87, Train Acc: 0.9214, Loss: 0.1646, Test Acc: 0.8125\n",
            "Epoch: 88, Train Acc: 0.9214, Loss: 0.1571, Test Acc: 0.8125\n",
            "Epoch: 89, Train Acc: 0.9571, Loss: 0.1131, Test Acc: 0.7708\n",
            "Epoch: 90, Train Acc: 0.9357, Loss: 0.1832, Test Acc: 0.8125\n",
            "Epoch: 91, Train Acc: 0.9357, Loss: 0.1416, Test Acc: 0.8125\n",
            "Epoch: 92, Train Acc: 0.9286, Loss: 0.1104, Test Acc: 0.8333\n",
            "Epoch: 93, Train Acc: 0.9500, Loss: 0.1132, Test Acc: 0.7917\n",
            "Epoch: 94, Train Acc: 0.9286, Loss: 0.1504, Test Acc: 0.8333\n",
            "Epoch: 95, Train Acc: 0.9286, Loss: 0.1335, Test Acc: 0.7917\n",
            "Epoch: 96, Train Acc: 0.9214, Loss: 0.2270, Test Acc: 0.7292\n",
            "Epoch: 97, Train Acc: 0.9429, Loss: 0.1572, Test Acc: 0.7708\n",
            "Epoch: 98, Train Acc: 0.9286, Loss: 0.1926, Test Acc: 0.8125\n",
            "Epoch: 99, Train Acc: 0.9500, Loss: 0.1303, Test Acc: 0.8333\n",
            "Epoch: 100, Train Acc: 0.9286, Loss: 0.1437, Test Acc: 0.8333\n",
            "Epoch: 101, Train Acc: 0.9357, Loss: 0.1535, Test Acc: 0.8125\n",
            "Epoch: 102, Train Acc: 0.9357, Loss: 0.1128, Test Acc: 0.7917\n",
            "Epoch: 103, Train Acc: 0.9000, Loss: 0.1933, Test Acc: 0.7708\n",
            "Epoch: 104, Train Acc: 0.9214, Loss: 0.1657, Test Acc: 0.7917\n",
            "Epoch: 105, Train Acc: 0.9357, Loss: 0.1574, Test Acc: 0.7708\n",
            "Epoch: 106, Train Acc: 0.9500, Loss: 0.1207, Test Acc: 0.8125\n",
            "Epoch: 107, Train Acc: 0.9071, Loss: 0.1718, Test Acc: 0.8125\n",
            "Epoch: 108, Train Acc: 0.9429, Loss: 0.1508, Test Acc: 0.8125\n",
            "Epoch: 109, Train Acc: 0.9357, Loss: 0.1323, Test Acc: 0.8333\n",
            "Epoch: 110, Train Acc: 0.9571, Loss: 0.1218, Test Acc: 0.8125\n",
            "Epoch: 111, Train Acc: 0.9643, Loss: 0.1269, Test Acc: 0.7917\n",
            "Epoch: 112, Train Acc: 0.9500, Loss: 0.1384, Test Acc: 0.8125\n",
            "Epoch: 113, Train Acc: 0.9357, Loss: 0.1254, Test Acc: 0.8125\n",
            "Epoch: 114, Train Acc: 0.9357, Loss: 0.1417, Test Acc: 0.8125\n",
            "Epoch: 115, Train Acc: 0.9643, Loss: 0.1110, Test Acc: 0.8125\n",
            "Epoch: 116, Train Acc: 0.9500, Loss: 0.1041, Test Acc: 0.7917\n",
            "Epoch: 117, Train Acc: 0.9571, Loss: 0.1382, Test Acc: 0.8333\n",
            "Epoch: 118, Train Acc: 0.9429, Loss: 0.1264, Test Acc: 0.8125\n",
            "Epoch: 119, Train Acc: 0.9500, Loss: 0.1803, Test Acc: 0.7917\n",
            "Epoch: 120, Train Acc: 0.9429, Loss: 0.1423, Test Acc: 0.7917\n",
            "Epoch: 121, Train Acc: 0.9071, Loss: 0.2164, Test Acc: 0.7500\n",
            "Epoch: 122, Train Acc: 0.9214, Loss: 0.2122, Test Acc: 0.7708\n",
            "Epoch: 123, Train Acc: 0.9357, Loss: 0.1545, Test Acc: 0.7917\n",
            "Epoch: 124, Train Acc: 0.9214, Loss: 0.1689, Test Acc: 0.7708\n",
            "Epoch: 125, Train Acc: 0.9071, Loss: 0.1744, Test Acc: 0.7500\n",
            "Epoch: 126, Train Acc: 0.9429, Loss: 0.1375, Test Acc: 0.7500\n",
            "Epoch: 127, Train Acc: 0.9286, Loss: 0.1439, Test Acc: 0.8125\n",
            "Epoch: 128, Train Acc: 0.9286, Loss: 0.1568, Test Acc: 0.8333\n",
            "Epoch: 129, Train Acc: 0.9500, Loss: 0.1583, Test Acc: 0.8125\n",
            "Epoch: 130, Train Acc: 0.9500, Loss: 0.1224, Test Acc: 0.7917\n",
            "Epoch: 131, Train Acc: 0.9429, Loss: 0.1580, Test Acc: 0.7708\n",
            "Epoch: 132, Train Acc: 0.9214, Loss: 0.1716, Test Acc: 0.7917\n",
            "Epoch: 133, Train Acc: 0.9571, Loss: 0.1166, Test Acc: 0.8542\n",
            "Epoch: 134, Train Acc: 0.9357, Loss: 0.2266, Test Acc: 0.8333\n",
            "Epoch: 135, Train Acc: 0.9071, Loss: 0.1542, Test Acc: 0.8542\n",
            "Epoch: 136, Train Acc: 0.9357, Loss: 0.1258, Test Acc: 0.8542\n",
            "Epoch: 137, Train Acc: 0.9571, Loss: 0.1161, Test Acc: 0.7500\n",
            "Epoch: 138, Train Acc: 0.9357, Loss: 0.1310, Test Acc: 0.7500\n",
            "Epoch: 139, Train Acc: 0.9429, Loss: 0.1353, Test Acc: 0.8125\n",
            "Epoch: 140, Train Acc: 0.9500, Loss: 0.1207, Test Acc: 0.8125\n",
            "Epoch: 141, Train Acc: 0.9571, Loss: 0.1049, Test Acc: 0.8125\n",
            "Epoch: 142, Train Acc: 0.9643, Loss: 0.1206, Test Acc: 0.8542\n",
            "Epoch: 143, Train Acc: 0.9429, Loss: 0.1180, Test Acc: 0.8125\n",
            "Epoch: 144, Train Acc: 0.9429, Loss: 0.1178, Test Acc: 0.8125\n",
            "Epoch: 145, Train Acc: 0.9571, Loss: 0.1082, Test Acc: 0.8333\n",
            "Epoch: 146, Train Acc: 0.9714, Loss: 0.0990, Test Acc: 0.8125\n",
            "Epoch: 147, Train Acc: 0.9286, Loss: 0.1412, Test Acc: 0.8125\n",
            "Epoch: 148, Train Acc: 0.9429, Loss: 0.1379, Test Acc: 0.8125\n",
            "Epoch: 149, Train Acc: 0.9500, Loss: 0.1315, Test Acc: 0.8125\n",
            "Epoch: 150, Train Acc: 0.9571, Loss: 0.1060, Test Acc: 0.8125\n",
            "Epoch: 151, Train Acc: 0.9643, Loss: 0.1061, Test Acc: 0.8333\n",
            "Epoch: 152, Train Acc: 0.9286, Loss: 0.1350, Test Acc: 0.8542\n",
            "Epoch: 153, Train Acc: 0.9214, Loss: 0.1752, Test Acc: 0.8125\n",
            "Epoch: 154, Train Acc: 0.9214, Loss: 0.1891, Test Acc: 0.8750\n",
            "Epoch: 155, Train Acc: 0.9429, Loss: 0.1224, Test Acc: 0.8125\n",
            "Epoch: 156, Train Acc: 0.9214, Loss: 0.1746, Test Acc: 0.7917\n",
            "Epoch: 157, Train Acc: 0.9286, Loss: 0.1788, Test Acc: 0.7917\n",
            "Epoch: 158, Train Acc: 0.9429, Loss: 0.1552, Test Acc: 0.8125\n",
            "Epoch: 159, Train Acc: 0.9571, Loss: 0.1354, Test Acc: 0.8125\n",
            "Epoch: 160, Train Acc: 0.9429, Loss: 0.1256, Test Acc: 0.7917\n",
            "Epoch: 161, Train Acc: 0.9571, Loss: 0.1182, Test Acc: 0.7708\n",
            "Epoch: 162, Train Acc: 0.9357, Loss: 0.1474, Test Acc: 0.8125\n",
            "Epoch: 163, Train Acc: 0.9357, Loss: 0.1195, Test Acc: 0.8125\n",
            "Epoch: 164, Train Acc: 0.9571, Loss: 0.1174, Test Acc: 0.8125\n",
            "Epoch: 165, Train Acc: 0.9571, Loss: 0.0899, Test Acc: 0.8125\n",
            "Epoch: 166, Train Acc: 0.9643, Loss: 0.1021, Test Acc: 0.8125\n",
            "Epoch: 167, Train Acc: 0.9429, Loss: 0.1282, Test Acc: 0.8125\n",
            "Epoch: 168, Train Acc: 0.9571, Loss: 0.0867, Test Acc: 0.8125\n",
            "Epoch: 169, Train Acc: 0.9500, Loss: 0.1119, Test Acc: 0.8333\n",
            "Epoch: 170, Train Acc: 0.9500, Loss: 0.1107, Test Acc: 0.8125\n",
            "Epoch: 171, Train Acc: 0.9500, Loss: 0.1080, Test Acc: 0.8125\n",
            "Epoch: 172, Train Acc: 0.9500, Loss: 0.0999, Test Acc: 0.8333\n",
            "Epoch: 173, Train Acc: 0.9571, Loss: 0.0845, Test Acc: 0.8333\n",
            "Epoch: 174, Train Acc: 0.9500, Loss: 0.0933, Test Acc: 0.8333\n",
            "Epoch: 175, Train Acc: 0.9429, Loss: 0.1149, Test Acc: 0.8542\n",
            "Epoch: 176, Train Acc: 0.9571, Loss: 0.1056, Test Acc: 0.8333\n",
            "Epoch: 177, Train Acc: 0.9571, Loss: 0.1650, Test Acc: 0.8125\n",
            "Epoch: 178, Train Acc: 0.9500, Loss: 0.1228, Test Acc: 0.8333\n",
            "Epoch: 179, Train Acc: 0.9357, Loss: 0.1247, Test Acc: 0.8125\n",
            "Epoch: 180, Train Acc: 0.9286, Loss: 0.1566, Test Acc: 0.5417\n",
            "Epoch: 181, Train Acc: 0.9143, Loss: 0.2229, Test Acc: 0.6667\n",
            "Epoch: 182, Train Acc: 0.9500, Loss: 0.1264, Test Acc: 0.7917\n",
            "Epoch: 183, Train Acc: 0.9571, Loss: 0.1476, Test Acc: 0.8750\n",
            "Epoch: 184, Train Acc: 0.9714, Loss: 0.1100, Test Acc: 0.8542\n",
            "Epoch: 185, Train Acc: 0.9429, Loss: 0.0962, Test Acc: 0.8542\n",
            "Epoch: 186, Train Acc: 0.9357, Loss: 0.1601, Test Acc: 0.8333\n",
            "Epoch: 187, Train Acc: 0.9357, Loss: 0.1309, Test Acc: 0.8125\n",
            "Epoch: 188, Train Acc: 0.9429, Loss: 0.1129, Test Acc: 0.8333\n",
            "Epoch: 189, Train Acc: 0.9500, Loss: 0.1140, Test Acc: 0.8333\n",
            "Epoch: 190, Train Acc: 0.9571, Loss: 0.0925, Test Acc: 0.8333\n",
            "Epoch: 191, Train Acc: 0.9357, Loss: 0.1344, Test Acc: 0.8333\n",
            "Epoch: 192, Train Acc: 0.9429, Loss: 0.1115, Test Acc: 0.8333\n",
            "Epoch: 193, Train Acc: 0.9500, Loss: 0.1201, Test Acc: 0.8333\n",
            "Epoch: 194, Train Acc: 0.9357, Loss: 0.1415, Test Acc: 0.8125\n",
            "Epoch: 195, Train Acc: 0.9429, Loss: 0.1145, Test Acc: 0.8333\n",
            "Epoch: 196, Train Acc: 0.9500, Loss: 0.1377, Test Acc: 0.8333\n",
            "Epoch: 197, Train Acc: 0.9643, Loss: 0.0950, Test Acc: 0.8542\n",
            "Epoch: 198, Train Acc: 0.9500, Loss: 0.1043, Test Acc: 0.8333\n",
            "Epoch: 199, Train Acc: 0.9571, Loss: 0.1053, Test Acc: 0.8333\n",
            "Epoch: 200, Train Acc: 0.9357, Loss: 0.1329, Test Acc: 0.8542\n"
          ]
        }
      ]
    },
    {
      "cell_type": "code",
      "source": [
        "import matplotlib.pyplot as plt\n",
        "plt.plot(loss_all_gnn, c= 'green', label = 'loss')\n",
        "plt.legend(loc = 1)\n",
        "plt.title(\"Loss\")\n",
        "plt.show()"
      ],
      "metadata": {
        "colab": {
          "base_uri": "https://localhost:8080/",
          "height": 281
        },
        "id": "Bw60uAMTIE_C",
        "outputId": "a4ee57f6-a198-447d-c456-c46b955eb2cc"
      },
      "execution_count": 17,
      "outputs": [
        {
          "output_type": "display_data",
          "data": {
            "text/plain": [
              "<Figure size 432x288 with 1 Axes>"
            ],
            "image/png": "[encoded data removed]"
          },
          "metadata": {
            "needs_background": "light"
          }
        }
      ]
    },
    {
      "cell_type": "code",
      "source": [
        "plt.plot(train_acc_gnn, c = 'blue', label = 'train acc')\n",
        "plt.plot(test_acc_gnn, c = 'red', label = 'test acc')\n",
        "plt.legend(loc = 4)\n",
        "plt.title('Accuracy')\n",
        "plt.show()"
      ],
      "metadata": {
        "colab": {
          "base_uri": "https://localhost:8080/",
          "height": 281
        },
        "id": "802v6fOrIY75",
        "outputId": "20f0e8aa-fe45-4e54-bd47-d24abdd031d8"
      },
      "execution_count": 20,
      "outputs": [
        {
          "output_type": "display_data",
          "data": {
            "text/plain": [
              "<Figure size 432x288 with 1 Axes>"
            ],
            "image/png": "[encoded data removed]"
          },
          "metadata": {
            "needs_background": "light"
          }
        }
      ]
    }
  ]
}